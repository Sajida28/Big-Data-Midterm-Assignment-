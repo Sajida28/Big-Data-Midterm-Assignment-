{
 "cells": [
  {
   "cell_type": "markdown",
   "metadata": {
    "application/vnd.databricks.v1+cell": {
     "cellMetadata": {
      "byteLimit": 2048000,
      "rowLimit": 10000
     },
     "inputWidgets": {},
     "nuid": "fc7c4d60-e66d-4076-89de-11fc92e39f2b",
     "showTitle": false,
     "title": ""
    }
   },
   "source": [
    "## 🤖 Spark, PySpark, and Spark SQL Programming Assignment\n",
    "\n",
    "**due: March 8th (11:59pm)** \\\n",
    "**name:** Sajida Malik"
   ]
  },
  {
   "cell_type": "markdown",
   "metadata": {
    "application/vnd.databricks.v1+cell": {
     "cellMetadata": {
      "byteLimit": 2048000,
      "rowLimit": 10000
     },
     "inputWidgets": {},
     "nuid": "8bb19645-d660-4f25-8b88-8c1c1de4f9d0",
     "showTitle": false,
     "title": ""
    }
   },
   "source": [
    "#### part I: 🏠 median rental data (warm-up) "
   ]
  },
  {
   "cell_type": "code",
   "execution_count": 0,
   "metadata": {
    "application/vnd.databricks.v1+cell": {
     "cellMetadata": {
      "byteLimit": 2048000,
      "rowLimit": 10000
     },
     "inputWidgets": {},
     "nuid": "c459326c-2df2-4a98-8a90-f10978524ab8",
     "showTitle": false,
     "title": ""
    }
   },
   "outputs": [],
   "source": [
    "# uncomment the following code & run it to import libraries\n",
    "\n",
    "from pyspark.sql import SparkSession"
   ]
  },
  {
   "cell_type": "code",
   "execution_count": 0,
   "metadata": {
    "application/vnd.databricks.v1+cell": {
     "cellMetadata": {
      "byteLimit": 2048000,
      "rowLimit": 10000
     },
     "inputWidgets": {},
     "nuid": "67d6c02d-c316-434a-a1a6-ea06422eb35e",
     "showTitle": false,
     "title": ""
    }
   },
   "outputs": [
    {
     "output_type": "stream",
     "name": "stdout",
     "output_type": "stream",
     "text": [
      "<pyspark.sql.session.SparkSession object at 0x7f21b6481db0>\n"
     ]
    }
   ],
   "source": [
    "# create a new spark session\n",
    "\n",
    "spark = SparkSession.builder.getOrCreate()\n",
    "print(spark) #to check the session is built correctly"
   ]
  },
  {
   "cell_type": "code",
   "execution_count": 0,
   "metadata": {
    "application/vnd.databricks.v1+cell": {
     "cellMetadata": {
      "byteLimit": 2048000,
      "rowLimit": 10000
     },
     "inputWidgets": {},
     "nuid": "83e74d50-a7a7-4deb-bd19-9f638628160c",
     "showTitle": false,
     "title": ""
    }
   },
   "outputs": [
    {
     "output_type": "stream",
     "name": "stdout",
     "output_type": "stream",
     "text": [
      "[['Bronx', 'borough', 2195, 2200], ['Brooklyn', 'borough', 2999, 2999], ['Manhattan', 'borough', 4000, 4100], ['Queens', 'borough', 2500, 2495], ['Staten Island', 'borough', 1600, 1600]]\n"
     ]
    }
   ],
   "source": [
    "# create an RDD out of the data listed below:\n",
    "\n",
    "median_rent = [\n",
    "    [\"Bronx\", \"borough\", 2195, 2200],\n",
    "    [\"Brooklyn\", \"borough\", 2999, 2999],\n",
    "    [\"Manhattan\", \"borough\", 4000, 4100],\n",
    "    [\"Queens\", \"borough\", 2500, 2495],\n",
    "    [\"Staten Island\", \"borough\", 1600, 1600]\n",
    "]\n",
    "median_rent_rdd = spark.sparkContext.parallelize(median_rent)\n",
    "# confirming that RDD contains correct data\n",
    "print(median_rent_rdd.collect())"
   ]
  },
  {
   "cell_type": "code",
   "execution_count": 0,
   "metadata": {
    "application/vnd.databricks.v1+cell": {
     "cellMetadata": {
      "byteLimit": 2048000,
      "rowLimit": 10000
     },
     "inputWidgets": {},
     "nuid": "6d2ff2b9-70e2-4018-90fd-fd538300744d",
     "showTitle": false,
     "title": ""
    }
   },
   "outputs": [
    {
     "output_type": "stream",
     "name": "stdout",
     "output_type": "stream",
     "text": [
      "8\n"
     ]
    }
   ],
   "source": [
    "# display how many partitions are used in this RDD\n",
    "# (using getNumPartitions function)\n",
    "\n",
    "print(median_rent_rdd.getNumPartitions())\n"
   ]
  },
  {
   "cell_type": "code",
   "execution_count": 0,
   "metadata": {
    "application/vnd.databricks.v1+cell": {
     "cellMetadata": {
      "byteLimit": 2048000,
      "rowLimit": 10000
     },
     "inputWidgets": {},
     "nuid": "d8e6f785-7cab-4142-b9c9-78e1c45a09fb",
     "showTitle": false,
     "title": ""
    }
   },
   "outputs": [],
   "source": [
    "# create a new DataFrame from the RDD, with the following column names:\n",
    "# \"areaName\", \"areaType\", \"2023-12\", \"2024-01\" \n",
    "\n",
    "median_rent_df = median_rent_rdd.toDF([\"areaName\",\"areaType\", \"2023-12\", \"2024-01\"])\n"
   ]
  },
  {
   "cell_type": "code",
   "execution_count": 0,
   "metadata": {
    "application/vnd.databricks.v1+cell": {
     "cellMetadata": {
      "byteLimit": 2048000,
      "rowLimit": 10000
     },
     "inputWidgets": {},
     "nuid": "de8e68c8-233d-4527-917e-0749e9603cc3",
     "showTitle": false,
     "title": ""
    }
   },
   "outputs": [
    {
     "output_type": "stream",
     "name": "stdout",
     "output_type": "stream",
     "text": [
      "+-------------+--------+-------+-------+\n|areaName     |areaType|2023-12|2024-01|\n+-------------+--------+-------+-------+\n|Bronx        |borough |2195   |2200   |\n|Brooklyn     |borough |2999   |2999   |\n|Manhattan    |borough |4000   |4100   |\n|Queens       |borough |2500   |2495   |\n|Staten Island|borough |1600   |1600   |\n+-------------+--------+-------+-------+\n\n"
     ]
    }
   ],
   "source": [
    "# display the full 5 rows of the DataFrame\n",
    "\n",
    "median_rent_df.show(5, truncate = False)\n"
   ]
  },
  {
   "cell_type": "code",
   "execution_count": 0,
   "metadata": {
    "application/vnd.databricks.v1+cell": {
     "cellMetadata": {
      "byteLimit": 2048000,
      "rowLimit": 10000
     },
     "inputWidgets": {},
     "nuid": "c3483de9-db4e-4d82-af5f-134958e73ca0",
     "showTitle": false,
     "title": ""
    }
   },
   "outputs": [
    {
     "output_type": "stream",
     "name": "stdout",
     "output_type": "stream",
     "text": [
      "+-------------+--------+-------+\n|areaName     |areaType|2024-01|\n+-------------+--------+-------+\n|Manhattan    |borough |4100   |\n|Brooklyn     |borough |2999   |\n|Queens       |borough |2495   |\n|Bronx        |borough |2200   |\n|Staten Island|borough |1600   |\n+-------------+--------+-------+\n\n"
     ]
    }
   ],
   "source": [
    "# create a new DataFrame that drops the \"2023-12\" column\n",
    "# and uses DataFrame methods (not SQL) to sort the \"2024-01\" column, highest to lowest \n",
    "# display the full new DataFrame\n",
    "N_median_rent_df = median_rent_df.drop(\"2023-12\")\n",
    "New_median_rent_df = N_median_rent_df.orderBy(N_median_rent_df[\"2024-01\"].desc())\n",
    "New_median_rent_df.show(truncate = False)\n"
   ]
  },
  {
   "cell_type": "markdown",
   "metadata": {
    "application/vnd.databricks.v1+cell": {
     "cellMetadata": {
      "byteLimit": 2048000,
      "rowLimit": 10000
     },
     "inputWidgets": {},
     "nuid": "c7540052-1e73-4e98-91ef-056f77de33c7",
     "showTitle": false,
     "title": ""
    }
   },
   "source": [
    "✍️ Double-click to answer here in full sentence format:\\\n",
    "Look at your line of code in the previous cell. Of the methods that you used: which were **narrow transformations,** which were **wide transformations,** and which were **actions**? When did the series of transformations get \"triggered\" into actually computing?\n",
    "\n",
    "*median_rent_df.drop(\"2023-12\")* is a narrow transformationas because a narrow transformation converts each input partition to only one output partition and tranforms data without shuffling. This line of code simply removes a column from the DataFrame without requiring data from other partitions.\n",
    "\n",
    "*N_median_rent_df.orderBy(N_median_rent_df[\"2024-01\"].desc())* is a wide transformation as it requires shuffling the data. For this line of code, sorting the data by a column may require comparing elements across different partitions, leading to a shuffle of data across the cluster to ensure the data is sorted properly.\n",
    "\n",
    "*New_median_rent_df.show(truncate = False)* is an action because actions are steps that start the process of working with data. They are necessary to get a final result after making changes to the data.\n",
    "\n",
    "The series transformations get \"triggered\" into actually computing when calling an action like show(truncate = False).After this spark perform the necessary computations to generate and display the output.\n",
    "\n"
   ]
  },
  {
   "cell_type": "code",
   "execution_count": 0,
   "metadata": {
    "application/vnd.databricks.v1+cell": {
     "cellMetadata": {
      "byteLimit": 2048000,
      "rowLimit": 10000
     },
     "inputWidgets": {},
     "nuid": "baf38dc7-675c-437a-8a9d-f512663c2a42",
     "showTitle": false,
     "title": ""
    }
   },
   "outputs": [
    {
     "output_type": "stream",
     "name": "stdout",
     "output_type": "stream",
     "text": [
      "+-------------+--------+-------+----------+\n|areaName     |areaType|2024-01|normalized|\n+-------------+--------+-------+----------+\n|Manhattan    |borough |4100   |4.1       |\n|Brooklyn     |borough |2999   |2.999     |\n|Queens       |borough |2495   |2.495     |\n|Bronx        |borough |2200   |2.2       |\n|Staten Island|borough |1600   |1.6       |\n+-------------+--------+-------+----------+\n\n"
     ]
    }
   ],
   "source": [
    "# create a new DataFrame including a new column, \"normalized\"\n",
    "# the value of \"normalized\" is the value of the \"2024-01\" column, divided by 1000\n",
    "# display the full new DataFrame\n",
    "\n",
    "df_New = New_median_rent_df.withColumn(\"normalized\", New_median_rent_df[\"2024-01\"] / 1000)\n",
    "\n",
    "df_New.show(truncate = False)"
   ]
  },
  {
   "cell_type": "markdown",
   "metadata": {
    "application/vnd.databricks.v1+cell": {
     "cellMetadata": {
      "byteLimit": 2048000,
      "rowLimit": 10000
     },
     "inputWidgets": {},
     "nuid": "7ba6bf4d-f397-4885-a85c-9730effc4b2e",
     "showTitle": false,
     "title": ""
    }
   },
   "source": [
    "#### part II: 🌎 common crawl data"
   ]
  },
  {
   "cell_type": "code",
   "execution_count": 0,
   "metadata": {
    "application/vnd.databricks.v1+cell": {
     "cellMetadata": {
      "byteLimit": 2048000,
      "rowLimit": 10000
     },
     "inputWidgets": {},
     "nuid": "3f159e0e-ab9b-4939-9761-b0839a29782f",
     "showTitle": false,
     "title": ""
    }
   },
   "outputs": [],
   "source": [
    "# first read the overview of the Common Crawl project's mission, here on their website: https://commoncrawl.org/mission "
   ]
  },
  {
   "cell_type": "code",
   "execution_count": 0,
   "metadata": {
    "application/vnd.databricks.v1+cell": {
     "cellMetadata": {
      "byteLimit": 2048000,
      "rowLimit": 10000
     },
     "inputWidgets": {},
     "nuid": "8e266876-0e03-467b-ad8a-2be0a277f3ed",
     "showTitle": false,
     "title": ""
    }
   },
   "outputs": [
    {
     "output_type": "stream",
     "name": "stdout",
     "output_type": "stream",
     "text": [
      "--2024-03-04 03:34:43--  https://data.commoncrawl.org/cc-index/table/cc-main/warc/crawl=CC-MAIN-2023-50/subset=crawldiagnostics/part-00000-e565b809-b335-4c1d-90fd-54a9a2b7113d.c000.gz.parquet\r\nResolving data.commoncrawl.org (data.commoncrawl.org)... 18.161.6.121, 18.161.6.27, 18.161.6.34, ...\r\nConnecting to data.commoncrawl.org (data.commoncrawl.org)|18.161.6.121|:443... connected.\r\nHTTP request sent, awaiting response... 200 OK\r\nLength: 207127367 (198M) [application/octet-stream]\r\nSaving to: ‘part-00000-e565b809-b335-4c1d-90fd-54a9a2b7113d.c000.gz.parquet’\r\n\r\n\r          part-0000   0%[                    ]       0  --.-KB/s               \r         part-00000   4%[                    ]   8.44M  42.1MB/s               \r        part-00000-   8%[>                   ]  16.72M  41.7MB/s               \r       part-00000-e  16%[==>                 ]  32.54M  54.1MB/s               \r      part-00000-e5  24%[===>                ]  47.95M  59.9MB/s               \r     part-00000-e56  32%[=====>              ]  63.92M  63.6MB/s               \r    part-00000-e565  49%[========>           ]  98.17M  81.4MB/s               \r   part-00000-e565b  70%[=============>      ] 139.49M  99.3MB/s               \r  part-00000-e565b8  85%[================>   ] 168.33M   105MB/s               \rpart-00000-e565b809 100%[===================>] 197.53M   114MB/s    in 1.7s    \r\n\r\n2024-03-04 03:34:44 (114 MB/s) - ‘part-00000-e565b809-b335-4c1d-90fd-54a9a2b7113d.c000.gz.parquet’ saved [207127367/207127367]\r\n\r\n"
     ]
    }
   ],
   "source": [
    "# uncomment & run the following code, which \"gets\" (downloads) a subset of the most recent common crawl \n",
    "# this may take a minute!\n",
    "\n",
    "!wget https://data.commoncrawl.org/cc-index/table/cc-main/warc/crawl=CC-MAIN-2023-50/subset=crawldiagnostics/part-00000-e565b809-b335-4c1d-90fd-54a9a2b7113d.c000.gz.parquet"
   ]
  },
  {
   "cell_type": "code",
   "execution_count": 0,
   "metadata": {
    "application/vnd.databricks.v1+cell": {
     "cellMetadata": {
      "byteLimit": 2048000,
      "rowLimit": 10000
     },
     "inputWidgets": {},
     "nuid": "f0671cc8-f9dd-47ed-91ad-11955e35009e",
     "showTitle": false,
     "title": ""
    }
   },
   "outputs": [
    {
     "output_type": "stream",
     "name": "stdout",
     "output_type": "stream",
     "text": [
      "azure\r\nconf\r\neventlogs\r\nhadoop_accessed_config.lst\r\nlogs\r\nmetastore_db\r\npart-00000-e565b809-b335-4c1d-90fd-54a9a2b7113d.c000.gz.parquet\r\npreload_class.lst\r\n"
     ]
    }
   ],
   "source": [
    "# uncomment & run the following code, which lists the local file system \n",
    "# to check and see if that Parquet file made it\n",
    "\n",
    "!ls"
   ]
  },
  {
   "cell_type": "code",
   "execution_count": 0,
   "metadata": {
    "application/vnd.databricks.v1+cell": {
     "cellMetadata": {
      "byteLimit": 2048000,
      "rowLimit": 10000
     },
     "inputWidgets": {},
     "nuid": "147b9dc9-aaef-477f-bf24-ca48c3e79d3e",
     "showTitle": false,
     "title": ""
    }
   },
   "outputs": [
    {
     "output_type": "execute_result",
     "data": {
      "text/plain": [
       "True"
      ]
     },
     "execution_count": 13,
     "metadata": {},
     "output_type": "execute_result"
    }
   ],
   "source": [
    "# uncomment & run the following code, which uploads your downloaded Parquet file to the Databricks Distributed File System (and your account)\n",
    "\n",
    "dbutils.fs.cp('file:/databricks/driver/part-00000-e565b809-b335-4c1d-90fd-54a9a2b7113d.c000.gz.parquet', 'dbfs:/FileStore/tables/')\n",
    "\n",
    "# after, in the menu to the left, click Catalog -> DBFS, look for the FileStore/tables folder, and check to see if your file made it there"
   ]
  },
  {
   "cell_type": "code",
   "execution_count": 0,
   "metadata": {
    "application/vnd.databricks.v1+cell": {
     "cellMetadata": {
      "byteLimit": 2048000,
      "rowLimit": 10000
     },
     "inputWidgets": {},
     "nuid": "76819cd8-fede-42c4-b3da-9e34ce8630a0",
     "showTitle": false,
     "title": ""
    }
   },
   "outputs": [],
   "source": [
    "# create a DataFrame from this Parquet file, using the `read` function\n",
    "# hint: your file path should be dbfs:/FileStore/tables/part-00000-e565b809-b335-4c1d-90fd-54a9a2b7113d.c000.gz.parquet\n",
    "\n",
    "df = spark.read.parquet('dbfs:/FileStore/tables')\n"
   ]
  },
  {
   "cell_type": "code",
   "execution_count": 0,
   "metadata": {
    "application/vnd.databricks.v1+cell": {
     "cellMetadata": {
      "byteLimit": 2048000,
      "rowLimit": 10000
     },
     "inputWidgets": {},
     "nuid": "824b1aae-0d63-4549-8b4a-e863cb7041b0",
     "showTitle": false,
     "title": ""
    }
   },
   "outputs": [
    {
     "output_type": "execute_result",
     "data": {
      "text/plain": [
       "2"
      ]
     },
     "execution_count": 15,
     "metadata": {},
     "output_type": "execute_result"
    }
   ],
   "source": [
    "# remember, every DataFrame is built \"on top of\" an RDD. \n",
    "# uncomment & run the following code to access the underlying RDD\n",
    "# and display the number of partitions used\n",
    "# (replace YOURDATAFRAME with the name of your DataFrame from the previous cell)\n",
    "\n",
    "df.rdd.getNumPartitions()\n",
    "\n"
   ]
  },
  {
   "cell_type": "code",
   "execution_count": 0,
   "metadata": {
    "application/vnd.databricks.v1+cell": {
     "cellMetadata": {
      "byteLimit": 2048000,
      "rowLimit": 10000
     },
     "inputWidgets": {},
     "nuid": "86eba1a7-be1e-42fb-a6a2-8fa99f9c8dbb",
     "showTitle": false,
     "title": ""
    }
   },
   "outputs": [
    {
     "output_type": "stream",
     "name": "stdout",
     "output_type": "stream",
     "text": [
      "root\n |-- url_surtkey: string (nullable = true)\n |-- url: string (nullable = true)\n |-- url_host_name: string (nullable = true)\n |-- url_host_tld: string (nullable = true)\n |-- url_host_2nd_last_part: string (nullable = true)\n |-- url_host_3rd_last_part: string (nullable = true)\n |-- url_host_4th_last_part: string (nullable = true)\n |-- url_host_5th_last_part: string (nullable = true)\n |-- url_host_registry_suffix: string (nullable = true)\n |-- url_host_registered_domain: string (nullable = true)\n |-- url_host_private_suffix: string (nullable = true)\n |-- url_host_private_domain: string (nullable = true)\n |-- url_host_name_reversed: string (nullable = true)\n |-- url_protocol: string (nullable = true)\n |-- url_port: integer (nullable = true)\n |-- url_path: string (nullable = true)\n |-- url_query: string (nullable = true)\n |-- fetch_time: timestamp (nullable = true)\n |-- fetch_status: short (nullable = true)\n |-- fetch_redirect: string (nullable = true)\n |-- content_digest: string (nullable = true)\n |-- content_mime_type: string (nullable = true)\n |-- content_mime_detected: string (nullable = true)\n |-- content_charset: string (nullable = true)\n |-- content_languages: string (nullable = true)\n |-- content_truncated: string (nullable = true)\n |-- warc_filename: string (nullable = true)\n |-- warc_record_offset: integer (nullable = true)\n |-- warc_record_length: integer (nullable = true)\n |-- warc_segment: string (nullable = true)\n\n"
     ]
    }
   ],
   "source": [
    "# print the schema for the DataFrame created by the Parquet file\n",
    "\n",
    "df.printSchema()\n"
   ]
  },
  {
   "cell_type": "code",
   "execution_count": 0,
   "metadata": {
    "application/vnd.databricks.v1+cell": {
     "cellMetadata": {
      "byteLimit": 2048000,
      "rowLimit": 10000
     },
     "inputWidgets": {},
     "nuid": "4e721dba-8c42-47b0-a6fe-c3a3b8bf5e46",
     "showTitle": false,
     "title": ""
    }
   },
   "outputs": [
    {
     "output_type": "execute_result",
     "data": {
      "text/plain": [
       "2565517"
      ]
     },
     "execution_count": 17,
     "metadata": {},
     "output_type": "execute_result"
    }
   ],
   "source": [
    "# looks like a lot of columns! \n",
    "# you can read more about each column here: https://data.commoncrawl.org/cc-index/table/cc-main/index.html \n",
    "\n",
    "# now: use an action to count the number of \"rows\" or elements in this DataFrame\n",
    "df.count()\n"
   ]
  },
  {
   "cell_type": "code",
   "execution_count": 0,
   "metadata": {
    "application/vnd.databricks.v1+cell": {
     "cellMetadata": {
      "byteLimit": 2048000,
      "rowLimit": 10000
     },
     "inputWidgets": {},
     "nuid": "1f6770fe-c826-4bae-beff-d03e496afed4",
     "showTitle": false,
     "title": ""
    }
   },
   "outputs": [
    {
     "output_type": "stream",
     "name": "stdout",
     "output_type": "stream",
     "text": [
      "+----------------------------------------------------------------+---------------------------------------------------------------------------+-------------------------------+------------+-----------------------+----------------------+----------------------+----------------------+------------------------+---------------------------+-----------------------+---------------------------+-------------------------------+------------+--------+------------------------------------+---------+-------------------+------------+--------------+--------------------------------+-----------------+---------------------+---------------+-----------------+-----------------+-------------------------------------------------------------------------------------------------------------------------+------------------+------------------+----------------+\n|url_surtkey                                                     |url                                                                        |url_host_name                  |url_host_tld|url_host_2nd_last_part |url_host_3rd_last_part|url_host_4th_last_part|url_host_5th_last_part|url_host_registry_suffix|url_host_registered_domain |url_host_private_suffix|url_host_private_domain    |url_host_name_reversed         |url_protocol|url_port|url_path                            |url_query|fetch_time         |fetch_status|fetch_redirect|content_digest                  |content_mime_type|content_mime_detected|content_charset|content_languages|content_truncated|warc_filename                                                                                                            |warc_record_offset|warc_record_length|warc_segment    |\n+----------------------------------------------------------------+---------------------------------------------------------------------------+-------------------------------+------------+-----------------------+----------------------+----------------------+----------------------+------------------------+---------------------------+-----------------------+---------------------------+-------------------------------+------------+--------+------------------------------------+---------+-------------------+------------+--------------+--------------------------------+-----------------+---------------------+---------------+-----------------+-----------------+-------------------------------------------------------------------------------------------------------------------------+------------------+------------------+----------------+\n|com,safehavencounselingpllc)/post/ecounseling-the-safe-haven-way|https://www.safehavencounselingpllc.com/post/ecounseling-the-safe-haven-way|www.safehavencounselingpllc.com|com         |safehavencounselingpllc|www                   |NULL                  |NULL                  |com                     |safehavencounselingpllc.com|com                    |safehavencounselingpllc.com|com.safehavencounselingpllc.www|https       |NULL    |/post/ecounseling-the-safe-haven-way|NULL     |2023-12-04 05:43:08|503         |NULL          |2RXCFNJX7YUSQQCVS3PDH4SJ2A5DMUP3|text/html        |text/html            |NULL           |NULL             |NULL             |crawl-data/CC-MAIN-2023-50/segments/1700679100525.55/crawldiagnostics/CC-MAIN-20231204052342-20231204082342-00876.warc.gz|37650776          |2195              |1700679100525.55|\n+----------------------------------------------------------------+---------------------------------------------------------------------------+-------------------------------+------------+-----------------------+----------------------+----------------------+----------------------+------------------------+---------------------------+-----------------------+---------------------------+-------------------------------+------------+--------+------------------------------------+---------+-------------------+------------+--------------+--------------------------------+-----------------+---------------------+---------------+-----------------+-----------------+-------------------------------------------------------------------------------------------------------------------------+------------------+------------------+----------------+\nonly showing top 1 row\n\n"
     ]
    }
   ],
   "source": [
    "# display the first row in the DataFrame only\n",
    "# use the argument truncate=False to show all the information\n",
    "df.show(1, truncate = False)\n"
   ]
  },
  {
   "cell_type": "code",
   "execution_count": 0,
   "metadata": {
    "application/vnd.databricks.v1+cell": {
     "cellMetadata": {
      "byteLimit": 2048000,
      "rowLimit": 10000
     },
     "inputWidgets": {},
     "nuid": "c72fa949-6777-4027-9321-7b867352c0d3",
     "showTitle": false,
     "title": ""
    }
   },
   "outputs": [
    {
     "output_type": "stream",
     "name": "stdout",
     "output_type": "stream",
     "text": [
      "+--------------------+------------+----------------------+--------------------------+------------------------+-----------------+\n|                 url|url_protocol|url_host_3rd_last_part|url_host_registered_domain|url_host_registry_suffix|content_mime_type|\n+--------------------+------------+----------------------+--------------------------+------------------------+-----------------+\n|https://www.safeh...|       https|                   www|      safehavencounseli...|                     com|        text/html|\n|https://fr.safeha...|       https|                    fr|      safehavencounseli...|                     com|              unk|\n|https://fr.safeha...|       https|                    fr|      safehavencounseli...|                     com|              unk|\n|https://fr.safeha...|       https|                    fr|      safehavencounseli...|                     com|              unk|\n|https://fr.safeha...|       https|                    fr|      safehavencounseli...|                     com|              unk|\n|https://fr.safeha...|       https|                    fr|      safehavencounseli...|                     com|              unk|\n|https://fr.safeha...|       https|                    fr|      safehavencounseli...|                     com|              unk|\n|https://fr.safeha...|       https|                    fr|      safehavencounseli...|                     com|              unk|\n|https://fr.safeha...|       https|                    fr|      safehavencounseli...|                     com|              unk|\n|https://fr.safeha...|       https|                    fr|      safehavencounseli...|                     com|              unk|\n+--------------------+------------+----------------------+--------------------------+------------------------+-----------------+\nonly showing top 10 rows\n\n"
     ]
    }
   ],
   "source": [
    "# create a new DataFrame, called cc_filtered\n",
    "# that uses the previous DataFrame but displays only the following columns:\n",
    "# \"url\"\n",
    "# \"url_protocol\"\n",
    "# \"url_host_3rd_last_part\"\n",
    "# \"url_host_registered_domain\"\n",
    "# \"url_host_registry_suffix\"\n",
    "# \"content_mime_type\"\n",
    "\n",
    "# and then display the first 10 rows of cc_filtered\n",
    "# use the argument truncate=True to clean up the display of the info\n",
    "\n",
    "cc_filtered = df.select(\n",
    "                        \"url\",\n",
    "                        \"url_protocol\",\n",
    "                        \"url_host_3rd_last_part\",\n",
    "                        \"url_host_registered_domain\",\n",
    "                        \"url_host_registry_suffix\",\n",
    "                        \"content_mime_type\")\n",
    "cc_filtered.show(10, truncate= True)\n",
    "\n"
   ]
  },
  {
   "cell_type": "code",
   "execution_count": 0,
   "metadata": {
    "application/vnd.databricks.v1+cell": {
     "cellMetadata": {
      "byteLimit": 2048000,
      "rowLimit": 10000
     },
     "inputWidgets": {},
     "nuid": "45d2975c-f197-488a-8982-a6e9fe7729db",
     "showTitle": false,
     "title": ""
    }
   },
   "outputs": [
    {
     "output_type": "stream",
     "name": "stdout",
     "output_type": "stream",
     "text": [
      "+----------------------------------------------------------------------------------+------------+---------+---------------------------+------+-----------------+\n|url                                                                               |url_protocol|subdomain|domain_name                |suffix|content_mime_type|\n+----------------------------------------------------------------------------------+------------+---------+---------------------------+------+-----------------+\n|https://www.safehavencounselingpllc.com/post/ecounseling-the-safe-haven-way       |https       |www      |safehavencounselingpllc.com|com   |text/html        |\n|https://fr.safehavencounselingpllc.com/bookings-checkout/in-home-family-counseling|https       |fr       |safehavencounselingpllc.com|com   |unk              |\n|https://fr.safehavencounselingpllc.com/bookings-checkout/trauma-dbt-informed-group|https       |fr       |safehavencounselingpllc.com|com   |unk              |\n+----------------------------------------------------------------------------------+------------+---------+---------------------------+------+-----------------+\nonly showing top 3 rows\n\n"
     ]
    }
   ],
   "source": [
    "# re-name the following columns in cc_filtered\n",
    "# \"url_host_3rd_last_part\" = \"subdomain\"\n",
    "# \"url_host_registry_suffix\" = \"suffix\"\n",
    "# \"url_host_registered_domain\" = \"domain_name\")\n",
    "\n",
    "# and then display the first 3 rows of cc_filtered (with the new column names)\n",
    "\n",
    "cc_filtered = cc_filtered\\\n",
    "                        .withColumnRenamed(\"url_host_3rd_last_part\",\"subdomain\")\\\n",
    "                        .withColumnRenamed(\"url_host_registry_suffix\",\"suffix\")\\\n",
    "                        .withColumnRenamed(\"url_host_registered_domain\",\"domain_name\")\n",
    "cc_filtered.show(3, truncate= False)\n"
   ]
  },
  {
   "cell_type": "code",
   "execution_count": 0,
   "metadata": {
    "application/vnd.databricks.v1+cell": {
     "cellMetadata": {
      "byteLimit": 2048000,
      "rowLimit": 10000
     },
     "inputWidgets": {},
     "nuid": "3ad4f50e-58f5-4da8-9883-1fb49a781b4d",
     "showTitle": false,
     "title": ""
    }
   },
   "outputs": [
    {
     "output_type": "execute_result",
     "data": {
      "text/plain": [
       "DataFrame[url: string, url_protocol: string, subdomain: string, domain_name: string, suffix: string, content_mime_type: string]"
      ]
     },
     "execution_count": 21,
     "metadata": {},
     "output_type": "execute_result"
    }
   ],
   "source": [
    "# we are going to use cc_filtered a lot - so let's cache it.\n",
    "# write a line of code that caches cc_filtered\n",
    "\n",
    "cc_filtered.cache()\n"
   ]
  },
  {
   "cell_type": "code",
   "execution_count": 0,
   "metadata": {
    "application/vnd.databricks.v1+cell": {
     "cellMetadata": {
      "byteLimit": 2048000,
      "rowLimit": 10000
     },
     "inputWidgets": {},
     "nuid": "95e0f586-c84f-4d7e-84ea-61582373967c",
     "showTitle": false,
     "title": ""
    }
   },
   "outputs": [
    {
     "output_type": "stream",
     "name": "stdout",
     "output_type": "stream",
     "text": [
      "True\n"
     ]
    }
   ],
   "source": [
    "# uncomment & run the following code to check: is the DataFrame cached?\n",
    "\n",
    "print(cc_filtered.is_cached)"
   ]
  },
  {
   "cell_type": "markdown",
   "metadata": {
    "application/vnd.databricks.v1+cell": {
     "cellMetadata": {
      "byteLimit": 2048000,
      "rowLimit": 10000
     },
     "inputWidgets": {},
     "nuid": "f15d08a2-8788-4d21-bc86-c84854b9db77",
     "showTitle": false,
     "title": ""
    }
   },
   "source": [
    "✍️ Double-click to answer here in full sentence format:\\\n",
    "is caching an **action** or a **transformation** in Spark? \n",
    "And why would I want to cache the DataFrame?\n",
    "\n",
    "Caching is a transformation not an action. As transformations refres to the operations that creates a new DataFrame from an existing one through process like .cache() etc. The actual process of caching, or storing data in memory, occurs only upon the execution of an action like .show() etc.\n",
    "\n",
    "Caching a DataFrame is beneficial because it significantly speeds up data processing by storing frequently accessed data in memory, reducing the need for repeated computations. This is especially useful in iterative algorithms where the same data is processed multiple times, enhancing overall performance. Moreover, it minimizes I/O operations, saving time and resources by avoiding constant data retrieval from disk or over the network.\n"
   ]
  },
  {
   "cell_type": "code",
   "execution_count": 0,
   "metadata": {
    "application/vnd.databricks.v1+cell": {
     "cellMetadata": {
      "byteLimit": 2048000,
      "rowLimit": 10000
     },
     "inputWidgets": {},
     "nuid": "5f84dfda-89b9-4f58-a6e3-492226b4a452",
     "showTitle": false,
     "title": ""
    }
   },
   "outputs": [],
   "source": [
    "# uncomment & run the following code:\n",
    "cc_mime = cc_filtered.select(\"content_mime_type\").distinct()\n"
   ]
  },
  {
   "cell_type": "code",
   "execution_count": 0,
   "metadata": {
    "application/vnd.databricks.v1+cell": {
     "cellMetadata": {
      "byteLimit": 2048000,
      "rowLimit": 10000
     },
     "inputWidgets": {},
     "nuid": "79060aa4-7ed8-4ba0-b196-2eec1b484928",
     "showTitle": false,
     "title": ""
    }
   },
   "outputs": [
    {
     "output_type": "stream",
     "name": "stdout",
     "output_type": "stream",
     "text": [
      "+-----------------------------------------------------------------------+\n|content_mime_type                                                      |\n+-----------------------------------------------------------------------+\n|text/x-perl                                                            |\n|application/rss+xml                                                    |\n|httpd/unix-directory                                                   |\n|application/octet-stream                                               |\n|redirect                                                               |\n|application/x-httpd-ea-php54                                           |\n|application/atom+xml                                                   |\n|text/xml                                                               |\n|text/Calendar                                                          |\n|text/csv                                                               |\n|application/xml                                                        |\n|application/rdf+xml                                                    |\n|image/svg+xml                                                          |\n|application/x-perl                                                     |\n|text/html                                                              |\n|application/cgi                                                        |\n|application/vnd.ms-excel                                               |\n|application/msword                                                     |\n|image/png                                                              |\n|application/binary                                                     |\n|application/x-httpd-ea-php74                                           |\n|application/x-msdownload                                               |\n|warc/revisit                                                           |\n|unk                                                                    |\n|application/json                                                       |\n|application/pdf                                                        |\n|text/html,                                                             |\n|text/plain                                                             |\n|image/jpeg                                                             |\n|application/inkml+xml                                                  |\n|application/vnd.openxmlformats-officedocument.wordprocessingml.document|\n|image/gif                                                              |\n|application/vnd.finix.1.0.0+json                                       |\n|cms/redirect                                                           |\n|text/HTML                                                              |\n|text/calendar                                                          |\n|video/mp4                                                              |\n|application/json+oembed                                                |\n|application/vnd.sas.error+json                                         |\n|application/x-httpd-ea-php72                                           |\n|application/unknown                                                    |\n|text/javascript                                                        |\n|application/xhtml+xml                                                  |\n|image/jpg                                                              |\n+-----------------------------------------------------------------------+\n\n"
     ]
    }
   ],
   "source": [
    "# hmm, what is mime type? read up a little here: \n",
    "# https://developer.mozilla.org/en-US/docs/Web/HTTP/Basics_of_HTTP/MIME_types\n",
    "\n",
    "# and show the first 60 rows of the DataFrame cc_mime\n",
    "# include the argument truncate=False to show all the info\n",
    "cc_mime.show(60, truncate = False)"
   ]
  },
  {
   "cell_type": "markdown",
   "metadata": {
    "application/vnd.databricks.v1+cell": {
     "cellMetadata": {
      "byteLimit": 2048000,
      "rowLimit": 10000
     },
     "inputWidgets": {},
     "nuid": "b5b0180f-64f9-4e9c-9cb4-2d0d87474d83",
     "showTitle": false,
     "title": ""
    }
   },
   "source": [
    "✍️ Double-click to answer here in full sentence format: \\\n",
    "what does the code in cell 27 (`select(\"content_mime_type\").distinct()`) do? \n",
    " \n",
    "This code selects only one column \"content_mime-type\" and removes it's duplicates and returns only unique values of this column.\n",
    " "
   ]
  },
  {
   "cell_type": "code",
   "execution_count": 0,
   "metadata": {
    "application/vnd.databricks.v1+cell": {
     "cellMetadata": {
      "byteLimit": 2048000,
      "rowLimit": 10000
     },
     "inputWidgets": {},
     "nuid": "858bb577-dacb-42b6-bb87-9c9396fd1030",
     "showTitle": true,
     "title": ""
    }
   },
   "outputs": [
    {
     "output_type": "stream",
     "name": "stdout",
     "output_type": "stream",
     "text": [
      "+-----------------------------------------------------------------------+------------+\n|content_mime_type                                                      |total_counts|\n+-----------------------------------------------------------------------+------------+\n|text/html                                                              |2206198     |\n|unk                                                                    |273188      |\n|warc/revisit                                                           |61926       |\n|text/plain                                                             |19173       |\n|application/json                                                       |1688        |\n|application/octet-stream                                               |1240        |\n|application/pdf                                                        |460         |\n|application/binary                                                     |438         |\n|application/rss+xml                                                    |271         |\n|image/gif                                                              |210         |\n|application/xml                                                        |208         |\n|application/vnd.openxmlformats-officedocument.wordprocessingml.document|105         |\n|text/xml                                                               |90          |\n|application/vnd.finix.1.0.0+json                                       |70          |\n|image/jpeg                                                             |48          |\n|application/unknown                                                    |29          |\n|application/cgi                                                        |26          |\n|image/png                                                              |24          |\n|application/atom+xml                                                   |22          |\n+-----------------------------------------------------------------------+------------+\n\n"
     ]
    }
   ],
   "source": [
    "# create a new DataFrame that counts up the total number of times each mime type occurs in the pages of this dataset\n",
    "# and then filter so that the DataFrame only includes those types with more than 20 occurrences (or counts)\n",
    "# and name the column with the total counts for each type \"total_counts\"\n",
    "# and display the full results in descending order \n",
    "\n",
    "# use DataFrame methods (not SQL yet) to approach this\n",
    "cc_filtered_new = (cc_filtered.groupBy(\"content_mime_type\")\n",
    "            .count()\n",
    "            .filter(\"count > 20\")\n",
    "            .withColumnRenamed(\"count\", \"total_counts\")\n",
    "            .orderBy(\"total_counts\", ascending=False))\n",
    "\n",
    "cc_filtered_new.show(truncate= False)\n"
   ]
  },
  {
   "cell_type": "code",
   "execution_count": 0,
   "metadata": {
    "application/vnd.databricks.v1+cell": {
     "cellMetadata": {
      "byteLimit": 2048000,
      "rowLimit": 10000
     },
     "inputWidgets": {},
     "nuid": "bfd46950-019b-48ec-96ac-a9718cc67f4c",
     "showTitle": false,
     "title": ""
    }
   },
   "outputs": [
    {
     "output_type": "stream",
     "name": "stdout",
     "output_type": "stream",
     "text": [
      "+---------------------------+-----+\n|domain_name                |count|\n+---------------------------+-----+\n|safehavencounselingpllc.com|10   |\n|safehost.com               |1    |\n|safehs.com                 |1    |\n|safekeysdrivingschool.com  |2    |\n|safeporntube.com           |2    |\n|safeshipmoving.com         |2    |\n|safesnout.com              |1    |\n|safesoundfamily.com        |12   |\n|safetran-traffic.com       |1    |\n|safetycasesymposium.com    |66   |\n|safetyinbusiness.com       |1    |\n|safetyjackpot.com          |6    |\n|safeunlocker.com           |8    |\n|safewateredu.com           |1    |\n|saffgroup.com              |13   |\n|saffronbusiness.com        |4    |\n|safimusic.com              |1    |\n|safirhdd.com               |13   |\n|sag-elm.com                |1    |\n|saga-grybow.com            |26   |\n|sagakraft.com              |1    |\n|sagamihara-shounika.com    |4    |\n|saganocoin.com             |4    |\n|sagarpadwal.com            |3    |\n|sagarsamy.com              |184  |\n|sagawapun.com              |1    |\n|sagbabygro.com             |2    |\n|sagecarsolutions.com       |2    |\n|sagechecks.com             |10   |\n|sagefamilymedicine.com     |1    |\n|sagehoneyhairco.com        |3    |\n|sagercreekquilts.com       |124  |\n|sagesolutionsllc.com       |2    |\n|sagetrainingmultisport.com |3    |\n|saggilawfirm.com           |9    |\n|saglikmoda.com             |241  |\n|sagulpa.com                |3    |\n|sahabatdomino.com          |1    |\n|sahajayogaquote.com        |2    |\n|sahandicrafts.com          |2    |\n|sahaqiel.com               |1    |\n|sahinler-form.com          |4    |\n|sahranursu.com             |1    |\n|sahtoto.com                |14   |\n|sahyadrigeographic.com     |5    |\n|saibakes.com               |1    |\n|saibaseunumero.com         |3    |\n|saibasi.com                |8    |\n|saidamzil.com              |5    |\n|saidulhaque.com            |3    |\n+---------------------------+-----+\nonly showing top 50 rows\n\n"
     ]
    }
   ],
   "source": [
    "# what are domains that show up the most in this dataset?\n",
    "# create a new DataFrame that counts up the occurrences of each domain (grouping by the column \"domain_name\")\n",
    "# show the first 50 rows of new DataFrame, including the argument truncate=False\n",
    "domain_counts = (cc_filtered.groupBy(\"domain_name\")\n",
    "                 .count())\n",
    "domain_counts.show(50,truncate = False)\n",
    "\n"
   ]
  },
  {
   "cell_type": "markdown",
   "metadata": {
    "application/vnd.databricks.v1+cell": {
     "cellMetadata": {
      "byteLimit": 2048000,
      "rowLimit": 10000
     },
     "inputWidgets": {},
     "nuid": "e1be6378-240e-4b46-bd0d-9b066412d639",
     "showTitle": false,
     "title": ""
    }
   },
   "source": [
    "✍️ Look at your results from the previous code (cell 31). \\\n",
    "What does this tell us about the organization of this entire dataset? \\\n",
    "What do you think each line in `cc_filtered` represents?\n",
    "\n",
    "The dataset seems to be organized in a way that each row contains information realted to \"domain name\" and it's occurrence. The dataset includes a wide range of domains and there is a significant variability in how often a domain appear in the data.This suggests that the data encompasses a broad sepctrum of web activity.\n",
    "\n",
    "Each line in 'cc_filtered represents a unique data point, offering insights into the activity or presence asscociated with it's domain which can be useful for analytical purposes.\n"
   ]
  },
  {
   "cell_type": "code",
   "execution_count": 0,
   "metadata": {
    "application/vnd.databricks.v1+cell": {
     "cellMetadata": {
      "byteLimit": 2048000,
      "rowLimit": 10000
     },
     "inputWidgets": {},
     "nuid": "7827c50e-e1c6-4ca1-b120-42ce87ada1f6",
     "showTitle": false,
     "title": ""
    }
   },
   "outputs": [
    {
     "output_type": "stream",
     "name": "stdout",
     "output_type": "stream",
     "text": [
      "+------------------------------------------------------------------+\n|url                                                               |\n+------------------------------------------------------------------+\n|https://www.sat24.com/                                            |\n|https://sat24.com/                                                |\n|https://www.sat24.com/                                            |\n|https://www.sat24.com/                                            |\n|https://www.sat24.com/                                            |\n|http://www.sat24.com/                                             |\n|https://www.sat24.com/                                            |\n|https://www.sat24.com/                                            |\n|https://www.sat24.com/                                            |\n|https://www.sat24.com/                                            |\n|https://www.sat24.com/                                            |\n|https://www.sat24.com/                                            |\n|http://www.sat24.com/%22                                          |\n|https://www.sat24.com/%22                                         |\n|https://www.sat24.com/alps                                        |\n|https://www.sat24.com/ar/am/infraPolair                           |\n|https://www.sat24.com/ar/am/snow                                  |\n|https://www.sat24.com/ar/am/visual                                |\n|https://www.sat24.com/ar/am/world                                 |\n|https://www.sat24.com/ar/as/infraPolair                           |\n|https://www.sat24.com/ar/as/rainTMC                               |\n|https://www.sat24.com/ar/as/snow                                  |\n|https://www.sat24.com/ar/as/visual                                |\n|https://www.sat24.com/ar/as/visual5                               |\n|https://www.sat24.com/ar/bc                                       |\n|https://www.sat24.com/ar/bw/infraPolair                           |\n|https://www.sat24.com/ar/bw/km                                    |\n|https://www.sat24.com/ar/bw/rainTMC                               |\n|https://www.sat24.com/ar/bw/visual                                |\n|https://www.sat24.com/ar/bw/visual                                |\n|https://www.sat24.com/ar/bw/visual5                               |\n|https://www.sat24.com/ar/cg/km                                    |\n|https://www.sat24.com/ar/cg/rainTMC                               |\n|https://www.sat24.com/ar/cg/visual                                |\n|https://www.sat24.com/ar/cg/visual5                               |\n|https://www.sat24.com/ar/de/infraPolair                           |\n|https://www.sat24.com/ar/de/snow                                  |\n|https://www.sat24.com/ar/ea/infraPolair                           |\n|https://www.sat24.com/ar/ea/rainTMC                               |\n|https://www.sat24.com/ar/ea/snow                                  |\n|https://www.sat24.com/ar/ea/visual                                |\n|https://www.sat24.com/ar/ea/visual5                               |\n|https://www.sat24.com/ar/eg/infraPolair                           |\n|https://www.sat24.com/ar/eg/rainTMC                               |\n|https://www.sat24.com/ar/eg/snow                                  |\n|https://www.sat24.com/ar/eg/visual                                |\n|https://www.sat24.com/ar/eg/visual5                               |\n|https://www.sat24.com/ar/forecast/d/1139265/yaounde               |\n|https://www.sat24.com/ar/forecast/d/1559831/sidi-bel-abbes        |\n|https://www.sat24.com/ar/forecast/d/1564620/ouargla               |\n|https://www.sat24.com/ar/forecast/d/1566588/messaad               |\n|https://www.sat24.com/ar/forecast/d/1567651/medea                 |\n|https://www.sat24.com/ar/forecast/d/1574466/guelma                |\n|https://www.sat24.com/ar/forecast/d/1579953/constantine           |\n|https://www.sat24.com/ar/forecast/d/1582897/berrouaghia           |\n|https://www.sat24.com/ar/forecast/d/1583419/beni-mered            |\n|https://www.sat24.com/ar/forecast/d/1584369/batna                 |\n|https://www.sat24.com/ar/forecast/d/1621343/tartu                 |\n|https://www.sat24.com/ar/forecast/d/1636486/kafr-ad-dawwar        |\n|https://www.sat24.com/ar/forecast/d/1659281/asmara                |\n|https://www.sat24.com/ar/forecast/d/1665444/santa-lucia           |\n|https://www.sat24.com/ar/forecast/d/1665468/santa-cruz-de-tenerife|\n|https://www.sat24.com/ar/forecast/d/1668545/malaga                |\n|https://www.sat24.com/ar/forecast/d/1671401/granada               |\n|https://www.sat24.com/ar/forecast/d/1727951/nazret                |\n|https://www.sat24.com/ar/forecast/d/1733191/gonder                |\n|https://www.sat24.com/ar/forecast/d/1735684/dire-dawa             |\n|https://www.sat24.com/ar/forecast/d/1736036/dese                  |\n|https://www.sat24.com/ar/forecast/d/1953642/london                |\n|https://www.sat24.com/ar/forecast/d/1954573/leeds                 |\n|https://www.sat24.com/ar/forecast/d/1996480/tbilisi               |\n|https://www.sat24.com/ar/forecast/d/2057600/irakleion             |\n|https://www.sat24.com/ar/forecast/d/2168988/szekesfehervar        |\n|https://www.sat24.com/ar/forecast/d/239897/townsville             |\n|https://www.sat24.com/ar/forecast/d/2550702/dublin                |\n|https://www.sat24.com/ar/forecast/d/259512/geelong                |\n|https://www.sat24.com/ar/forecast/d/2865141/palermo               |\n|https://www.sat24.com/ar/forecast/d/2868015/venice                |\n|https://www.sat24.com/ar/forecast/d/2868925/turin                 |\n|https://www.sat24.com/ar/forecast/d/2922209/zarqa                 |\n|https://www.sat24.com/ar/forecast/d/3255613/monrovia              |\n|https://www.sat24.com/ar/forecast/d/3264963/panevezys             |\n|https://www.sat24.com/ar/forecast/d/3273807/riga                  |\n|https://www.sat24.com/ar/forecast/d/3278032/daugavpils            |\n|https://www.sat24.com/ar/forecast/d/3280716/tobruk                |\n|https://www.sat24.com/ar/forecast/d/3288505/ajdabiya              |\n|https://www.sat24.com/ar/forecast/d/3288869/zliten                |\n|https://www.sat24.com/ar/forecast/d/3290931/sirte                 |\n|https://www.sat24.com/ar/forecast/d/3297724/gharyan               |\n|https://www.sat24.com/ar/forecast/d/3300308/al-jadid              |\n|https://www.sat24.com/ar/forecast/d/3313141/safi                  |\n|https://www.sat24.com/ar/forecast/d/3323777/guelmim               |\n|https://www.sat24.com/ar/forecast/d/3336896/agadir                |\n|https://www.sat24.com/ar/forecast/d/3358793/toamasina             |\n|https://www.sat24.com/ar/forecast/d/3392281/skopje                |\n|https://www.sat24.com/ar/forecast/d/3770821/onitsha               |\n|https://www.sat24.com/ar/forecast/d/3821435/the-hague             |\n|https://www.sat24.com/ar/forecast/d/4028115/christchurch          |\n|https://www.sat24.com/ar/forecast/d/4030410/tauranga              |\n|https://www.sat24.com/ar/forecast/d/4096232/timisoara             |\n+------------------------------------------------------------------+\nonly showing top 100 rows\n\n"
     ]
    }
   ],
   "source": [
    "# create a new DataFrame holding all rows where domain_name = \"sat24.com\"\n",
    "# use DataFrame methods (no SQL yet) to do this\n",
    "# give the DataFrame only 1 column: \"url\"\n",
    "\n",
    "# display the first 100 rows of this DataFrame, using the argument truncate=False\n",
    "cc_filtered_df = cc_filtered.filter(cc_filtered.domain_name==\"sat24.com\").select('url')\n",
    "\n",
    "cc_filtered_df.show(100, truncate = False)"
   ]
  },
  {
   "cell_type": "code",
   "execution_count": 0,
   "metadata": {
    "application/vnd.databricks.v1+cell": {
     "cellMetadata": {
      "byteLimit": 2048000,
      "rowLimit": 10000
     },
     "inputWidgets": {},
     "nuid": "3c2bb41d-9d2b-4656-9598-3800c4df9b00",
     "showTitle": false,
     "title": ""
    }
   },
   "outputs": [
    {
     "output_type": "stream",
     "name": "stdout",
     "output_type": "stream",
     "text": [
      "+------------+-------+\n|url_protocol|  count|\n+------------+-------+\n|        http| 536729|\n|       https|2028788|\n+------------+-------+\n\n"
     ]
    }
   ],
   "source": [
    "# are there more pages using http or https in this dataset?\n",
    "# use DataFrame methods to create a new DataFrame that counts up and groups by the \"url_protocol\" column\n",
    "cc_filtered_url_protocol = cc_filtered.groupBy(\"url_protocol\").count()\n",
    "cc_filtered_url_protocol.show()"
   ]
  },
  {
   "cell_type": "code",
   "execution_count": 0,
   "metadata": {
    "application/vnd.databricks.v1+cell": {
     "cellMetadata": {
      "byteLimit": 2048000,
      "rowLimit": 10000
     },
     "inputWidgets": {},
     "nuid": "d8f1c9d5-d4c3-4d1c-aa54-b0ca1f2c39ae",
     "showTitle": false,
     "title": ""
    }
   },
   "outputs": [
    {
     "output_type": "stream",
     "name": "stdout",
     "output_type": "stream",
     "text": [
      "+------+-------+\n|suffix|count  |\n+------+-------+\n|com   |2565517|\n+------+-------+\n\n"
     ]
    }
   ],
   "source": [
    "# what is the most common suffix (.com, .org, etc.) seen in this segment of the dataset?\n",
    "# use DataFrame methods to create a new DataFrame that counts up and groups by the \"suffix\" column\n",
    "cc_filtered_suffix = cc_filtered.groupBy(\"suffix\").count()\n",
    "cc_filtered_suffix.show(truncate= False)\n"
   ]
  },
  {
   "cell_type": "code",
   "execution_count": 0,
   "metadata": {
    "application/vnd.databricks.v1+cell": {
     "cellMetadata": {
      "byteLimit": 2048000,
      "rowLimit": 10000
     },
     "inputWidgets": {},
     "nuid": "2bec43be-0659-4cc1-8838-ef3c7049628a",
     "showTitle": false,
     "title": ""
    }
   },
   "outputs": [],
   "source": [
    "# ... and now for some SQL!\n",
    "# use the \"createOrReplaceTempView\" function on cc_filtered\n",
    "# to create a view called \"common_index\"\n",
    "\n",
    "cc_filtered.createOrReplaceTempView(\"common_index\")"
   ]
  },
  {
   "cell_type": "code",
   "execution_count": 0,
   "metadata": {
    "application/vnd.databricks.v1+cell": {
     "cellMetadata": {
      "byteLimit": 2048000,
      "rowLimit": 10000
     },
     "inputWidgets": {},
     "nuid": "74a80802-85af-4cd8-adca-61e27c84e7fc",
     "showTitle": false,
     "title": ""
    }
   },
   "outputs": [
    {
     "output_type": "stream",
     "name": "stdout",
     "output_type": "stream",
     "text": [
      "+-----------------------------+-----+\n|domain_name                  |count|\n+-----------------------------+-----+\n|sailing-week.com             |1    |\n|sailingmachine.com           |2    |\n|sailingportocristo.com       |1    |\n|sailingyun.com               |1    |\n|sailingdirections.com        |3    |\n|sailingmeters.com            |14   |\n|sailing-whitsundays.com      |84   |\n|sailingjuniper.com           |1    |\n|sailing-boats-for-sale.com   |58   |\n|sailing-serbia.com           |4    |\n|sailinglogistics.com         |4    |\n|sailingsquadron.com          |6    |\n|sailingway.com               |1    |\n|sailingcielo.com             |3    |\n|sailingellidah.com           |6    |\n|sailingphuket.com            |6    |\n|sailing-news.com             |9    |\n|sailing-boats-croatia.com    |7    |\n|sailinghollyblue.com         |9    |\n|sailingtexas.com             |874  |\n|sailingtortuga.com           |3    |\n|sailingfoxes.com             |1    |\n|sailingpassionata.com        |1    |\n|sailingshot.com              |1    |\n|salanasailing.com            |8    |\n|sailingholidays.com          |24   |\n|sailingforimpact.com         |2    |\n|sailinginsardinia.com        |4    |\n|sailingmabul.com             |2    |\n|sailingsvclarity.com         |1    |\n|sailingusintl.com            |1    |\n|sailing4charity.com          |54   |\n|sailingbiscaynebay.com       |7    |\n|sailingvacations24.com       |12   |\n|sailing-360.com              |5    |\n|sailing-keywest.com          |2    |\n|sailing4rent.com             |4    |\n|sailing63south.com           |1    |\n|sailingdaze.com              |1    |\n|sailingweek.com              |91   |\n|sailinglessonssf.com         |1    |\n|sailingtheshifts.com         |2    |\n|sanjuansailing.com           |6    |\n|sailingchania.com            |1    |\n|sailingbox.com               |1    |\n|sailing-with-greenpeace.com  |2    |\n|sailingnetworks.com          |23   |\n|sailingworldchampionships.com|1    |\n|sailingistanbul.com          |1    |\n|sailing177.com               |2    |\n+-----------------------------+-----+\nonly showing top 50 rows\n\nTotal row counts:  488\n"
     ]
    }
   ],
   "source": [
    "# use SQL to answer this question:\n",
    "# how many pages in this segment of the dataset include the word \"sailing\" in their domain name?\n",
    "# hint: check out the SQL LIKE keyword: https://www.w3schools.com/sql/sql_like.asp\n",
    "\n",
    "# show the first 50 rows of your new DataFrame\n",
    "# and then print the count of rows in that new DataFrame\n",
    "\n",
    "sailing_query = \"\"\"\n",
    "SELECT domain_name, COUNT(*) as count\n",
    "FROM common_index\n",
    "WHERE LOWER(domain_name) LIKE '%sailing%'\n",
    "GROUP BY domain_name\n",
    "\"\"\"\n",
    "sailing_df = spark.sql(sailing_query)\n",
    "\n",
    "sailing_df.show(50, truncate = False)\n",
    "\n",
    "print(\"Total row counts: \", sailing_df.count())\n",
    "\n"
   ]
  },
  {
   "cell_type": "code",
   "execution_count": 0,
   "metadata": {
    "application/vnd.databricks.v1+cell": {
     "cellMetadata": {
      "byteLimit": 2048000,
      "rowLimit": 10000
     },
     "inputWidgets": {},
     "nuid": "414f22c3-486f-4384-8c76-a7291c6d3162",
     "showTitle": false,
     "title": ""
    }
   },
   "outputs": [
    {
     "output_type": "stream",
     "name": "stdout",
     "output_type": "stream",
     "text": [
      "+---------------------------------------------------------------------------------+\n|url                                                                              |\n+---------------------------------------------------------------------------------+\n|https://www.safehost.com/fr/centre-d-hebergement/sh3                             |\n|https://safelagoon.com/fr/                                                       |\n|https://safelightberlin.com/fr/blogs/news/silberra-the-path-of-the-pan-perfection|\n|https://safelightberlin.com/fr/collections/35mm-slr                              |\n|https://safelightberlin.com/fr/collections/bf22                                  |\n|https://safelightberlin.com/fr/collections/lomography                            |\n|https://safelightberlin.com/fr/collections/point-and-shoot                       |\n|https://safelightberlin.com/fr/collections/silbersalz35                          |\n|https://safelightberlin.com/fr/pages/contact-new                                 |\n|https://safelightberlin.com/fr/products/__customized-items                       |\n+---------------------------------------------------------------------------------+\nonly showing top 10 rows\n\nTotal row counts: 18985\n"
     ]
    }
   ],
   "source": [
    "# we are going to use DataFrame methods to ask a similar question:\n",
    "# how many pages in this segment of the dataset might be translated into French?\n",
    "# we are going to assume the page might be translated if it includes \"/fr/\" in the url\n",
    "# hint: .contains(\"/fr/\")\n",
    "\n",
    "# create a new DataFrame with this French filter\n",
    "# and drop all columns except \"url\" \n",
    "# show the first 10 rows of your new DataFrame, using truncate=False\n",
    "# finally, print the count of rows in that new DataFrame\n",
    "\n",
    "cc_filtered_fr = cc_filtered.filter(cc_filtered[\"url\"].contains(\"/fr/\")).select(\"url\")\n",
    "\n",
    "cc_filtered_fr.show(10, truncate = False)\n",
    "\n",
    "print(\"Total row counts: \", cc_filtered_fr.count())"
   ]
  },
  {
   "cell_type": "code",
   "execution_count": 0,
   "metadata": {
    "application/vnd.databricks.v1+cell": {
     "cellMetadata": {
      "byteLimit": 2048000,
      "rowLimit": 10000
     },
     "inputWidgets": {},
     "nuid": "b434921a-2a8a-4b82-aad6-9163378e6d89",
     "showTitle": false,
     "title": ""
    }
   },
   "outputs": [
    {
     "output_type": "stream",
     "name": "stdout",
     "output_type": "stream",
     "text": [
      "+------------------+\n|average           |\n+------------------+\n|22.041660223035553|\n+------------------+\n\n"
     ]
    }
   ],
   "source": [
    "# what is the average page count per domain in this list?\n",
    "# use whichever methods you choose (SQL or DataFrame functions)\n",
    "# to approach this\n",
    "\n",
    "# show your result as a new DataFrame with a single column called \"average\"\n",
    "avg_page_count_per_domain_query = \"\"\"\n",
    "SELECT AVG(count) as average\n",
    "FROM(\n",
    "    SELECT domain_name, COUNT(*) as count\n",
    "    FROM common_index\n",
    "    GROUP BY domain_name\n",
    ")\n",
    "\"\"\"\n",
    "avg_page_count_per_domain_df = spark.sql(avg_page_count_per_domain_query)\n",
    "\n",
    "avg_page_count_per_domain_df.show(truncate = False)\n"
   ]
  },
  {
   "cell_type": "code",
   "execution_count": 0,
   "metadata": {
    "application/vnd.databricks.v1+cell": {
     "cellMetadata": {
      "byteLimit": 2048000,
      "rowLimit": 10000
     },
     "inputWidgets": {},
     "nuid": "0c6785cd-d777-4a29-8ad4-88cc2f6b77bc",
     "showTitle": false,
     "title": ""
    }
   },
   "outputs": [
    {
     "output_type": "stream",
     "name": "stdout",
     "output_type": "stream",
     "text": [
      "--2024-03-04 03:35:54--  https://data.commoncrawl.org/crawl-data/CC-MAIN-2023-50/segments/1700679099281.67/wet/CC-MAIN-20231128083443-20231128113443-00000.warc.wet.gz\r\nResolving data.commoncrawl.org (data.commoncrawl.org)... 99.84.66.123, 99.84.66.102, 99.84.66.103, ...\r\nConnecting to data.commoncrawl.org (data.commoncrawl.org)|99.84.66.123|:443... connected.\r\nHTTP request sent, awaiting response... 200 OK\r\nLength: 112806267 (108M) [application/octet-stream]\r\nSaving to: ‘CC-MAIN-20231128083443-20231128113443-00000.warc.wet.gz’\r\n\r\n\r          CC-MAIN-2   0%[                    ]       0  --.-KB/s               \r         CC-MAIN-20  11%[=>                  ]  12.44M  62.1MB/s               \r        CC-MAIN-202  24%[===>                ]  26.69M  66.6MB/s               \r       CC-MAIN-2023  37%[======>             ]  40.13M  66.8MB/s               \r      CC-MAIN-20231  51%[=========>          ]  55.89M  69.8MB/s               \r     CC-MAIN-202311  64%[===========>        ]  69.88M  69.8MB/s               \r    CC-MAIN-2023112  77%[==============>     ]  83.40M  69.4MB/s               \r   CC-MAIN-20231128  91%[=================>  ]  98.55M  70.3MB/s               \rCC-MAIN-20231128083 100%[===================>] 107.58M  70.1MB/s    in 1.5s    \r\n\r\n2024-03-04 03:35:56 (70.1 MB/s) - ‘CC-MAIN-20231128083443-20231128113443-00000.warc.wet.gz’ saved [112806267/112806267]\r\n\r\n"
     ]
    }
   ],
   "source": [
    "# now let's pull in some more data!\n",
    "# uncomment & run the following code:\n",
    "!wget https://data.commoncrawl.org/crawl-data/CC-MAIN-2023-50/segments/1700679099281.67/wet/CC-MAIN-20231128083443-20231128113443-00000.warc.wet.gz\n",
    "\n"
   ]
  },
  {
   "cell_type": "code",
   "execution_count": 0,
   "metadata": {
    "application/vnd.databricks.v1+cell": {
     "cellMetadata": {
      "byteLimit": 2048000,
      "rowLimit": 10000
     },
     "inputWidgets": {},
     "nuid": "4ad6ee7b-5b77-4c91-99c1-9d23ab1406aa",
     "showTitle": false,
     "title": ""
    }
   },
   "outputs": [
    {
     "output_type": "stream",
     "name": "stdout",
     "output_type": "stream",
     "text": [
      "WARC/1.0\r\r\nWARC-Type: warcinfo\r\r\nWARC-Date: 2023-12-12T01:49:07Z\r\r\nWARC-Filename: CC-MAIN-20231128083443-20231128113443-00000.warc.wet.gz\r\r\nWARC-Record-ID: <urn:uuid:965b7f0e-e769-4c47-9e28-f7d9120e1027>\r\r\nContent-Type: application/warc-fields\r\r\nContent-Length: 382\r\r\n\r\r\nSoftware-Info: ia-web-commons.1.1.10-SNAPSHOT-20231102093126\r\r\nExtracted-Date: Tue, 12 Dec 2023 01:49:07 GMT\r\r\nrobots: checked via crawler-commons 1.5-SNAPSHOT (https://github.com/crawler-commons/crawler-commons)\r\r\nisPartOf: CC-MAIN-2023-50\r\r\noperator: Common Crawl Admin (info@commoncrawl.org)\r\r\ndescription: Wide crawl of the web for November/December 2023\r\r\npublisher: Common Crawl\r\r\n\r\r\n\r\r\n\r\r\nWARC/1.0\r\r\nWARC-Type: conversion\r\r\nWARC-Target-URI: http://0-50.ru/news/line/2014-07-13/id_43733.html\r\r\nWARC-Date: 2023-11-28T11:34:01Z\r\r\nWARC-Record-ID: <urn:uuid:ea93f3a5-6e42-46bb-b2da-bbc91ff80ef0>\r\r\nWARC-Refers-To: <urn:uuid:60a1e8f3-68a9-437c-937c-e52edd95c91c>\r\r\nWARC-Block-Digest: sha1:IAHHMFYRVDRXUQQMQTZA3KR4GKQEF2XB\r\r\nWARC-Identified-Content-Language: rus\r\r\nContent-Type: text/plain\r\r\nContent-Length: 16599\r\r\n\r\r\nНовости 0-50.ru | Порошенко выразил соболезнования родным и близким Валерии Новодворской |\r\n|\r\nПогода в Екатеринбурге и Свердловской области |\r\nЧто приготовить на ужин рецепт с фото |\r\nНовости Екатеринбурга |\r\n96women.ru - Живой Женский Журнал |\r\nГлавная\r\nРедакция\r\nРеклама\r\nО проекте\r\nRSS\r\nОбратная связь\r\nВсе новости\r\nЕкатеринбург\r\nРоссия и мир\r\nОбразование\r\nНедвижимость\r\nЗдоровье\r\nСпорт\r\nПроисшествия\r\nТранспорт\r\nНовости компаний\r\nДругая жизнь\r\nСтатьи\r\nПорошенко выразил соболезнования родным и близким Валерии Новодворской\r\nПрезидент Украины Петр Порошенко выразил свои соболезнования родным и близким Валерии Новодворской, скончавшейся накануне.\r\n\"Патриотка России и друг Украины, она еще с момента вторжения советских войск в Чехословакию жила с лозунгом \"За нашу и вашу свободу\"! Выражаю грусть и глубокое соболезнование родным и близким покойной, всем тем, для кого Валерия Ильинична была авторитетным и дорогим человеком\", – говорится в сообщении Порошенко в Facebook.\r\nПравозащитница Новодворская скончалась в Москве на 65-м году жизни.\r\nТэги: Валерия Новодворская, умерла Валерия Новодворская, Валерия Новодворская скончалась, от чего умерла Валерия Новодворская, похороны Валерии Новодворской, причина смерти Валерии Новодворской, отчего умерла новодворская, похороны новодворской, новодворская скончалась причина смерти\r\n13.07.2014 22:56\r\nНовости\r\nКоллектив салонов оптики «ОЧКИ КУДЕЛИНОЙ» поздравляет горожан с наступающим 2020 годом!\r\nОпытные врачи офтальмологи более 15 лет помогают людям увидеть мир во всем его многообразии\r\nМежрегиональная общественная организация «Аистенок» проводит благотворительную акцию «Чашка тепла»\r\n9 и 10 ноября в Екатеринбурге\r\nЕкатеринбургский центр занятости приглашает граждан предпенсионного и пенсионного возраста на ярмарку вакансий\r\n3 октября 2019 года с 12:00 до 14:00 часов в Межрайонном отделе №1 (г. Екатеринбург, ул. Шейнкмана, 22)\r\nБлаготворительный фонд Антона Шипулина предлагает студентам возможность воплотить свои идеи и получить финансовую поддержку\r\n19-20 сентября в Конгресс-Центре Marins Park Hotel\r\nВ Екатеринбурге работодатели ищут мастера временных татуировок на море, тренера по художественной гимнастике и актера\r\nВырваться на море и при этом заработать\r\nЕкатеринбургский центр занятости приглашает граждан с ограниченными возможностями здоровья на ярмарку вакансий\r\n20 июня 2019 года с 12:00 до 13:00 часов в Межрайонном отделе №1 (г. Екатеринбург, ул. Шейнкмана, 22)\r\nЕкатеринбургский центр занятости приглашает горожан на ярмарку вакансий\r\nЯрмарка предоставляет жителям города возможность найти работу, а работодателям – эффективно заполнить вакантные места\r\nЖитель Екатеринбурга продает картину «Наследие Джобса», выполненную полностью из корпусов iPhone\r\nЕе стоимость екатеринбуржец оценил в 250 тысяч рублей\r\n«Уральские авиалинии» поздравляют с Днем Победы и дарят скидку 50% на полеты в Москву\r\nПериод действия промокода с 8 по 15 мая 2019 года на вылеты с 8 мая по 30 июня 2019 года\r\nПоздравление с 9 мая от Свердловской региональной общественной организации «Аистенок»\r\nПусть ни один ребенок не узнает и не увидит, что такое война\r\nПоздравление с 9 мая от сети салонов оптики «Очки Куделиной»\r\nВесеннего вам настроения, счастья и благополучия!\r\n1 мая улицы Пушкина, Ленина, Ельцина и 8 Марта перекроют с 06:00 до 15:30\r\nдля всех видов транспорта, включая автобусы и трамваи\r\nПогода в Екатеринбурге на неделе порадует стабильным плюсом днем и минусом ночью\r\nВсе дни будет малооблачно\r\nВ Екатеринбурге на парковке аэропорта Кольцово люди в масках расстреляли автомобиль\r\nобъявлен план «Перехват»\r\nПогода в Екатеринбурге в выходные порадует теплом и отсутствием осадков\r\nВ этом году в марте температура воздуха днем на несколько градусов выше нормы\r\n«Мисс Екатеринбург 2018» Арина Верина прошла кастинг на конкурс красоты «Мисс Россия 2019»\r\n13 марта 2019 года в Москве пройдет финал конкурса\r\nВ Тюмени и Тобольске пройдёт отборочный этап Всероссийского конкурса детского и юношеского творчества «Земля талантов»\r\nВ конкурсе могут принять участие дети и подростки следующих возрастных категорий: с 7 до 10 лет, с 11 до 14, с 15 до 17 (включительно)\r\nВалерий Юн: поздравление с 8 марта\r\nМилые наши женщины, поздравляю вас с прошедшим женским днём!\r\nНегосударственная экспертная организация «Независимая экспертиза «на Чебышева» поздравляет всех женщин России с наступающим праздником 8 марта!\r\nЖелаем, чтобы Вас обошли все беды и неурядицы\r\nСвердловские полицейские призывают граждан сообщать, где торгуют смертью\r\nНа территории Свердловской области в ближайшие дни стартует широкомасштабная профилактическая акция «Сообщи, где торгуют смертью»\r\n1613 1612 1611 1610 1609 1608 ... 1 >\r\nОблако тегов\r\nновости дом 2 2013 новости дом 2 2012 Пожар новости Дагестана погода в Москве беспорядки в Донецке новости Украины новости биатлона футбол России н Биатлон происшествия в Москве новости дом 2 сегодня новости Крыма сегодня новости Луганска сегодня убийство украина новости сегодня футбол сегодня санкции новости Славянска ДТП в Екатеринбурге Александр Мишарин сплетни дом 2 состав сборной России авария новости украины сегодня новости москвы новости Киева сегодня проишествия в москве новости киева США слухи на дом 2 новости дом 2 свежие новости дом 2 на сегодня Футбол футбол чемпионат России новости футбола новости Одессы авария в Екатеринбурге что происходит в Славянске новости Петербурга ДТП новости дом 2 новости екатеринбурга новости Луганска Владимир Путин операция в Славянске дом 2 свежие новости новости Севастополя новости Донецка Свердловская область дом 2 новости новости Крыма киев новости донецк новости сегодня Евгений Куйвашев новости Харькова санкции против России беспорядки в Киеве новости Краматорска\r\nГлавная | Карта сайта | RSS Feed\r\nНовости\r\nДыхательные тренажеры , зачем и каковы их отличия\r\nКакая основная причина давления, инсульта? Как доступным способом уйти от проблем с сосудами и жить до глубокой старости?\r\nДыхательные тренажеры: для чего они и каковы их отличия?\r\nПошив и продажа авточехлов для иномарок и отечественных автомобилей оптом и в розницу в Екатеринбурге\r\nОфициальный сервисный центр Whirlpool Corporation открыл свои двери жителям Екатеринбурга\r\nКакие услуги можно получить по полису ОМС (обязательного медицинского страхования) бесплатно\r\nПрофилактика вирусных инфекций в рекомендациях кандидата медицинских наук, врача-инфекциониста высшей категории Щинова Андрея Ивановича\r\nНовости СМИ2\r\nКоллектив салонов оптики «ОЧКИ КУДЕЛИНОЙ» поздравляет горожан с наступающим 2020 годом!\r\nБлаготворительный фонд Антона Шипулина и Благотворительный фонд «Общества Малышева-73 «Добрые дела» откроют еще 4 спортивных объекта\r\nВ Екатеринбурге пройдет шестой Свердловский химический турнир\r\nАнтон Шипулин и Игорь Заводовский откроют в Екатеринбурге три новые площадки для занятий по воркауту\r\nМежрегиональная общественная организация «Аистенок» проводит благотворительную акцию «Чашка тепла»\r\nЕкатеринбургский центр занятости приглашает граждан предпенсионного и пенсионного возраста на ярмарку вакансий\r\nБлаготворительный фонд Антона Шипулина предлагает студентам возможность воплотить свои идеи и получить финансовую поддержку\r\nВ Екатеринбурге перекроют движение по Красноармейской, Калинина, Шейнкмана, Попова, Мичурина и Тверитина\r\nВсе новости…\r\nАктуально\r\nКакая основная причина давления, инсульта? Как доступным способом уйти от проблем с сосудами и жить до глубокой старости?\r\nДыхательные тренажеры: для чего они и каковы их отличия?\r\nПошив и продажа авточехлов для иномарок и отечественных автомобилей оптом и в розницу в Екатеринбурге\r\nОфициальный сервисный центр Whirlpool Corporation открыл свои двери жителям Екатеринбурга\r\nКакие услуги можно получить по полису ОМС (обязательного медицинского страхования) бесплатно\r\nЕкатеринбургский центр занятости предлагает горожанам записаться на консультацию на сайте Департамента по труду и занятости Свердловской области\r\nЕкатеринбургский центр занятости приглашает граждан предпенсионного возраста пройти бесплатное обучение\r\nЧто приготовить на ужин быстро и вкусно: салат из куриной грудки рецепт с фото своими руками или на заказ\r\nМежрегиональная общественная организация «Аистенок» проводит благотворительную акцию «Мама, останься!»\r\nЛечение синдрома хронической усталости с помощью дыхательных упражнений\r\nТорт из морковки простой рецепт с фото своими руками или на заказ\r\nИмущественные споры граждан при разводе (расторжении брака) в мировом суде: «Эксперт-Ком» Екатеринбург\r\nЧто приготовить на ужин быстро и вкусно: куриные маффины с грибами рецепт с фото пошагово\r\nЧто приготовить на ужин быстро и вкусно: открытый пирог с семгой и брокколи рецепт с фото\r\nЧто приготовить на ужин быстро и вкусно: ризотто с грибами и курицей рецепт с фото пошагово\r\nВсе актуальные сюжеты…\r\nСетевое издание Служба новостей 050 25 апреля 2017г. зарегистрировано в Федеральной службе по надзору в сфере связи,\r\nинформационных технологий и массовых коммуникаций (Роскомнадзор)\r\nСвидетельство о регистрации ЭЛ № ФС77-69503\r\nУчредитель общество с ограниченной ответственностью «Горсправка-ИНФО»\r\nГлавный редактор Давыдов А.В.\r\nРуководитель проекта Николаев В.П.\r\nАдрес электронной почты редакции 1@0-50.ru\r\nТелефон редакции +7 (908) 914-27-00\r\nНастоящий ресурс содержит материалы 18+\r\n© Горсправка 2009-2019\r\n\r\r\n\r\r\nWARC/1.0\r\r\nWARC-Type: conversion\r\r\nWARC-Target-URI: http://03258d8.netsolhost.com/WordPress/?m=201112\r\r\nWARC-Date: 2023-11-28T08:55:36Z\r\r\nWARC-Record-ID: <urn:uuid:ebcfbcfe-95f3-4220-9ae7-06ff3f89b4b4>\r\r\nWARC-Refers-To: <urn:uuid:6d583533-efec-4864-89ea-6c1a5eacdbb2>\r\r\nWARC-Block-Digest: sha1:EJFH3O3MIWOH64JJ56IU7F7BOAUCE7HP\r\r\nWARC-Identified-Content-Language: eng\r\r\nContent-Type: text/plain\r\r\nContent-Length: 3512\r\r\n\r\r\nDecember2011 – Lyrasisms\r\nSkip to content\r\nTop Menu\r\nBio\r\nShort Films & Trailers\r\nPerformance\r\nPress\r\nStore\r\nSearch for:\r\nLyrasisms\r\nIf you're not on the edge, you're taking too much space...\r\nHome\r\n2011\r\nDecember\r\nDecember 2011\r\nTime Flies When You’re Having None\r\nalexlyras December 2, 2011 1\r\nFour weeks left in 2011….. Can that be possible? Where were we last New Year’s? Eating thirty-six oysters at the Mermaid Inn and listening to a phatass funk band at […]\r\nPrimary Sidebar\r\nConnect\r\nRecent Posts\r\nBest Men’s Monologues of 2019\r\nLove Nietzsche at The Blank Theatre\r\nPlasticity Wins Ovation Award\r\nPlasticity Nominations & Awards\r\nPlasticity E X T E N D S\r\ninstagram\r\nThe RSS feed for this twitter account is not loadable for the moment.\r\nFollow @lyrasalex on twitter.\r\nPopular\r\nRoller F**king: A Beating For George Carlin\r\nRe-gentrified\r\nThe World Is My Recliner\r\nMore Real Than Real: Philip K. Dick’s Visionary Post Humanism\r\nThe Hubris of the Penis\r\nJelly Roll Blues and Antigravity\r\nExcito-toxicity: The Fatal Flaw of Mental Viagra\r\nHurricane of Hype: What does not kill us, makes us softer!\r\nThe Magic Bowl, Part 2 – Madness and Musical Creativity\r\nOlympics As They Oughta Be\r\nCategories\r\nAbsurdities (23)\r\nComedic Misgivings (21)\r\nEmpire in Decline (40)\r\nEnvironmental Schisms (13)\r\nEssays (et al) (67)\r\nHow Sporting (7)\r\nLibations to Drama (31)\r\nSounds of Music (10)\r\nTechnical Ecstasy (32)\r\nBlogroll\r\nCommon AIr\r\nDavid Bordwell Film Analysis\r\nEnvironmental / Green\r\nFredriech Nietzsche\r\nJacques Lacan\r\nJohn Munch's Genius Wine Blog\r\nLefsetz, Bob\r\nLuc Sante\r\nMark Manson\r\nMona The Movie\r\nRobert LePage\r\nSearch & Restore\r\nSeth Godin\r\nSlavoj Zizek\r\nSoccer\r\nArchives\r\nMarch 2019\r\nFebruary 2018\r\nNovember 2017\r\nMarch 2017\r\nFebruary 2017\r\nJanuary 2017\r\nAugust 2016\r\nJuly 2016\r\nJune 2016\r\nApril 2016\r\nMarch 2016\r\nJanuary 2016\r\nNovember 2015\r\nSeptember 2015\r\nAugust 2015\r\nJuly 2015\r\nMay 2015\r\nApril 2015\r\nMarch 2015\r\nFebruary 2015\r\nJanuary 2015\r\nDecember 2014\r\nNovember 2014\r\nOctober 2014\r\nSeptember 2014\r\nAugust 2014\r\nJuly 2014\r\nJune 2014\r\nMay 2014\r\nApril 2014\r\nMarch 2014\r\nFebruary 2014\r\nJanuary 2014\r\nDecember 2013\r\nNovember 2013\r\nOctober 2013\r\nSeptember 2013\r\nAugust 2013\r\nJuly 2013\r\nJune 2013\r\nMay 2013\r\nApril 2013\r\nMarch 2013\r\nFebruary 2013\r\nJanuary 2013\r\nDecember 2012\r\nNovember 2012\r\nOctober 2012\r\nSeptember 2012\r\nAugust 2012\r\nJuly 2012\r\nJune 2012\r\nMay 2012\r\nApril 2012\r\nMarch 2012\r\nFebruary 2012\r\nJanuary 2012\r\nDecember 2011\r\nNovember 2011\r\nOctober 2011\r\nSeptember 2011\r\nAugust 2011\r\nJuly 2011\r\nJune 2011\r\nMay 2011\r\nApril 2011\r\nMarch 2011\r\nFebruary 2011\r\nJanuary 2011\r\nDecember 2010\r\nNovember 2010\r\nOctober 2010\r\nSeptember 2010\r\nAugust 2010\r\nJuly 2010\r\nJune 2010\r\nMay 2010\r\nApril 2010\r\nMarch 2010\r\nFebruary 2010\r\nJanuary 2010\r\nDecember 2009\r\nNovember 2009\r\nOctober 2009\r\nSeptember 2009\r\nAugust 2009\r\nJuly 2009\r\nJune 2009\r\nMay 2009\r\nApril 2009\r\nMarch 2009\r\nFebruary 2009\r\nJanuary 2009\r\nDecember 2008\r\nNovember 2008\r\nOctober 2008\r\nSeptember 2008\r\nAugust 2008\r\nRecent Posts\r\nBest Men’s Monologues of 2019\r\nLove Nietzsche at The Blank Theatre\r\nPlasticity Wins Ovation Award\r\nPlasticity Nominations & Awards\r\nPlasticity E X T E N D S\r\nCategories\r\nAbsurdities (23)\r\nComedic Misgivings (21)\r\nEmpire in Decline (40)\r\nEnvironmental Schisms (13)\r\nEssays (et al) (67)\r\nHow Sporting (7)\r\nLibations to Drama (31)\r\nSounds of Music (10)\r\nTechnical Ecstasy (32)\r\nBlogroll\r\nCommon AIr\r\nDavid Bordwell Film Analysis\r\nEnvironmental / Green\r\nFredriech Nietzsche\r\nJacques Lacan\r\nJohn Munch's Genius Wine Blog\r\nLefsetz, Bob\r\nLuc Sante\r\nMark Manson\r\nMona The Movie\r\nRobert LePage\r\nSearch & Restore\r\nSeth Godin\r\nSlavoj Zizek\r\nSoccer\r\nCopyright © 2023 Lyrasisms. Powered by WordPress and Stargazer.\r\n\r\r\n\r\r\nWARC/1.0\r\r\nWARC-Type: conversion\r\r\nWARC-Target-URI: http://0401.ut-383.com/index.phtml?PUT=a_show&AID=184898&FID=267009\r\r\nWARC-Date: 2023-11-28T11:04:21Z\r\r\nWARC-Record-ID: <urn:uuid:0122f216-b293-4f87-b4c3-6f68b7b86048>\r\r\nWARC-Refers-To: <urn:uuid:121e2fb4-a2e8-432b-b909-41c6855c1365>\r\r\nWARC-Block-Digest: sha1:YVFC6NIC7XYLBBDPHR4ESU72DZGDRHXO\r\r\nWARC-Identified-Content-Language: zho\r\r\nContent-Type: text/plain\r\r\nContent-Length: 2909\r\r\n\r\r\n視訊妹 - 影音Live秀\r\n回 首 頁 │ 點數購買 │ 付款方式 │ 加入會員 │會員登入 │主持人登入 │ 線上客服 │使用說明 │ 使用條款 │\r\n(過氣主播) 一對一忙線中 最近上線時間 : 2023-11-28 19:04:15\r\n進入包廂 送禮 給主持人打分數 加到我的最愛 說明\r\n免費文字聊天: 免費一對多專區\r\n一對多視訊聊天: 免費一對多專區\r\n一對一視訊聊天: 每分鐘 35 點\r\n性別: 女性\r\n年齡: 20 歲\r\n血型: B型\r\n身高: 160 公分(cm)\r\n體重: 43 公斤(kg)\r\n區域: 台北市\r\n平均評價 5.0000 分\r\n平均評價 5.0000 分\r\n平均評價 5.0000 分\r\n平均評價 5.0000 分\r\n註﹕最高值 5分\r\n會員[ LV5622106 ] 走不出的回憶 的評論：下次在來 沒點數了 XDD ( 2023-11-25 21:56:00 )\r\n會員[ LV5588437 ] 落下花落 的評論：很超值 ( 2023-11-25 04:58:52 )\r\n會員[ LV2437696 ] ininder@@ 的評論：好欸 ( 2023-11-24 21:49:36 )\r\n會員[ LV6921822 ] 眸眸 的評論：我剛剛去買鑽石送你了 ( 2023-11-24 03:44:19 )\r\n會員[ LV7235461 ] Mark666 的評論：身材絕頂 超好！！！ ( 2023-11-21 02:14:03 )\r\n會員[ LV3054447 ] 我只是個平凡的人 的評論：神，超會，電動小屁股 ( 2023-11-19 04:51:27 )\r\n會員[ LV2284367 ] 的評論：會一直誘惑的妹妹? 下次我再來找妳 ( 2023-11-18 03:22:31 )\r\n會員[ LV7338869 ] Hillill 的評論：身材好 超可愛 頂！ ( 2023-11-16 04:44:38 )\r\n會員[ LV7098714 ] 咖啡黑 的評論：很正又很騷 愛了愛了 ( 2023-11-10 20:16:36 )\r\n會員[ LV2670568 ] 軟莖添 的評論： ( 2023-11-09 12:58:28 )\r\n會員[ LV1870644 ] 管理員哥葛 的評論：可愛又性感 ( 2023-10-31 01:51:57 )\r\n會員[ LV6075921 ] 程曉 的評論：有夠色 滿滿的射給你 ( 2023-10-08 05:49:13 )\r\n會員[ LV3683617 ] Frankorgan 的評論：太棒了 ( 2023-10-05 20:26:38 )\r\n主持人最近上線記錄\r\n項次 日期 進入時間 離開時間 停留時間\r\n1 2023-11-28 18:26 19:04 38 分鐘\r\n2 15:01 18:24 203 分鐘\r\n3 01:42 09:06 444 分鐘\r\n4 2023-11-27 20:15 21:49 94 分鐘\r\n5 14:25 20:11 346 分鐘\r\n6 2023-11-26 15:41 15:46 5 分鐘\r\n7 15:16 15:35 19 分鐘\r\n8 00:30 06:03 333 分鐘\r\n9 2023-11-25 21:22 22:11 48 分鐘\r\n10 14:03 16:13 130 分鐘\r\n11 00:53 05:19 266 分鐘\r\n12 2023-11-24 21:10 23:56 166 分鐘\r\n13 00:00 04:26 266 分鐘\r\n14 2023-11-23 22:56 23:59 63 分鐘\r\n15 22:34 22:47 13 分鐘\r\n16 16:36 18:07 91 分鐘\r\n17 2023-11-22 18:48 19:15 27 分鐘\r\n18 13:16 16:25 188 分鐘\r\n19 00:00 03:51 231 分鐘\r\n20 2023-11-21 20:26 23:59 213 分鐘\r\n21 14:13 15:51 98 分鐘\r\n22 00:53 06:21 328 分鐘\r\n23 2023-11-20 16:15 19:32 197 分鐘\r\n24 2023-11-19 14:23 15:08 46 分鐘\r\n25 14:19 14:21 1 分鐘\r\n26 11:33 13:11 98 分鐘\r\n27 01:06 05:44 278 分鐘\r\n28 2023-11-18 01:52 03:48 116 分鐘\r\n29 2023-11-17 20:16 23:34 198 分鐘\r\n30 17:01 19:29 148 分鐘\r\nCopyright © 2023 By 視訊妹 - 影音Live秀 All Rights Reserved.\r\n│ 主持人登入 │\r\n123123\r\n\r\r\n\r\r\nWARC/1.0\r\r\nWARC-Type: conversion\r\r\nWARC-Target-URI: http://0455.hk/index.asp?areaid=50\r\r\nWARC-Date: 2023-11-28T10:03:48Z\r\r\nWARC-Record-ID: <urn:uuid:562a91de-4790-40b7-bc40-9b580ea37292>\r\r\nWARC-Refers-To: <urn:uuid:2f09a1f3-184b-4674-98b4-d3846ebed303>\r\r\nWARC-Block-Digest: sha1:HJDJQ3F4HOB5G6DHMNTINPGW5ZS7FEND\r\r\nWARC-Identified-Content-Language: zho\r\r\nContent-Type: text/plain\r\r\nContent-Length: 27814\r\r\n\r\r\n兰西信息网- www.0455.hk 免费发布各类供求信息！\r\n手机版，当前在线1112人\r\n2023年11月28日\r\n星期二 万年历\r\n历史上的今天\r\n切换地区:兰西\r\n绥化市\r\n望奎县\r\n兰西县\r\n青冈县\r\n庆安县\r\n明水县\r\n绥棱县\r\n安达市\r\n肇东市\r\n海伦市\r\n郑重提示：本站是个公益性的信息平台，我们对您的交易不做担保！建议大家当面交易，交易前请查看对方有效身份证件，以免上当！\r\n全部 求租 招租 求购 出售 收售 转让 交换 求职 招聘 招生 培训 家教 家政 运输 维修 装修 礼仪 征婚 交友 旅游 招商 代理 合作 商机 求助 启事 其它\r\n首页\r\n求租\r\n招租\r\n求购\r\n出售\r\n收售\r\n转让\r\n交换\r\n求职\r\n招聘\r\n招生\r\n培训\r\n家教\r\n家政\r\n运输\r\n维修\r\n装修\r\n礼仪\r\n征婚\r\n交友\r\n旅游\r\n招商\r\n代理\r\n合作\r\n商机\r\n求助\r\n启事\r\n其它\r\n售房专版\r\n保姆\r\n\r\ngzip: stdout: Broken pipe\r\n"
     ]
    }
   ],
   "source": [
    "# uncomment & run the following code:\n",
    "!zcat CC-MAIN-20231128083443-20231128113443-00000.warc.wet.gz | head -n 500\n",
    "\n",
    "# this reads the first 500 lines of the file you downloaded into the notebook's local file system (not distributed file)\n",
    "\n"
   ]
  },
  {
   "cell_type": "markdown",
   "metadata": {
    "application/vnd.databricks.v1+cell": {
     "cellMetadata": {
      "byteLimit": 2048000,
      "rowLimit": 10000
     },
     "inputWidgets": {},
     "nuid": "90b56b6f-8c23-4045-b13a-a47a9a2567d6",
     "showTitle": false,
     "title": ""
    }
   },
   "source": [
    "✍️  What kind of data is this, compared to the first dataset?\n",
    "\n",
    "\n",
    "First dataset looks more structured data as compared to this dataset it looks like a raw material. This data contains everything from HTML to Headers etc. It looks like this data needs to be further processing. The first data looks more organized and cleaned then this one. "
   ]
  },
  {
   "cell_type": "code",
   "execution_count": 0,
   "metadata": {
    "application/vnd.databricks.v1+cell": {
     "cellMetadata": {
      "byteLimit": 2048000,
      "rowLimit": 10000
     },
     "inputWidgets": {},
     "nuid": "62745deb-7949-47be-aab9-b01bb9894062",
     "showTitle": false,
     "title": ""
    }
   },
   "outputs": [
    {
     "output_type": "stream",
     "name": "stdout",
     "output_type": "stream",
     "text": [
      "--2024-03-04 03:35:56--  https://data.commoncrawl.org/crawl-data/CC-MAIN-2023-50/segments/1700679099281.67/warc/CC-MAIN-20231128083443-20231128113443-00000.warc.gz\r\nResolving data.commoncrawl.org (data.commoncrawl.org)... 99.84.66.110, 99.84.66.123, 99.84.66.102, ...\r\nConnecting to data.commoncrawl.org (data.commoncrawl.org)|99.84.66.110|:443... connected.\r\nHTTP request sent, awaiting response... 200 OK\r\nLength: 1208969113 (1.1G) [application/octet-stream]\r\nSaving to: ‘CC-MAIN-20231128083443-20231128113443-00000.warc.gz’\r\n\r\n\r          CC-MAIN-2   0%[                    ]       0  --.-KB/s               \r         CC-MAIN-20   0%[                    ]  11.50M  57.4MB/s               \r        CC-MAIN-202   1%[                    ]  20.63M  51.5MB/s               \r       CC-MAIN-2023   2%[                    ]  31.63M  52.7MB/s               \r      CC-MAIN-20231   3%[                    ]  42.65M  53.3MB/s               \r     CC-MAIN-202311   4%[                    ]  52.41M  52.4MB/s               \r    CC-MAIN-2023112   5%[>                   ]  62.41M  52.0MB/s               \r   CC-MAIN-20231128   6%[>                   ]  70.50M  50.3MB/s               \r  CC-MAIN-202311280   6%[>                   ]  79.37M  49.6MB/s               \r CC-MAIN-2023112808   7%[>                   ]  89.33M  49.6MB/s               \rCC-MAIN-20231128083   8%[>                   ] 100.68M  50.3MB/s               \rC-MAIN-202311280834   9%[>                   ] 112.74M  51.2MB/s               \r-MAIN-2023112808344  10%[=>                  ] 118.18M  49.2MB/s               \rMAIN-20231128083443  10%[=>                  ] 124.44M  47.8MB/s               \rAIN-20231128083443-  11%[=>                  ] 132.44M  47.2MB/s               \rIN-20231128083443-2  12%[=>                  ] 145.66M  48.5MB/s    eta 21s    \rN-20231128083443-20  13%[=>                  ] 157.60M  49.1MB/s    eta 21s    \r-20231128083443-202  14%[=>                  ] 169.03M  49.4MB/s    eta 21s    \r20231128083443-2023  15%[==>                 ] 179.97M  49.8MB/s    eta 21s    \r0231128083443-20231  16%[==>                 ] 187.22M  48.1MB/s    eta 21s    \r231128083443-202311  17%[==>                 ] 197.97M  48.1MB/s    eta 19s    \r31128083443-2023112  18%[==>                 ] 209.04M  48.7MB/s    eta 19s    \r1128083443-20231128  19%[==>                 ] 220.24M  49.8MB/s    eta 19s    \r128083443-202311281  19%[==>                 ] 230.57M  50.0MB/s    eta 19s    \r28083443-2023112811  20%[===>                ] 239.61M  49.8MB/s    eta 19s    \r8083443-20231128113  21%[===>                ] 251.36M  50.1MB/s    eta 18s    \r083443-202311281134  22%[===>                ] 259.66M  49.1MB/s    eta 18s    \r83443-2023112811344  23%[===>                ] 269.78M  49.6MB/s    eta 18s    \r3443-20231128113443  24%[===>                ] 280.28M  50.5MB/s    eta 18s    \r443-20231128113443-  25%[====>               ] 288.91M  51.7MB/s    eta 18s    \r43-20231128113443-0  25%[====>               ] 299.10M  51.6MB/s    eta 17s    \r3-20231128113443-00  26%[====>               ] 310.05M  51.1MB/s    eta 17s    \r-20231128113443-000  28%[====>               ] 322.91M  51.3MB/s    eta 17s    \r20231128113443-0000  29%[====>               ] 334.72M  51.6MB/s    eta 17s    \r0231128113443-00000  29%[====>               ] 342.85M  50.7MB/s    eta 17s    \r231128113443-00000.  30%[=====>              ] 353.60M  51.9MB/s    eta 16s    \r31128113443-00000.w  31%[=====>              ] 365.16M  52.2MB/s    eta 16s    \r1128113443-00000.wa  32%[=====>              ] 375.00M  51.5MB/s    eta 16s    \r128113443-00000.war  33%[=====>              ] 382.94M  50.9MB/s    eta 16s    \r28113443-00000.warc  34%[=====>              ] 393.75M  51.3MB/s    eta 16s    \r8113443-00000.warc.  35%[======>             ] 403.82M  51.0MB/s    eta 15s    \r113443-00000.warc.g  35%[======>             ] 414.44M  51.4MB/s    eta 15s    \r13443-00000.warc.gz  36%[======>             ] 424.19M  51.7MB/s    eta 15s    \r3443-00000.warc.gz   37%[======>             ] 434.19M  51.1MB/s    eta 15s    \r443-00000.warc.gz    38%[======>             ] 444.62M  51.5MB/s    eta 15s    \r43-00000.warc.gz     39%[======>             ] 455.94M  52.3MB/s    eta 14s    \r3-00000.warc.gz      40%[=======>            ] 466.44M  52.2MB/s    eta 14s    \r-00000.warc.gz       41%[=======>            ] 476.50M  51.1MB/s    eta 14s    \r00000.warc.gz        41%[=======>            ] 484.04M  49.8MB/s    eta 14s    \r0000.warc.gz         42%[=======>            ] 494.19M  49.7MB/s    eta 14s    \r000.warc.gz          43%[=======>            ] 503.18M  49.6MB/s    eta 13s    \r00.warc.gz           44%[=======>            ] 513.84M  49.5MB/s    eta 13s    \r0.warc.gz            45%[========>           ] 520.94M  48.6MB/s    eta 13s    \r.warc.gz             45%[========>           ] 529.31M  48.8MB/s    eta 13s    \rwarc.gz              46%[========>           ] 540.87M  49.1MB/s    eta 13s    \rarc.gz               47%[========>           ] 550.86M  48.9MB/s    eta 12s    \rrc.gz                48%[========>           ] 561.42M  48.8MB/s    eta 12s    \rc.gz                 49%[========>           ] 568.53M  47.8MB/s    eta 12s    \r.gz                  49%[========>           ] 575.46M  46.8MB/s    eta 12s    \rgz                   50%[=========>          ] 586.80M  47.2MB/s    eta 12s    \rz                    51%[=========>          ] 596.74M  46.8MB/s    eta 11s    \r                     52%[=========>          ] 609.11M  47.7MB/s    eta 11s    \r                  C  53%[=========>          ] 616.47M  46.3MB/s    eta 11s    \r                 CC  53%[=========>          ] 621.24M  44.8MB/s    eta 11s    \r                CC-  54%[=========>          ] 628.55M  44.5MB/s    eta 11s    \r               CC-M  55%[==========>         ] 638.37M  45.0MB/s    eta 11s    \r              CC-MA  56%[==========>         ] 648.86M  45.1MB/s    eta 11s    \r             CC-MAI  56%[==========>         ] 654.92M  44.4MB/s    eta 11s    \r            CC-MAIN  57%[==========>         ] 660.49M  43.6MB/s    eta 11s    \r           CC-MAIN-  57%[==========>         ] 667.42M  42.4MB/s    eta 11s    \r          CC-MAIN-2  58%[==========>         ] 672.67M  40.2MB/s    eta 10s    \r         CC-MAIN-20  59%[==========>         ] 683.92M  40.7MB/s    eta 10s    \r        CC-MAIN-202  59%[==========>         ] 691.67M  40.4MB/s    eta 10s    \r       CC-MAIN-2023  60%[===========>        ] 701.49M  41.8MB/s    eta 10s    \r      CC-MAIN-20231  61%[===========>        ] 712.29M  41.3MB/s    eta 10s    \r     CC-MAIN-202311  62%[===========>        ] 722.45M  42.1MB/s    eta 9s     \r    CC-MAIN-2023112  63%[===========>        ] 734.55M  41.6MB/s    eta 9s     \r   CC-MAIN-20231128  64%[===========>        ] 744.83M  42.2MB/s    eta 9s     \r  CC-MAIN-202311280  65%[============>       ] 757.04M  44.3MB/s    eta 9s     \r CC-MAIN-2023112808  66%[============>       ] 766.49M  45.4MB/s    eta 9s     \rCC-MAIN-20231128083  67%[============>       ] 777.11M  46.1MB/s    eta 8s     \rC-MAIN-202311280834  68%[============>       ] 786.30M  45.4MB/s    eta 8s     \r-MAIN-2023112808344  68%[============>       ] 794.23M  45.5MB/s    eta 8s     \rMAIN-20231128083443  69%[============>       ] 798.99M  45.5MB/s    eta 8s     \rAIN-20231128083443-  70%[=============>      ] 809.00M  46.5MB/s    eta 8s     \rIN-20231128083443-2  71%[=============>      ] 822.31M  48.6MB/s    eta 7s     \rN-20231128083443-20  72%[=============>      ] 832.62M  49.7MB/s    eta 7s     \r-20231128083443-202  73%[=============>      ] 842.62M  49.5MB/s    eta 7s     \r20231128083443-2023  73%[=============>      ] 852.38M  50.0MB/s    eta 7s     \r0231128083443-20231  74%[=============>      ] 861.16M  49.6MB/s    eta 7s     \r231128083443-202311  75%[==============>     ] 873.31M  50.1MB/s    eta 6s     \r31128083443-2023112  76%[==============>     ] 880.20M  49.2MB/s    eta 6s     \r1128083443-20231128  77%[==============>     ] 888.56M  48.0MB/s    eta 6s     \r128083443-202311281  77%[==============>     ] 899.11M  47.7MB/s    eta 6s     \r28083443-2023112811  78%[==============>     ] 910.50M  48.1MB/s    eta 6s     \r8083443-20231128113  79%[==============>     ] 921.31M  48.0MB/s    eta 5s     \r083443-202311281134  80%[===============>    ] 929.62M  47.2MB/s    eta 5s     \r83443-2023112811344  81%[===============>    ] 938.50M  47.8MB/s    eta 5s     \r3443-20231128113443  82%[===============>    ] 946.99M  49.1MB/s    eta 5s     \r443-20231128113443-  82%[===============>    ] 956.11M  49.2MB/s    eta 5s     \r43-20231128113443-0  83%[===============>    ] 964.84M  48.1MB/s    eta 4s     \r3-20231128113443-00  84%[===============>    ] 973.48M  46.7MB/s    eta 4s     \r-20231128113443-000  84%[===============>    ] 978.92M  45.7MB/s    eta 4s     \r20231128113443-0000  85%[================>   ] 987.94M  45.3MB/s    eta 4s     \r0231128113443-00000  86%[================>   ] 999.23M  46.1MB/s    eta 4s     \r231128113443-00000.  87%[================>   ]   1009M  45.4MB/s    eta 3s     \r31128113443-00000.w  88%[================>   ]   1020M  46.5MB/s    eta 3s     \r1128113443-00000.wa  89%[================>   ]   1.01G  47.7MB/s    eta 3s     \r128113443-00000.war  90%[=================>  ]   1.01G  45.0MB/s    eta 3s     \r28113443-00000.warc  91%[=================>  ]   1.04G  48.5MB/s    eta 3s     \r8113443-00000.warc.  92%[=================>  ]   1.04G  47.9MB/s    eta 2s     \r113443-00000.warc.g  93%[=================>  ]   1.05G  48.2MB/s    eta 2s     \r13443-00000.warc.gz  94%[=================>  ]   1.06G  48.3MB/s    eta 2s     \r3443-00000.warc.gz   95%[==================> ]   1.08G  49.2MB/s    eta 2s     \r443-00000.warc.gz    96%[==================> ]   1.08G  49.9MB/s    eta 2s     \r43-00000.warc.gz     97%[==================> ]   1.10G  50.7MB/s    eta 1s     \r3-00000.warc.gz      98%[==================> ]   1.11G  51.2MB/s    eta 1s     \r-00000.warc.gz       99%[==================> ]   1.12G  52.0MB/s    eta 1s     \r00000.warc.gz        99%[==================> ]   1.12G  52.1MB/s    eta 1s     \rCC-MAIN-20231128083 100%[===================>]   1.12G  52.2MB/s    in 24s     \r\n\r\n2024-03-04 03:36:20 (48.4 MB/s) - ‘CC-MAIN-20231128083443-20231128113443-00000.warc.gz’ saved [1208969113/1208969113]\r\n\r\n"
     ]
    }
   ],
   "source": [
    "# let's pull in more common crawl data!\n",
    "# uncomment & run the following code:\n",
    "!wget https://data.commoncrawl.org/crawl-data/CC-MAIN-2023-50/segments/1700679099281.67/warc/CC-MAIN-20231128083443-20231128113443-00000.warc.gz\n"
   ]
  },
  {
   "cell_type": "code",
   "execution_count": 0,
   "metadata": {
    "application/vnd.databricks.v1+cell": {
     "cellMetadata": {
      "byteLimit": 2048000,
      "rowLimit": 10000
     },
     "inputWidgets": {},
     "nuid": "5752bb72-e8da-483b-8924-d8921202f595",
     "showTitle": false,
     "title": ""
    }
   },
   "outputs": [
    {
     "output_type": "stream",
     "name": "stdout",
     "output_type": "stream",
     "text": [
      "WARC/1.0\r\r\nWARC-Type: warcinfo\r\r\nWARC-Date: 2023-11-28T08:34:43Z\r\r\nWARC-Record-ID: <urn:uuid:2b6daf87-e3fb-4851-a842-b24612e49256>\r\r\nContent-Length: 499\r\r\nContent-Type: application/warc-fields\r\r\nWARC-Filename: CC-MAIN-20231128083443-20231128113443-00000.warc.gz\r\r\n\r\r\nisPartOf: CC-MAIN-2023-50\r\r\npublisher: Common Crawl\r\r\ndescription: Wide crawl of the web for November/December 2023\r\r\noperator: Common Crawl Admin (info@commoncrawl.org)\r\r\nhostname: ip-10-67-67-56\r\r\nsoftware: Apache Nutch 1.19 (modified, https://github.com/commoncrawl/nutch/)\r\r\nrobots: checked via crawler-commons 1.5-SNAPSHOT (https://github.com/crawler-commons/crawler-commons)\r\r\nformat: WARC File Format 1.1\r\r\nconformsTo: https://iipc.github.io/warc-specifications/specifications/warc-format/warc-1.1/\r\r\n\r\r\n\r\r\nWARC/1.0\r\r\nWARC-Type: request\r\r\nWARC-Date: 2023-11-28T11:34:01Z\r\r\nWARC-Record-ID: <urn:uuid:0ca80b2d-5a43-41a0-8809-bfe4626f2f8d>\r\r\nContent-Length: 277\r\r\nContent-Type: application/http; msgtype=request\r\r\nWARC-Warcinfo-ID: <urn:uuid:2b6daf87-e3fb-4851-a842-b24612e49256>\r\r\nWARC-IP-Address: 45.86.182.34\r\r\nWARC-Target-URI: http://0-50.ru/news/line/2014-07-13/id_43733.html\r\r\n\r\r\nGET /news/line/2014-07-13/id_43733.html HTTP/1.1\r\r\nUser-Agent: CCBot/2.0 (https://commoncrawl.org/faq/)\r\r\nAccept: text/html,application/xhtml+xml,application/xml;q=0.9,*/*;q=0.8\r\r\nAccept-Language: en-US,en;q=0.5\r\r\nAccept-Encoding: br,gzip\r\r\nHost: 0-50.ru\r\r\nConnection: Keep-Alive\r\r\n\r\r\n\r\r\n\r\r\nWARC/1.0\r\r\nWARC-Type: response\r\r\nWARC-Date: 2023-11-28T11:34:01Z\r\r\nWARC-Record-ID: <urn:uuid:60a1e8f3-68a9-437c-937c-e52edd95c91c>\r\r\nContent-Length: 42587\r\r\nContent-Type: application/http; msgtype=response\r\r\nWARC-Warcinfo-ID: <urn:uuid:2b6daf87-e3fb-4851-a842-b24612e49256>\r\r\nWARC-Concurrent-To: <urn:uuid:0ca80b2d-5a43-41a0-8809-bfe4626f2f8d>\r\r\nWARC-IP-Address: 45.86.182.34\r\r\nWARC-Target-URI: http://0-50.ru/news/line/2014-07-13/id_43733.html\r\r\nWARC-Payload-Digest: sha1:67CQWUT4XOY3JRPSG3YED7QSNESUYJSS\r\r\nWARC-Block-Digest: sha1:KZZSFR27UGIJIE74JN4TKKXOKPJ4EK4S\r\r\nWARC-Identified-Payload-Type: text/html\r\r\n\r\r\nHTTP/1.1 200 OK\r\r\nServer: nginx/1.12.1\r\r\nDate: Tue, 28 Nov 2023 11:34:01 GMT\r\r\nContent-Type: text/html; charset=windows-1251\r\r\nX-Crawler-Transfer-Encoding: chunked\r\r\nConnection: keep-alive\r\r\nX-Powered-By: PHP/5.4.38\r\r\nExpires: Thu, 19 Nov 1981 08:52:00 GMT\r\r\nCache-Control: no-store, no-cache, must-revalidate, post-check=0, pre-check=0\r\r\nPragma: no-cache\r\r\nSet-Cookie: PHPSESSID=4b9cb29126d6b614fa861958ddb5cfdd; path=/\r\r\nLast-Modified: Mon, 25 Jan 2016 07:03:36 GMT\r\r\nX-Crawler-Content-Encoding: gzip\r\r\nContent-Length: 42070\r\r\n\r\r\n<!doctype html>\r\n<html lang=\"ru\">\r\n<head>\r\n\t<meta charset=\"windows-1251\">\r\n\t<title>������� 0-50.ru | ��������� ������� �������������� ������ � ������� ������� ������������ | </title>\r\n\t<meta name=\"title\" content=\"��������� ������� �������������� ������ � ������� ������� ������������\">\r\n\t<meta property=\"og:title\" content=\"��������� ������� �������������� ������ � ������� ������� ������������\">\r\n\t<meta property=\"og:image\" content=\"http://0-50.ru/images/foto/49761_full.jpg\">\r\n\t<meta name=\"description\" content=\"��������� ������� ���� ��������� ������� ���� �������������� ������ � ������� ������� ������������, ������������ ��������.\">\r\n\t<meta name=\"Author\" content=\"0-50.ru\">\r\n\t<meta name=\"twitter:image:src\" content=\"http://0-50.ru/images/foto/49761_full.jpg\">\r\n\t\r\n\t<!--[if lt IE 9]>\r\n\t\t<script src=\"http://html5shim.googlecode.com/svn/trunk/html5.js\"></script>\r\n\t<![endif]-->\r\n\t<meta name=\"rp51afcaa28a694b82948bd3a36a0490f8\" content=\"f3aeec7e35993bbadcd70e9a9c5bb26d\" />\r\n\t<!-- Mobile Specific Metas -->\r\n\t<meta name=\"viewport\" content=\"width=device-width, initial-scale=1, maximum-scale=1\" /> \r\n\t\r\n\t<script type=\"text/javascript\">\r\n\t\tvar browser\t\t\t= navigator.userAgent;\r\n\t\tvar browserRegex\t= /(Android|BlackBerry|IEMobile|Nokia|iP(ad|hone|od)|Opera M(obi|ini))/;\r\n\t\tvar isMobile\t\t= false;\r\n\t\tif(browser.match(browserRegex)) {\r\n\t\t\tisMobile\t\t\t= true;\r\n\t\t\taddEventListener(\"load\", function() { setTimeout(hideURLbar, 0); }, false);\r\n\t\t\tfunction hideURLbar(){\r\n\t\t\t\twindow.scrollTo(0,1);\r\n\t\t\t}\r\n\t\t}\r\n\t</script>\r\n\t\r\n\t<script>(function(e){var t=\"DIV_DA_\"+e+\"_\"+parseInt(Math.random()*1e3); document.write('<div id=\"'+t+'\" class=\"directadvert-block directadvert-block-'+e+'\"></div>'); if(\"undefined\"===typeof loaded_blocks_directadvert){loaded_blocks_directadvert=[]; function n(){var e=loaded_blocks_directadvert.shift(); var t=e.adp_id; var r=e.div; var i=document.createElement(\"script\"); i.type=\"text/javascript\"; i.async=true; i.charset=\"windows-1251\"; i.src=\"//code.directadvert.ru/data/\"+t+\".js?async=1&div=\"+r+\"&t=\"+Math.random(); var s=document.getElementsByTagName(\"head\")[0]||document.getElementsByTagName(\"body\")[0]; s.appendChild(i); var o=setInterval(function(){if(document.getElementById(r).innerHTML&&loaded_blocks_directadvert.length){n(); clearInterval(o)}},50)} setTimeout(n)}loaded_blocks_directadvert.push({adp_id:e,div:t})})(215743)</script>\r\n\t<!-- CSS -->\r\n\t<link rel=\"stylesheet\" href=\"/includes/base.css\">\r\n\t<link rel=\"stylesheet\" href=\"/includes/style.css\">\r\n\t<link rel=\"stylesheet\" href=\"/includes/layout.css\">\r\n\t<link rel=\"stylesheet\" href=\"/includes/amazium.css\">\r\n\t<!-- Favicons -->\r\n\t<link rel=\"shortcut icon\" href=\"/images/favicon.ico\">\r\n\r\n\t<!-- To Top scripts -->\r\n\t<script src=\"/includes/smoothscroll.js\"type=\"text/javascript\" ></script>\r\n\t<script src=\"http://code.jquery.com/jquery-1.9.1.min.js\" type=\"text/javascript\"></script>\r\n\t<script src=\"/includes/jquery.easing.1.3.js\" type=\"text/javascript\"></script>\r\n\t<script src=\"/includes/jquery.ui.totop.js\" type=\"text/javascript\"></script>\r\n\t<script type=\"text/javascript\">\r\n\t\t$(document).ready(function() {\r\n\t\t\t$().UItoTop({ easingType: 'easeOutQuart',text: '������' });\r\n\t\t});\r\n\t</script>\r\n\t\r\n<!-- Add mousewheel plugin (this is optional) -->\r\n<script type=\"text/javascript\" src=\"/include/fancybox/lib/jquery.mousewheel-3.0.6.pack.js\"></script>\r\n\r\n<!-- Add fancyBox -->\r\n<link rel=\"stylesheet\" href=\"/include/fancybox/source/jquery.fancybox.css?v=2.1.4\" type=\"text/css\" media=\"screen\" />\r\n<script type=\"text/javascript\" src=\"/include/fancybox/source/jquery.fancybox.pack.js?v=2.1.4\"></script>\r\n<link rel=\"apple-touch-icon\" sizes=\"57x57\" href=\"/apple-touch-icon-57.png\" />\r\n<!-- Retina iPhone, iPod touch -->\r\n<link rel=\"apple-touch-icon\" sizes=\"114x114\" href=\"/apple-touch-icon-114.png\" />\r\n<!-- Standard iPad -->\r\n<link rel=\"apple-touch-icon\" sizes=\"72x72\" href=\"/apple-touch-icon-72.png\" />\r\n<!-- Retina iPad -->\r\n<link rel=\"apple-touch-icon\" sizes=\"144x144\" href=\"/apple-touch-icon-144.png\" />\r\n\r\n<script type=\"text/javascript\" src=\"/include/swfobject/swfobject.js\"></script>\r\n</head>\r\n<body>\r\n<!-- Yandex.Metrika counter -->\r\n<script type=\"text/javascript\">\r\n(function (d, w, c) {\r\n    (w[c] = w[c] || []).push(function() {\r\n        try {\r\n            w.yaCounter21009928 = new Ya.Metrika({id:21009928,\r\n                    webvisor:true,\r\n                    clickmap:true,\r\n                    trackLinks:true,\r\n                    accurateTrackBounce:true});\r\n        } catch(e) { }\r\n    });\r\n\r\n    var n = d.getElementsByTagName(\"script\")[0],\r\n        s = d.createElement(\"script\"),\r\n        f = function () { n.parentNode.insertBefore(s, n); };\r\n    s.type = \"text/javascript\";\r\n    s.async = true;\r\n    s.src = (d.location.protocol == \"https:\" ? \"https:\" : \"http:\") + \"//mc.yandex.ru/metrika/watch.js\";\r\n\r\n    if (w.opera == \"[object Opera]\") {\r\n        d.addEventListener(\"DOMContentLoaded\", f, false);\r\n    } else { f(); }\r\n})(document, window, \"yandex_metrika_callbacks\");\r\n</script>\r\n<noscript><div><img src=\"//mc.yandex.ru/watch/21009928\" style=\"position:absolute; left:-9999px;\" alt=\"\" /></div></noscript>\r\n<!-- /Yandex.Metrika counter -->\r\n\r\n\r\n<header>\r\n\t<div class=\"row hide-phone\">\r\n\t\t<div class=\"grid_12\" id=\"label_top\"><ul class=\"nomargin nobullet\"> | <li class=\"nobullet inline noindent\"><a href=\"/news/label/%CF%EE%E3%EE%E4%E0+%E2+%C5%EA%E0%F2%E5%F0%E8%ED%E1%F3%F0%E3%E5+%E8+%D1%E2%E5%F0%E4%EB%EE%E2%F1%EA%EE%E9+%EE%E1%EB%E0%F1%F2%E8\">������ � ������������� � ������������ �������</a> | </li><li class=\"nobullet inline noindent\"><a href=\"/news/label/%D7%F2%EE+%EF%F0%E8%E3%EE%F2%EE%E2%E8%F2%FC+%ED%E0+%F3%E6%E8%ED+%F0%E5%F6%E5%EF%F2+%F1+%F4%EE%F2%EE\">��� ����������� �� ���� ������ � ����</a> | </li><li class=\"nobullet inline noindent\"><a href=\"/news/label/%CD%EE%E2%EE%F1%F2%E8+%C5%EA%E0%F2%E5%F0%E8%ED%E1%F3%F0%E3%E0\">������� �������������</a> | </li><li class=\"nobullet inline noindent\"><a href=\"/news/label/96women.ru+-+%C6%E8%E2%EE%E9+%C6%E5%ED%F1%EA%E8%E9+%C6%F3%F0%ED%E0%EB\">96women.ru - ����� ������� ������</a> | </li></ul></div>\r\n\t</div>\r\n\t<div class=\"row hide-phone\">\r\n\t\t<nav class=\"grid_12\" id=\"link\" >\r\n\t\t\t<ul class=\"float-right\">\r\n\t\t\t\t<li><a href=\"/\"><span>�������</span></a></li>\r\n\t\t\t\t<li><a href=\"/editorial.html\"><span>��������</span></a></li><li><a href=\"/advertising.html\"><span>�������</span></a></li><li><a href=\"/aboutus.html\"><span>� �������</span></a></li>\r\n\t\t\t\t<li><a href=\"/rss/\"><span>RSS</span></a></li>\r\n                <li><a href=\"/sendmail/\"><span>�������� �����</span></a></li>\r\n\t\t\t\t<li><a href=\"/news/\"><span>��� �������</span></a></li>\r\n\t\t\t</ul>\r\n\t\t</nav>\r\n\t</div>\r\n\t<div class=\"row\">\r\n\t\t<div class=\"grid_2\" id=\"logo\"><a href=\"http://0-50.ru/\"><img src=\"/images/logo.png\" alt=\"0-50.RU\" title=\"0-50.RU\" width=\"140\" height=\"88\" /></a></div>\r\n\t\t<div class=\"grid_10 hide-phone row\" id=\"top_banner\">\r\n\t\t\t<div class=\"grid_6\"></div>\r\n\t\t\t<div class=\"grid_2\"></div>\r\n\t\t\t<div class=\"grid_2\"><div class=\"banner\" id=\"banner_26\"><a href=\"/banners/26/\" title=\"\" target=\"_blank\" ><img src=\"/images/banners/73049_original.jpg\" /></a></div></div>\r\n\t\t</div>\r\n\t</div>\r\n\t<div class=\"row hide-phone\">\r\n\t<nav class=\"grid_12\" id=\"news_menu\">\r\n\t\t\t<ul class=\"nomargin nobullet\">\r\n\t\t\t\t<li class=\"nobullet inline\"><a href=\"/news/eburg/\">������������</a></li>\r\n\t\t\t\t<li class=\"nobullet inline\"><a href=\"/news/russia/\">������ � ���</a></li>\r\n\t\t\t\t<li class=\"nobullet inline\"><a href=\"/news/education/\">�����������</a></li>\r\n\t\t\t\t<li class=\"nobullet inline\"><a href=\"/news/polit/\">������������</a></li>\r\n\t\t\t\t<li class=\"nobullet inline\"><a href=\"/news/health/\">��������</a></li>\r\n\t\t\t\t<li class=\"nobullet inline\"><a href=\"/news/sport/\">�����</a></li>\r\n\t\t\t\t<li class=\"nobullet inline\"><a href=\"/news/incident/\">������������</a></li>\r\n\t\t\t\t<li class=\"nobullet inline\"><a href=\"/news/auto/\">���������</a></li>\r\n\t\t\t\t<li class=\"nobullet inline\"><a href=\"/news/company/\">������� ��������</a></li>\r\n\t\t\t\t<li class=\"nobullet inline\"><a href=\"/news/socium/\">������ �����</a></li>\r\n\t\t\t\t<li class=\"nobullet inline\"><a href=\"/news/article/\">������</a></li>\r\n\t\t\t</ul>\r\n\t</nav>\r\n\t</div>\r\n</header>\r\n\r\n<div class=\"row\" id=\"wrapper\">\r\n\t\r\n\t<div class=\"grid_8\">\r\n\t\t<div  id=\"search\" class=\"grid_8 row hide-phone\">\r\n\t\t<div id=\"date\" class=\"grid_2\"><!-- �������, 28&nbsp;������&nbsp;2023 --></div>\r\n\t\t<div class=\"grid_6 text-right\">\r\n\t\t\t<form method=\"get\" class=\"search\" action=\"/search/\">\r\n\t\t\t\t<div class=\"wrapper-block\"><input name=\"text\" class=\"textbox\" type=\"text\" value=\"\" />\r\n  \t\t\t\t<input class=\"submit btn-form\" value=\"�����\" type=\"submit\" /></div>\r\n\t\t\t</form>\r\n\t\t</div>\r\n\t\t</div>\r\n\t<div class=\"grid_8 row\" id=\"content\">\r\n\t\t<div class=\"grid_8\">\r\n\t\t\t<header><h1 class=\"grid_6\">��������� ������� �������������� ������ � ������� ������� ������������</h1></header>\r\n\t\t\t\r\n<div id=\"label\" class=\"hide-phone\"></div>\r\n<div class=\"content clear-left\">\r\n<img src=\"/images/foto/49761_preview.jpg\" alt=\"\" title=\"\" class=\"img-left\" />\r\n<p>��������� ������� ���� ��������� ������� ���� �������������� ������ � ������� ������� ������������, ������������ ��������.<br />\r\r\n<br />\r\r\n&quot;��������� ������ � ���� �������, ��� ��� � ������� ��������� ��������� ����� � ������������ ���� � �������� &quot;�� ���� � ���� �������&quot;! ������� ������ � �������� �������������� ������ � ������� ��������, ���� ���, ��� ���� ������� ��������� ���� ������������ � ������� ���������&quot;, &ndash; ��������� � ��������� ��������� � Facebook.<br />\r\r\n<br />\r\r\n�������������� ������������ ���������� � ������ �� 65-� ���� �����.</p><p class=\"tag\">����: <a href=\"/news/tag/%C2%E0%EB%E5%F0%E8%FF+%CD%EE%E2%EE%E4%E2%EE%F0%F1%EA%E0%FF\">������� ������������</a>, <a href=\"/news/tag/%F3%EC%E5%F0%EB%E0+%C2%E0%EB%E5%F0%E8%FF+%CD%EE%E2%EE%E4%E2%EE%F0%F1%EA%E0%FF\">������ ������� ������������</a>, <a href=\"/news/tag/%C2%E0%EB%E5%F0%E8%FF+%CD%EE%E2%EE%E4%E2%EE%F0%F1%EA%E0%FF+%F1%EA%EE%ED%F7%E0%EB%E0%F1%FC\">������� ������������ ����������</a>, <a href=\"/news/tag/%EE%F2+%F7%E5%E3%EE+%F3%EC%E5%F0%EB%E0+%C2%E0%EB%E5%F0%E8%FF+%CD%EE%E2%EE%E4%E2%EE%F0%F1%EA%E0%FF\">�� ���� ������ ������� ������������</a>, <a href=\"/news/tag/%EF%EE%F5%EE%F0%EE%ED%FB+%C2%E0%EB%E5%F0%E8%E8+%CD%EE%E2%EE%E4%E2%EE%F0%F1%EA%EE%E9\">�������� ������� ������������</a>, <a href=\"/news/tag/%EF%F0%E8%F7%E8%ED%E0+%F1%EC%E5%F0%F2%E8+%C2%E0%EB%E5%F0%E8%E8+%CD%EE%E2%EE%E4%E2%EE%F0%F1%EA%EE%E9\">������� ������ ������� ������������</a>, <a href=\"/news/tag/%EE%F2%F7%E5%E3%EE+%F3%EC%E5%F0%EB%E0+%ED%EE%E2%EE%E4%E2%EE%F0%F1%EA%E0%FF\">������ ������ ������������</a>, <a href=\"/news/tag/%EF%EE%F5%EE%F0%EE%ED%FB+%ED%EE%E2%EE%E4%E2%EE%F0%F1%EA%EE%E9\">�������� ������������</a>, <a href=\"/news/tag/%ED%EE%E2%EE%E4%E2%EE%F0%F1%EA%E0%FF+%F1%EA%EE%ED%F7%E0%EB%E0%F1%FC+%EF%F0%E8%F7%E8%ED%E0+%F1%EC%E5%F0%F2%E8\">������������ ���������� ������� ������</a></p>\r\n</div>\r\n            <div class=\"comments float-left\">\r\n                <b>13.07.2014&nbsp;22:56 <br />\r\n                </b>\r\n\t\t\t</div>\r\n<script type=\"text/javascript\" src=\"//yandex.st/share/share.js\" charset=\"utf-8\"></script>\r\n<div class=\"yashare-auto-init\" data-yashareL10n=\"ru\" data-yashareType=\"none\" data-yashareQuickServices=\"yaru,vkontakte,facebook,twitter,odnoklassniki,moimir,lj,gplus\"></div> \r\n\r\n            <p class=\"photo clear-left\">\r\n                \r\n            </p>\r\n\r\n\r\n<div class=\"advert\">\r\n<!--noindex-->\r\n\r\n\r\n<!--\r\n\r\n\t<object classid=\"clsid:d27cdb6e-ae6d-11cf-96b8-444553540000\" codebase=\"http://download.macromedia.com/pub/shockwave/cabs/flash/swflash.cab#version=9,0,0,0\" id=\"UGS\" align=\"middle\">\r\n\t<param name=\"allowScriptAccess\" value=\"sameDomain\" />\r\n\t<param name=\"allowFullScreen\" value=\"false\" />\r\n\t<param name=\"movie\" value=\"/images/banners/faraon.swf\" />\r\n\t<param name=\"quality\" value=\"high\" />\r\n\t<embed src=\"/images/banners/faraon.swf\" quality=\"high\" name=\"UGS\" align=\"middle\" allowScriptAccess=\"sameDomain\" allowFullScreen=\"false\" type=\"application/x-shockwave-flash\" pluginspage=\"http://www.macromedia.com/go/getflashplayer\" />\r\n\t</object>\r\n\r\n-->\r\n\r\n<!--/noindex-->\r\n\r\n\r\n<div id=\"DIV_DA_9224\"><!--�����������, ���������...--></div>\r\n<!--�������� ��� ������ ����, ��� �� ���������� ������������� ����������-->\r\n<div id=\"DIV_DA_9229\"><!--�����������, ���������...--></div>\r\n\r\n            <div id=\"comments\"></div>\r\n\r\n            <script type=\"text/javascript\">\r\n            function del_comment() {\r\n            $('#comments h3 a').click(function() {\r\n                if (confirm('������� �������?')) {\r\n                    link_del_comment = $(this).attr(\"href\");\r\n                    $.post(link_del_comment,{},function(data){\r\n                        alert(data.text);\r\n                        window.location.reload();\r\n                    });\r\n                }\r\n                return false;\r\n                });\r\n            }\r\n\r\n$(document).ready(del_comment);\r\n</script>\r\n            <!--noindex-->\r\n\r\n<div id=\"DIV_DA_31080\"></div>\r\n<!--/noindex-->\r\n</div>\r\n\r\n<aside class=\"grid_8 news_list row\"><h2 class=\"block_title\">�������</h2>\r\n\t\t<aside class=\"grid_2 sidebar label hide-phone\">\r\n\t<!--noindex-->\t\r\n\t\t\t\t<div class=\"text-center\">\r\n\r\n<!--LiveInternet counter--><script type=\"text/javascript\"><!--\r\ndocument.write(\"<a href='//www.liveinternet.ru/click' \"+\r\n\"target=_blank><img src='//counter.yadro.ru/hit?t44.1;r\"+\r\nescape(document.referrer)+((typeof(screen)==\"undefined\")?\"\":\r\n\";s\"+screen.width+\"*\"+screen.height+\"*\"+(screen.colorDepth?\r\nscreen.colorDepth:screen.pixelDepth))+\";u\"+escape(document.URL)+\r\n\";\"+Math.random()+\r\n\"' alt='' title='LiveInternet' \"+\r\n\"border='0' width='31' height='31'><\\/a>\")\r\n//--></script><!--/LiveInternet-->\r\n\t\t</div>\r\n\t\t\r\n\r\n\r\n\r\n<!--/noindex-->\r\n\r\n</aside>\r\n<aside class=\"grid_6\" id=\"news_list\">\r\n<article class=\"theme_day clear-left\">\r\n\t<a href=\"/news/line/2019-12-30/id_64954.html\"><figure><img src=\"/images/foto/73031_square.jpg\" class=\"img-left\" alt=\"\" title=\"\" /></figure></a>\r\n\t<header><h3><a href=\"/news/line/2019-12-30/id_64954.html\">��������� ������� ������ ����� ��������ɻ ����������� ������� � ����������� 2020 �����!</a></h3></header>\r\n            <div><a href=\"/news/line/2019-12-30/id_64954.html\">������� ����� ������������ ����� 15 ��� �������� ����� ������� ��� �� ���� ��� ������������</a></div>\r\n</article>\r\n            \r\n\r\n<article class=\"theme_day clear-left\">\r\n\t<a href=\"/news/line/2019-11-07/id_64947.html\"><figure><img src=\"/images/foto/73017_square.jpg\" class=\"img-left\" alt=\"\" title=\"\" /></figure></a>\r\n\t<header><h3><a href=\"/news/line/2019-11-07/id_64947.html\">��������������� ������������ ����������� ��������� �������� ����������������� ����� ������ �����</a></h3></header>\r\n            <div><a href=\"/news/line/2019-11-07/id_64947.html\">9 � 10 ������ � �������������</a></div>\r\n</article>\r\n            \r\n\r\n<article class=\"theme_day clear-left\">\r\n\t<a href=\"/news/line/2019-10-02/id_64944.html\"><figure><img src=\"/images/foto/73002_square.jpg\" class=\"img-left\" alt=\"\" title=\"\" /></figure></a>\r\n\t<header><h3><a href=\"/news/line/2019-10-02/id_64944.html\">���������������� ����� ��������� ���������� ������� ��������������� � ����������� �������� �� ������� ��������</a></h3></header>\r\n            <div><a href=\"/news/line/2019-10-02/id_64944.html\">3 ������� 2019 ���� � 12:00 �� 14:00 ����� � ����������� ������ �1 (�. ������������, ��. ���������, 22)</a></div>\r\n</article>\r\n            \r\n\r\n<article class=\"theme_day clear-left\">\r\n\t<a href=\"/news/line/2019-09-09/id_64943.html\"><figure><img src=\"/images/foto/72999_square.jpg\" class=\"img-left\" alt=\"\" title=\"\" /></figure></a>\r\n\t<header><h3><a href=\"/news/line/2019-09-09/id_64943.html\">����������������� ���� ������ �������� ���������� ��������� ����������� ��������� ���� ���� � �������� ���������� ���������</a></h3></header>\r\n            <div><a href=\"/news/line/2019-09-09/id_64943.html\">19-20 �������� � ��������-������ Marins Park Hotel</a></div>\r\n</article>\r\n            \r\n\r\n<article class=\"theme_day clear-left\">\r\n\t<a href=\"/news/line/2019-07-10/id_64933.html\"><figure><img src=\"/images/foto/72975_square.jpg\" class=\"img-left\" alt=\"\" title=\"\" /></figure></a>\r\n\t<header><h3><a href=\"/news/line/2019-07-10/id_64933.html\">� ������������� ������������ ���� ������� ��������� ���������� �� ����, ������� �� �������������� ���������� � ������</a></h3></header>\r\n            <div><a href=\"/news/line/2019-07-10/id_64933.html\">��������� �� ���� � ��� ���� ����������</a></div>\r\n</article>\r\n            \r\n\r\n<article class=\"theme_day clear-left\">\r\n\t<a href=\"/news/line/2019-06-18/id_64926.html\"><figure><img src=\"/images/foto/72965_square.jpg\" class=\"img-left\" alt=\"\" title=\"\" /></figure></a>\r\n\t<header><h3><a href=\"/news/line/2019-06-18/id_64926.html\">���������������� ����� ��������� ���������� ������� � ������������� ������������� �������� �� ������� ��������</a></h3></header>\r\n            <div><a href=\"/news/line/2019-06-18/id_64926.html\">20 ���� 2019 ���� � 12:00 �� 13:00 ����� � ����������� ������ �1 (�. ������������, ��. ���������, 22)</a></div>\r\n</article>\r\n            \r\n\r\n<article class=\"theme_day clear-left\">\r\n\t<a href=\"/news/line/2019-06-11/id_64920.html\"><figure><img src=\"/images/foto/72957_square.jpg\" class=\"img-left\" alt=\"\" title=\"\" /></figure></a>\r\n\t<header><h3><a href=\"/news/line/2019-06-11/id_64920.html\">���������������� ����� ��������� ���������� ������� �� ������� ��������</a></h3></header>\r\n            <div><a href=\"/news/line/2019-06-11/id_64920.html\">������� ������������� ������� ������ ����������� ����� ������, � ������������� � ���������� ��������� ��������� �����</a></div>\r\n</article>\r\n            \r\n\r\n<article class=\"theme_day clear-left\">\r\n\t<a href=\"/news/line/2019-06-11/id_64919.html\"><figure><img src=\"/images/foto/72956_square.jpg\" class=\"img-left\" alt=\"\" title=\"\" /></figure></a>\r\n\t<header><h3><a href=\"/news/line/2019-06-11/id_64919.html\">������ ������������� ������� ������� ��������� ������, ����������� ��������� �� �������� iPhone</a></h3></header>\r\n            <div><a href=\"/news/line/2019-06-11/id_64919.html\">�� ��������� �������������� ������ � 250 ����� ������</a></div>\r\n</article>\r\n            \r\n\r\n<article class=\"theme_day clear-left\">\r\n\t<a href=\"/news/line/2019-05-08/id_64906.html\"><figure><img src=\"/images/foto/72935_square.jpg\" class=\"img-left\" alt=\"\" title=\"\" /></figure></a>\r\n\t<header><h3><a href=\"/news/line/2019-05-08/id_64906.html\">���������� ��������� ����������� � ���� ������ � ����� ������ 50% �� ������ � ������</a></h3></header>\r\n            <div><a href=\"/news/line/2019-05-08/id_64906.html\">������ �������� ��������� � 8 �� 15 ��� 2019 ���� �� ������ � 8 ��� �� 30 ���� 2019 ����</a></div>\r\n</article>\r\n            \r\n\r\n<article class=\"theme_day clear-left\">\r\n\t<a href=\"/news/line/2019-05-07/id_64905.html\"><figure><img src=\"/images/foto/72934_square.jpg\" class=\"img-left\" alt=\"\" title=\"\" /></figure></a>\r\n\t<header><h3><a href=\"/news/line/2019-05-07/id_64905.html\">������������ � 9 ��� �� ������������ ������������ ������������ ����������� ���������</a></h3></header>\r\n            <div><a href=\"/news/line/2019-05-07/id_64905.html\">����� �� ���� ������� �� ������ � �� ������, ��� ����� �����</a></div>\r\n</article>\r\n            \r\n\r\n<article class=\"theme_day clear-left\">\r\n\t<a href=\"/news/line/2019-05-07/id_64904.html\"><figure><img src=\"/images/foto/72933_square.jpg\" class=\"img-left\" alt=\"\" title=\"\" /></figure></a>\r\n\t<header><h3><a href=\"/news/line/2019-05-07/id_64904.html\">������������ � 9 ��� �� ���� ������� ������ ����� ���������</a></h3></header>\r\n            <div><a href=\"/news/line/2019-05-07/id_64904.html\">��������� ��� ����������, ������� � ������������!</a></div>\r\n</article>\r\n            \r\n\r\n<article class=\"theme_day clear-left\">\r\n\t<a href=\"/news/line/2019-04-30/id_64900.html\"><figure><img src=\"/images/foto/72928_square.jpg\" class=\"img-left\" alt=\"\" title=\"\" /></figure></a>\r\n\t<header><h3><a href=\"/news/line/2019-04-30/id_64900.html\">1 ��� ����� �������, ������, ������� � 8 ����� ��������� � 06:00 �� 15:30</a></h3></header>\r\n            <div><a href=\"/news/line/2019-04-30/id_64900.html\">��� ���� ����� ����������, ������� �������� � �������</a></div>\r\n</article>\r\n            \r\n\r\n<article class=\"theme_day clear-left\">\r\n\t<a href=\"/news/line/2019-04-02/id_64885.html\"><figure><img src=\"/images/foto/72894_square.jpg\" class=\"img-left\" alt=\"\" title=\"\" /></figure></a>\r\n\t<header><h3><a href=\"/news/line/2019-04-02/id_64885.html\">������ � ������������� �� ������ �������� ���������� ������ ���� � ������� �����</a></h3></header>\r\n            <div><a href=\"/news/line/2019-04-02/id_64885.html\">��� ��� ����� �����������</a></div>\r\n</article>\r\n            \r\n\r\n<article class=\"theme_day clear-left\">\r\n\t<a href=\"/news/line/2019-04-02/id_64884.html\"><figure><img src=\"/images/foto/72893_square.jpg\" class=\"img-left\" alt=\"\" title=\"\" /></figure></a>\r\n\t<header><h3><a href=\"/news/line/2019-04-02/id_64884.html\">� ������������� �� �������� ��������� �������� ���� � ������ ����������� ����������</a></h3></header>\r\n            <div><a href=\"/news/line/2019-04-02/id_64884.html\">�������� ���� ���������</a></div>\r\n</article>\r\n            \r\n\r\n<article class=\"theme_day clear-left\">\r\n\t<a href=\"/news/line/2019-03-28/id_64882.html\"><figure><img src=\"/images/foto/72888_square.jpg\" class=\"img-left\" alt=\"\" title=\"\" /></figure></a>\r\n\t<header><h3><a href=\"/news/line/2019-03-28/id_64882.html\">������ � ������������� � �������� �������� ������ � ����������� �������</a></h3></header>\r\n            <div><a href=\"/news/line/2019-03-28/id_64882.html\">� ���� ���� � ����� ����������� ������� ���� �� ��������� �������� ���� �����</a></div>\r\n</article>\r\n            \r\n\r\n<article class=\"theme_day clear-left\">\r\n\t<a href=\"/news/line/2019-03-20/id_64879.html\"><figure><img src=\"/images/foto/72885_square.jpg\" class=\"img-left\" alt=\"\" title=\"\" /></figure></a>\r\n\t<header><h3><a href=\"/news/line/2019-03-20/id_64879.html\">����� ������������ 2018� ����� ������ ������ ������� �� ������� ������� ����� ������ 2019�</a></h3></header>\r\n            <div><a href=\"/news/line/2019-03-20/id_64879.html\">13 ����� 2019 ���� � ������ ������� ����� ��������</a></div>\r\n</article>\r\n            \r\n\r\n<article class=\"theme_day clear-left\">\r\n\t<a href=\"/news/line/2019-03-20/id_64878.html\"><figure><img src=\"/images/foto/72879_square.jpg\" class=\"img-left\" alt=\"\" title=\"\" /></figure></a>\r\n\t<header><h3><a href=\"/news/line/2019-03-20/id_64878.html\">� ������ � ��������� ������ ���������� ���� �������������� �������� �������� � ���������� ���������� ������ ��������</a></h3></header>\r\n            <div><a href=\"/news/line/2019-03-20/id_64878.html\">� �������� ����� ������� ������� ���� � ��������� ��������� ���������� ���������: � 7 �� 10 ���, � 11 �� 14, � 15 �� 17 (������������)</a></div>\r\n</article>\r\n            \r\n\r\n<article class=\"theme_day clear-left\">\r\n\t<a href=\"/news/line/2019-03-10/id_64876.html\"><figure><img src=\"/images/foto/72875_square.jpg\" class=\"img-left\" alt=\"\" title=\"\" /></figure></a>\r\n\t<header><h3><a href=\"/news/line/2019-03-10/id_64876.html\">������� ��: ������������ � 8 �����</a></h3></header>\r\n            <div><a href=\"/news/line/2019-03-10/id_64876.html\">����� ���� �������, ���������� ��� � ��������� ������� ����!</a></div>\r\n</article>\r\n            \r\n\r\n<article class=\"theme_day clear-left\">\r\n\t<a href=\"/news/line/2019-03-07/id_64875.html\"><figure><img src=\"/images/foto/72873_square.jpg\" class=\"img-left\" alt=\"\" title=\"\" /></figure></a>\r\n\t<header><h3><a href=\"/news/line/2019-03-07/id_64875.html\">����������������� ���������� ����������� ������������ ���������� ��� �������� ����������� ���� ������ ������ � ����������� ���������� 8 �����!</a></h3></header>\r\n            <div><a href=\"/news/line/2019-03-07/id_64875.html\">������, ����� ��� ������ ��� ���� � ���������</a></div>\r\n</article>\r\n            \r\n\r\n<article class=\"theme_day clear-left\">\r\n\t<a href=\"/news/line/2019-03-07/id_64872.html\"><figure><img src=\"/images/foto/72870_square.jpg\" class=\"img-left\" alt=\"���� �.�. ������� �����\" title=\"���� �.�. ������� �����\" /></figure></a>\r\n\t<header><h3><a href=\"/news/line/2019-03-07/id_64872.html\">������������ ����������� ��������� ������� ��������, ��� ������� �������</a></h3></header>\r\n            <div><a href=\"/news/line/2019-03-07/id_64872.html\">�� ���������� ������������ ������� � ��������� ��� �������� ���������������� ���������������� ����� �������, ��� ������� ��������</a></div>\r\n</article>\r\n            \r\n\r\n\r\n<div class=\"paginator\" id=\"news_paginator\">\r\n\r\n    <b>1613</b> &nbsp;&nbsp;&nbsp;<a href =\"/ajax/news/80/1612\" title=\"�������� 1612\" rel=\"nofollow\">1612</a> &nbsp;&nbsp;&nbsp;<a href =\"/ajax/news/80/1611\" title=\"�������� 1611\" rel=\"nofollow\">1611</a> &nbsp;&nbsp;&nbsp;<a href =\"/ajax/news/80/1610\" title=\"�������� 1610\" rel=\"nofollow\">1610</a> &nbsp;&nbsp;&nbsp;<a href =\"/ajax/news/80/1609\" title=\"�������� 1609\" rel=\"nofollow\">1609</a> &nbsp;&nbsp;&nbsp;<a href =\"/ajax/news/80/1608\" title=\"�������� 1608\" rel=\"nofollow\">1608</a> &nbsp;&nbsp;&nbsp;...&nbsp;&nbsp;&nbsp; <a href =\"/ajax/news/80/1\" title=\"�� ��������� ��������\" rel=\"nofollow\">1</a>&nbsp;&nbsp;&nbsp;<a href =\"/ajax/news/80/1612\" title=\"��������� ��������\" rel=\"nofollow\">&gt;</a> &nbsp;&nbsp;&nbsp;\r\n</div>\r\n\r\n\r\n</aside>\r\n</aside>\r\n\t\t\r\n\t\t\r\n\r\n\t\t</div><!-- end .grid_8 -->\r\n\r\n\t<aside id=\"tags\" class=\"grid_8\">\r\n\t\t<h2 class=\"block_title\"><a href=\"/news/tag/\">������ �����</a></h2>\r\n\t\t<p class=\"tags\"><a href=\"/news/tag/%ED%EE%E2%EE%F1%F2%E8+%E4%EE%EC+2+2013\" class=\"weight1\">�������&nbsp;���&nbsp;2&nbsp;2013</a> <a href=\"/news/tag/%ED%EE%E2%EE%F1%F2%E8+%E4%EE%EC+2+2012\" class=\"weight1\">�������&nbsp;���&nbsp;2&nbsp;2012</a> <a href=\"/news/tag/%CF%EE%E6%E0%F0\" class=\"weight1\">�����</a> <a href=\"/news/tag/%ED%EE%E2%EE%F1%F2%E8+%C4%E0%E3%E5%F1%F2%E0%ED%E0\" class=\"weight1\">�������&nbsp;���������</a> <a href=\"/news/tag/%EF%EE%E3%EE%E4%E0+%E2+%CC%EE%F1%EA%E2%E5\" class=\"weight1\">������&nbsp;�&nbsp;������</a> <a href=\"/news/tag/%E1%E5%F1%EF%EE%F0%FF%E4%EA%E8+%E2+%C4%EE%ED%E5%F6%EA%E5\" class=\"weight1\">����������&nbsp;�&nbsp;�������</a> <a href=\"/news/tag/%ED%EE%E2%EE%F1%F2%E8+%D3%EA%F0%E0%E8%ED%FB\" class=\"weight5\">�������&nbsp;�������</a> <a href=\"/news/tag/%ED%EE%E2%EE%F1%F2%E8+%E1%E8%E0%F2%EB%EE%ED%E0\" class=\"weight1\">�������&nbsp;��������</a> <a href=\"/news/tag/%F4%F3%F2%E1%EE%EB+%D0%EE%F1%F1%E8%E8\" class=\"weight2\">������&nbsp;������</a> <a href=\"/news/tag/%ED\" class=\"weight1\">�</a> <a href=\"/news/tag/%C1%E8%E0%F2%EB%EE%ED\" class=\"weight1\">�������</a> <a href=\"/news/tag/%EF%F0%EE%E8%F1%F8%E5%F1%F2%E2%E8%FF+%E2+%CC%EE%F1%EA%E2%E5\" class=\"weight1\">������������&nbsp;�&nbsp;������</a> <a href=\"/news/tag/%ED%EE%E2%EE%F1%F2%E8+%E4%EE%EC+2+%F1%E5%E3%EE%E4%ED%FF\" class=\"weight1\">�������&nbsp;���&nbsp;2&nbsp;�������</a> <a href=\"/news/tag/%ED%EE%E2%EE%F1%F2%E8+%CA%F0%FB%EC%E0+%F1%E5%E3%EE%E4%ED%FF\" class=\"weight1\">�������&nbsp;�����&nbsp;�������</a> <a href=\"/news/tag/%ED%EE%E2%EE%F1%F2%E8+%CB%F3%E3%E0%ED%F1%EA%E0+%F1%E5%E3%EE%E4%ED%FF\" class=\"weight2\">�������&nbsp;��������&nbsp;�������</a> <a href=\"/news/tag/%F3%E1%E8%E9%F1%F2%E2%EE\" class=\"weight1\">��������</a> <a href=\"/news/tag/%F3%EA%F0%E0%E8%ED%E0+%ED%EE%E2%EE%F1%F2%E8+%F1%E5%E3%EE%E4%ED%FF\" class=\"weight4\">�������&nbsp;�������&nbsp;�������</a> <a href=\"/news/tag/%F4%F3%F2%E1%EE%EB+%F1%E5%E3%EE%E4%ED%FF\" class=\"weight2\">������&nbsp;�������</a> <a href=\"/news/tag/%F1%E0%ED%EA%F6%E8%E8\" class=\"weight1\">�������</a> <a href=\"/news/tag/%ED%EE%E2%EE%F1%F2%E8+%D1%EB%E0%E2%FF%ED%F1%EA%E0\" class=\"weight1\">�������&nbsp;���������</a> <a href=\"/news/tag/%C4%D2%CF+%E2+%C5%EA%E0%F2%E5%F0%E8%ED%E1%F3%F0%E3%E5\" class=\"weight1\">���&nbsp;�&nbsp;�������������</a> <a href=\"/news/tag/%C0%EB%E5%EA%F1%E0%ED%E4%F0+%CC%E8%F8%E0%F0%E8%ED\" class=\"weight1\">���������&nbsp;�������</a> <a href=\"/news/tag/%F1%EF%EB%E5%F2%ED%E8+%E4%EE%EC+2\" class=\"weight2\">�������&nbsp;���&nbsp;2</a> <a href=\"/news/tag/%F1%EE%F1%F2%E0%E2+%F1%E1%EE%F0%ED%EE%E9+%D0%EE%F1%F1%E8%E8\" class=\"weight1\">������&nbsp;�������&nbsp;������</a> <a href=\"/news/tag/%E0%E2%E0%F0%E8%FF\" class=\"weight3\">������</a> <a href=\"/news/tag/%ED%EE%E2%EE%F1%F2%E8+%F3%EA%F0%E0%E8%ED%FB+%F1%E5%E3%EE%E4%ED%FF\" class=\"weight4\">�������&nbsp;�������&nbsp;�������</a> <a href=\"/news/tag/%ED%EE%E2%EE%F1%F2%E8+%EC%EE%F1%EA%E2%FB\" class=\"weight2\">�������&nbsp;������</a> <a href=\"/news/tag/%ED%EE%E2%EE%F1%F2%E8+%CA%E8%E5%E2%E0+%F1%E5%E3%EE%E4%ED%FF\" class=\"weight1\">�������&nbsp;�����&nbsp;�������</a> <a href=\"/news/tag/%EF%F0%EE%E8%F8%E5%F1%F2%E2%E8%FF+%E2+%EC%EE%F1%EA%E2%E5\" class=\"weight1\">�����������&nbsp;�&nbsp;������</a> <a href=\"/news/tag/%ED%EE%E2%EE%F1%F2%E8+%EA%E8%E5%E2%E0\" class=\"weight4\">�������&nbsp;�����</a> <a href=\"/news/tag/%D1%D8%C0\" class=\"weight1\">���</a> <a href=\"/news/tag/%F1%EB%F3%F5%E8+%ED%E0+%E4%EE%EC+2\" class=\"weight2\">�����&nbsp;��&nbsp;���&nbsp;2</a> <a href=\"/news/tag/%ED%EE%E2%EE%F1%F2%E8+%E4%EE%EC+2+%F1%E2%E5%E6%E8%E5\" class=\"weight2\">�������&nbsp;���&nbsp;2&nbsp;������</a> <a href=\"/news/tag/%ED%EE%E2%EE%F1%F2%E8+%E4%EE%EC+2+%ED%E0+%F1%E5%E3%EE%E4%ED%FF\" class=\"weight2\">�������&nbsp;���&nbsp;2&nbsp;��&nbsp;�������</a> <a href=\"/news/tag/%D4%F3%F2%E1%EE%EB\" class=\"weight3\">������</a> <a href=\"/news/tag/%F4%F3%F2%E1%EE%EB+%F7%E5%EC%EF%E8%EE%ED%E0%F2+%D0%EE%F1%F1%E8%E8\" class=\"weight1\">������&nbsp;���������&nbsp;������</a> <a href=\"/news/tag/%ED%EE%E2%EE%F1%F2%E8+%F4%F3%F2%E1%EE%EB%E0\" class=\"weight3\">�������&nbsp;�������</a> <a href=\"/news/tag/%ED%EE%E2%EE%F1%F2%E8+%CE%E4%E5%F1%F1%FB\" class=\"weight1\">�������&nbsp;������</a> <a href=\"/news/tag/%E0%E2%E0%F0%E8%FF+%E2+%C5%EA%E0%F2%E5%F0%E8%ED%E1%F3%F0%E3%E5\" class=\"weight1\">������&nbsp;�&nbsp;�������������</a> <a href=\"/news/tag/%F7%F2%EE+%EF%F0%EE%E8%F1%F5%EE%E4%E8%F2+%E2+%D1%EB%E0%E2%FF%ED%F1%EA%E5\" class=\"weight1\">���&nbsp;����������&nbsp;�&nbsp;���������</a> <a href=\"/news/tag/%ED%EE%E2%EE%F1%F2%E8+%CF%E5%F2%E5%F0%E1%F3%F0%E3%E0\" class=\"weight1\">�������&nbsp;����������</a> <a href=\"/news/tag/%C4%D2%CF\" class=\"weight4\">���</a> <a href=\"/news/tag/%ED%EE%E2%EE%F1%F2%E8+%E4%EE%EC+2\" class=\"weight2\">�������&nbsp;���&nbsp;2</a> <a href=\"/news/tag/%ED%EE%E2%EE%F1%F2%E8+%E5%EA%E0%F2%E5%F0%E8%ED%E1%F3%F0%E3%E0\" class=\"weight7\">�������&nbsp;�������������</a> <a href=\"/news/tag/%ED%EE%E2%EE%F1%F2%E8+%CB%F3%E3%E0%ED%F1%EA%E0\" class=\"weight1\">�������&nbsp;��������</a> <a href=\"/news/tag/%C2%EB%E0%E4%E8%EC%E8%F0+%CF%F3%F2%E8%ED\" class=\"weight1\">��������&nbsp;�����</a> <a href=\"/news/tag/%EE%EF%E5%F0%E0%F6%E8%FF+%E2+%D1%EB%E0%E2%FF%ED%F1%EA%E5\" class=\"weight1\">��������&nbsp;�&nbsp;���������</a> <a href=\"/news/tag/%E4%EE%EC+2+%F1%E2%E5%E6%E8%E5+%ED%EE%E2%EE%F1%F2%E8\" class=\"weight2\">���&nbsp;2&nbsp;������&nbsp;�������</a> <a href=\"/news/tag/%ED%EE%E2%EE%F1%F2%E8+%D1%E5%E2%E0%F1%F2%EE%EF%EE%EB%FF\" class=\"weight1\">�������&nbsp;�����������</a> <a href=\"/news/tag/%ED%EE%E2%EE%F1%F2%E8+%C4%EE%ED%E5%F6%EA%E0\" class=\"weight2\">�������&nbsp;�������</a> <a href=\"/news/tag/%D1%E2%E5%F0%E4%EB%EE%E2%F1%EA%E0%FF+%EE%E1%EB%E0%F1%F2%FC\" class=\"weight2\">������������&nbsp;�������</a> <a href=\"/news/tag/%E4%EE%EC+2+%ED%EE%E2%EE%F1%F2%E8\" class=\"weight1\">���&nbsp;2&nbsp;�������</a> <a href=\"/news/tag/%ED%EE%E2%EE%F1%F2%E8+%CA%F0%FB%EC%E0\" class=\"weight1\">�������&nbsp;�����</a> <a href=\"/news/tag/%EA%E8%E5%E2+%ED%EE%E2%EE%F1%F2%E8\" class=\"weight1\">����&nbsp;�������</a> <a href=\"/news/tag/%E4%EE%ED%E5%F6%EA+%ED%EE%E2%EE%F1%F2%E8+%F1%E5%E3%EE%E4%ED%FF\" class=\"weight2\">������&nbsp;�������&nbsp;�������</a> <a href=\"/news/tag/%C5%E2%E3%E5%ED%E8%E9+%CA%F3%E9%E2%E0%F8%E5%E2\" class=\"weight1\">�������&nbsp;��������</a> <a href=\"/news/tag/%ED%EE%E2%EE%F1%F2%E8+%D5%E0%F0%FC%EA%EE%E2%E0\" class=\"weight1\">�������&nbsp;��������</a> <a href=\"/news/tag/%F1%E0%ED%EA%F6%E8%E8+%EF%F0%EE%F2%E8%E2+%D0%EE%F1%F1%E8%E8\" class=\"weight1\">�������&nbsp;������&nbsp;������</a> <a href=\"/news/tag/%E1%E5%F1%EF%EE%F0%FF%E4%EA%E8+%E2+%CA%E8%E5%E2%E5\" class=\"weight1\">����������&nbsp;�&nbsp;�����</a> <a href=\"/news/tag/%ED%EE%E2%EE%F1%F2%E8+%CA%F0%E0%EC%E0%F2%EE%F0%F1%EA%E0\" class=\"weight1\">�������&nbsp;�����������</a> </p>\r\n\t\t<p align=\"center\"><a href=\"/\">�������</a> | <a href=\"http://0-50.ru/news/stock\">����� �����</a> | <a href=\"/rss/\">RSS Feed</a></p>\r\n\t</aside>\r\n\t</div><!-- end #content -->\r\n\r\n\t\t\r\n\t\t\r\n\t</div><!-- end .grid_8 -->\r\n\t<aside class=\"grid_4\">\r\n\t\t\r\n\t</aside>\r\n\t<aside class=\"grid_2 news_list sidebar\">\r\n\t\r\n\t<h2 class=\"block_title text-center\">�������</h2>\r\n\t\r\n<h3><a href=\"/news/health/2022-07-21/id_64980.html\">����������� ��������� , ����� � ������ �� �������</a>&nbsp;<sub><a href=\"/news/health/2022-07-21/id_64980.html#comments\" title=\"����������� ()\"></a></sub></h3>\r\n\r\n\r\n<h3><a href=\"/news/beauty/2022-07-04/id_64979.html\">����� �������� ������� ��������, ��������? ��� ��������� �������� ���� �� ������� � �������� � ���� �� �������� ��������?</a>&nbsp;<sub><a href=\"/news/beauty/2022-07-04/id_64979.html#comments\" title=\"����������� ()\"></a></sub></h3>\r\n\r\n\r\n<h3><a href=\"/news/beauty/2022-01-10/id_64978.html\">����������� ���������: ��� ���� ��� � ������ �� �������?</a>&nbsp;<sub><a href=\"/news/beauty/2022-01-10/id_64978.html#comments\" title=\"����������� ()\"></a></sub></h3>\r\n\r\n\r\n<h3><a href=\"/news/auto/2022-01-09/id_62914.html\">����� � ������� ���������� ��� �������� � ������������� ����������� ����� � � ������� � �������������</a>&nbsp;<sub><a href=\"/news/auto/2022-01-09/id_62914.html#comments\" title=\"����������� ()\"></a></sub></h3>\r\n\r\n\r\n<h3><a href=\"/news/home_family/2021-11-26/id_64977.html\">����������� ��������� ����� Whirlpool Corporation ������ ���� ����� ������� �������������</a>&nbsp;<sub><a href=\"/news/home_family/2021-11-26/id_64977.html#comments\" title=\"����������� ()\"></a></sub></h3>\r\n\r\ngzip: stdout: Broken pipe\r\n"
     ]
    }
   ],
   "source": [
    "# uncomment & run the following code:\n",
    "!zcat CC-MAIN-20231128083443-20231128113443-00000.warc.gz | head -n 500\n",
    "\n",
    "\n"
   ]
  },
  {
   "cell_type": "markdown",
   "metadata": {
    "application/vnd.databricks.v1+cell": {
     "cellMetadata": {
      "byteLimit": 2048000,
      "rowLimit": 10000
     },
     "inputWidgets": {},
     "nuid": "3489ba06-14bb-4b05-b98a-60e73dac3749",
     "showTitle": false,
     "title": ""
    }
   },
   "source": [
    "✍️  Now, what kind of data is **this**, compared to the first dataset and the second file?\n",
    "\n",
    "This dataset looks corrupted or not encoded properly as there are lot of ? and dimond shapes in this as compared to the 2nd file . This dataset looks more like 2nd file raw HTML data but with some issues which needs to be resolved. First datset is more structured as compared to this one. This needs some coding adjustments."
   ]
  },
  {
   "cell_type": "code",
   "execution_count": 0,
   "metadata": {
    "application/vnd.databricks.v1+cell": {
     "cellMetadata": {
      "byteLimit": 2048000,
      "rowLimit": 10000
     },
     "inputWidgets": {},
     "nuid": "ec256d1e-273f-42ba-b9ea-7ac84cced9ea",
     "showTitle": false,
     "title": ""
    }
   },
   "outputs": [],
   "source": [
    "# uncomment & run the following code:\n",
    "!gunzip CC-MAIN-20231128083443-20231128113443-00000.warc.gz\n",
    "\n",
    "# this code \"unzips\" the compressed .gz file and may take a minute - !"
   ]
  },
  {
   "cell_type": "code",
   "execution_count": 0,
   "metadata": {
    "application/vnd.databricks.v1+cell": {
     "cellMetadata": {
      "byteLimit": 2048000,
      "rowLimit": 10000
     },
     "inputWidgets": {},
     "nuid": "7d154b07-813f-4eff-a7d0-4807297ef752",
     "showTitle": false,
     "title": ""
    }
   },
   "outputs": [
    {
     "output_type": "execute_result",
     "data": {
      "text/plain": [
       "True"
      ]
     },
     "execution_count": 39,
     "metadata": {},
     "output_type": "execute_result"
    }
   ],
   "source": [
    "# uncomment & run the following code \n",
    "# to upload the file to the DBFS distributed file system  - this might take a few minutes!\n",
    "\n",
    "dbutils.fs.cp('file:/databricks/driver/CC-MAIN-20231128083443-20231128113443-00000.warc', 'dbfs:/FileStore/tables/')\n",
    "\n",
    "# wait until the Output below says \"True,\" and you could also check for the file in the Catalog -> DBFS menu on the left."
   ]
  },
  {
   "cell_type": "code",
   "execution_count": 0,
   "metadata": {
    "application/vnd.databricks.v1+cell": {
     "cellMetadata": {
      "byteLimit": 2048000,
      "rowLimit": 10000
     },
     "inputWidgets": {},
     "nuid": "b3042295-e06a-4676-a1f0-e3175da4cd45",
     "showTitle": false,
     "title": ""
    }
   },
   "outputs": [],
   "source": [
    "# create an RDD with this most recent data using the .textFile function\n",
    "# call this RDD warc_rdd\n",
    "# hint: the file path should be dbfs:/FileStore/tables/CC-MAIN-20231128083443-20231128113443-00000.warc\n",
    "\n",
    "warc_rdd = spark.sparkContext.textFile(\"dbfs:/FileStore/tables\")"
   ]
  },
  {
   "cell_type": "code",
   "execution_count": 0,
   "metadata": {
    "application/vnd.databricks.v1+cell": {
     "cellMetadata": {
      "byteLimit": 2048000,
      "rowLimit": 10000
     },
     "inputWidgets": {},
     "nuid": "3f07394c-8076-4ec2-9e66-e1c926d71646",
     "showTitle": false,
     "title": ""
    }
   },
   "outputs": [
    {
     "output_type": "execute_result",
     "data": {
      "text/plain": [
       "84"
      ]
     },
     "execution_count": 41,
     "metadata": {},
     "output_type": "execute_result"
    }
   ],
   "source": [
    "# how many partitions are used in this RDD?\n",
    "\n",
    "warc_rdd.getNumPartitions()"
   ]
  },
  {
   "cell_type": "code",
   "execution_count": 0,
   "metadata": {
    "application/vnd.databricks.v1+cell": {
     "cellMetadata": {
      "byteLimit": 2048000,
      "rowLimit": 10000
     },
     "inputWidgets": {},
     "nuid": "23d4cea7-ef1a-4362-aafa-96aaa55b1bf8",
     "showTitle": false,
     "title": ""
    }
   },
   "outputs": [
    {
     "output_type": "stream",
     "name": "stdout",
     "output_type": "stream",
     "text": [
      "['WARC/1.0', 'WARC-Type: warcinfo', 'WARC-Date: 2023-11-28T08:34:43Z', 'WARC-Record-ID: <urn:uuid:2b6daf87-e3fb-4851-a842-b24612e49256>', 'Content-Length: 499', 'Content-Type: application/warc-fields', 'WARC-Filename: CC-MAIN-20231128083443-20231128113443-00000.warc.gz', '', 'isPartOf: CC-MAIN-2023-50', 'publisher: Common Crawl', 'description: Wide crawl of the web for November/December 2023', 'operator: Common Crawl Admin (info@commoncrawl.org)', 'hostname: ip-10-67-67-56', 'software: Apache Nutch 1.19 (modified, https://github.com/commoncrawl/nutch/)', 'robots: checked via crawler-commons 1.5-SNAPSHOT (https://github.com/crawler-commons/crawler-commons)', 'format: WARC File Format 1.1', 'conformsTo: https://iipc.github.io/warc-specifications/specifications/warc-format/warc-1.1/', '', '', 'WARC/1.0', 'WARC-Type: request', 'WARC-Date: 2023-11-28T11:34:01Z', 'WARC-Record-ID: <urn:uuid:0ca80b2d-5a43-41a0-8809-bfe4626f2f8d>', 'Content-Length: 277', 'Content-Type: application/http; msgtype=request', 'WARC-Warcinfo-ID: <urn:uuid:2b6daf87-e3fb-4851-a842-b24612e49256>', 'WARC-IP-Address: 45.86.182.34', 'WARC-Target-URI: http://0-50.ru/news/line/2014-07-13/id_43733.html', '', 'GET /news/line/2014-07-13/id_43733.html HTTP/1.1', 'User-Agent: CCBot/2.0 (https://commoncrawl.org/faq/)', 'Accept: text/html,application/xhtml+xml,application/xml;q=0.9,*/*;q=0.8', 'Accept-Language: en-US,en;q=0.5', 'Accept-Encoding: br,gzip', 'Host: 0-50.ru', 'Connection: Keep-Alive', '', '', '', 'WARC/1.0', 'WARC-Type: response', 'WARC-Date: 2023-11-28T11:34:01Z', 'WARC-Record-ID: <urn:uuid:60a1e8f3-68a9-437c-937c-e52edd95c91c>', 'Content-Length: 42587', 'Content-Type: application/http; msgtype=response', 'WARC-Warcinfo-ID: <urn:uuid:2b6daf87-e3fb-4851-a842-b24612e49256>', 'WARC-Concurrent-To: <urn:uuid:0ca80b2d-5a43-41a0-8809-bfe4626f2f8d>', 'WARC-IP-Address: 45.86.182.34', 'WARC-Target-URI: http://0-50.ru/news/line/2014-07-13/id_43733.html', 'WARC-Payload-Digest: sha1:67CQWUT4XOY3JRPSG3YED7QSNESUYJSS', 'WARC-Block-Digest: sha1:KZZSFR27UGIJIE74JN4TKKXOKPJ4EK4S', 'WARC-Identified-Payload-Type: text/html', '', 'HTTP/1.1 200 OK', 'Server: nginx/1.12.1', 'Date: Tue, 28 Nov 2023 11:34:01 GMT', 'Content-Type: text/html; charset=windows-1251', 'X-Crawler-Transfer-Encoding: chunked', 'Connection: keep-alive', 'X-Powered-By: PHP/5.4.38', 'Expires: Thu, 19 Nov 1981 08:52:00 GMT', 'Cache-Control: no-store, no-cache, must-revalidate, post-check=0, pre-check=0', 'Pragma: no-cache', 'Set-Cookie: PHPSESSID=4b9cb29126d6b614fa861958ddb5cfdd; path=/', 'Last-Modified: Mon, 25 Jan 2016 07:03:36 GMT', 'X-Crawler-Content-Encoding: gzip', 'Content-Length: 42070', '', '<!doctype html>', '<html lang=\"ru\">', '<head>', '\\t<meta charset=\"windows-1251\">', '\\t<title>������� 0-50.ru | ��������� ������� �������������� ������ � ������� ������� ������������ | </title>', '\\t<meta name=\"title\" content=\"��������� ������� �������������� ������ � ������� ������� ������������\">', '\\t<meta property=\"og:title\" content=\"��������� ������� �������������� ������ � ������� ������� ������������\">', '\\t<meta property=\"og:image\" content=\"http://0-50.ru/images/foto/49761_full.jpg\">', '\\t<meta name=\"description\" content=\"��������� ������� ���� ��������� ������� ���� �������������� ������ � ������� ������� ������������, ������������ ��������.\">', '\\t<meta name=\"Author\" content=\"0-50.ru\">', '\\t<meta name=\"twitter:image:src\" content=\"http://0-50.ru/images/foto/49761_full.jpg\">', '\\t', '\\t<!--[if lt IE 9]>', '\\t\\t<script src=\"http://html5shim.googlecode.com/svn/trunk/html5.js\"></script>', '\\t<![endif]-->', '\\t<meta name=\"rp51afcaa28a694b82948bd3a36a0490f8\" content=\"f3aeec7e35993bbadcd70e9a9c5bb26d\" />', '\\t<!-- Mobile Specific Metas -->', '\\t<meta name=\"viewport\" content=\"width=device-width, initial-scale=1, maximum-scale=1\" /> ', '\\t', '\\t<script type=\"text/javascript\">', '\\t\\tvar browser\\t\\t\\t= navigator.userAgent;', '\\t\\tvar browserRegex\\t= /(Android|BlackBerry|IEMobile|Nokia|iP(ad|hone|od)|Opera M(obi|ini))/;', '\\t\\tvar isMobile\\t\\t= false;', '\\t\\tif(browser.match(browserRegex)) {', '\\t\\t\\tisMobile\\t\\t\\t= true;', '\\t\\t\\taddEventListener(\"load\", function() { setTimeout(hideURLbar, 0); }, false);', '\\t\\t\\tfunction hideURLbar(){', '\\t\\t\\t\\twindow.scrollTo(0,1);', '\\t\\t\\t}', '\\t\\t}', '\\t</script>', '\\t', '\\t<script>(function(e){var t=\"DIV_DA_\"+e+\"_\"+parseInt(Math.random()*1e3); document.write(\\'<div id=\"\\'+t+\\'\" class=\"directadvert-block directadvert-block-\\'+e+\\'\"></div>\\'); if(\"undefined\"===typeof loaded_blocks_directadvert){loaded_blocks_directadvert=[]; function n(){var e=loaded_blocks_directadvert.shift(); var t=e.adp_id; var r=e.div; var i=document.createElement(\"script\"); i.type=\"text/javascript\"; i.async=true; i.charset=\"windows-1251\"; i.src=\"//code.directadvert.ru/data/\"+t+\".js?async=1&div=\"+r+\"&t=\"+Math.random(); var s=document.getElementsByTagName(\"head\")[0]||document.getElementsByTagName(\"body\")[0]; s.appendChild(i); var o=setInterval(function(){if(document.getElementById(r).innerHTML&&loaded_blocks_directadvert.length){n(); clearInterval(o)}},50)} setTimeout(n)}loaded_blocks_directadvert.push({adp_id:e,div:t})})(215743)</script>', '\\t<!-- CSS -->', '\\t<link rel=\"stylesheet\" href=\"/includes/base.css\">', '\\t<link rel=\"stylesheet\" href=\"/includes/style.css\">', '\\t<link rel=\"stylesheet\" href=\"/includes/layout.css\">', '\\t<link rel=\"stylesheet\" href=\"/includes/amazium.css\">', '\\t<!-- Favicons -->', '\\t<link rel=\"shortcut icon\" href=\"/images/favicon.ico\">', '', '\\t<!-- To Top scripts -->', '\\t<script src=\"/includes/smoothscroll.js\"type=\"text/javascript\" ></script>', '\\t<script src=\"http://code.jquery.com/jquery-1.9.1.min.js\" type=\"text/javascript\"></script>', '\\t<script src=\"/includes/jquery.easing.1.3.js\" type=\"text/javascript\"></script>', '\\t<script src=\"/includes/jquery.ui.totop.js\" type=\"text/javascript\"></script>', '\\t<script type=\"text/javascript\">', '\\t\\t$(document).ready(function() {', \"\\t\\t\\t$().UItoTop({ easingType: 'easeOutQuart',text: '������' });\", '\\t\\t});', '\\t</script>', '\\t', '<!-- Add mousewheel plugin (this is optional) -->', '<script type=\"text/javascript\" src=\"/include/fancybox/lib/jquery.mousewheel-3.0.6.pack.js\"></script>', '', '<!-- Add fancyBox -->', '<link rel=\"stylesheet\" href=\"/include/fancybox/source/jquery.fancybox.css?v=2.1.4\" type=\"text/css\" media=\"screen\" />', '<script type=\"text/javascript\" src=\"/include/fancybox/source/jquery.fancybox.pack.js?v=2.1.4\"></script>', '<link rel=\"apple-touch-icon\" sizes=\"57x57\" href=\"/apple-touch-icon-57.png\" />', '<!-- Retina iPhone, iPod touch -->', '<link rel=\"apple-touch-icon\" sizes=\"114x114\" href=\"/apple-touch-icon-114.png\" />', '<!-- Standard iPad -->', '<link rel=\"apple-touch-icon\" sizes=\"72x72\" href=\"/apple-touch-icon-72.png\" />', '<!-- Retina iPad -->', '<link rel=\"apple-touch-icon\" sizes=\"144x144\" href=\"/apple-touch-icon-144.png\" />', '', '<script type=\"text/javascript\" src=\"/include/swfobject/swfobject.js\"></script>', '</head>', '<body>', '<!-- Yandex.Metrika counter -->', '<script type=\"text/javascript\">', '(function (d, w, c) {', '    (w[c] = w[c] || []).push(function() {', '        try {', '            w.yaCounter21009928 = new Ya.Metrika({id:21009928,', '                    webvisor:true,', '                    clickmap:true,', '                    trackLinks:true,', '                    accurateTrackBounce:true});', '        } catch(e) { }', '    });', '', '    var n = d.getElementsByTagName(\"script\")[0],', '        s = d.createElement(\"script\"),', '        f = function () { n.parentNode.insertBefore(s, n); };', '    s.type = \"text/javascript\";', '    s.async = true;', '    s.src = (d.location.protocol == \"https:\" ? \"https:\" : \"http:\") + \"//mc.yandex.ru/metrika/watch.js\";', '', '    if (w.opera == \"[object Opera]\") {', '        d.addEventListener(\"DOMContentLoaded\", f, false);', '    } else { f(); }', '})(document, window, \"yandex_metrika_callbacks\");', '</script>', '<noscript><div><img src=\"//mc.yandex.ru/watch/21009928\" style=\"position:absolute; left:-9999px;\" alt=\"\" /></div></noscript>', '<!-- /Yandex.Metrika counter -->', '', '', '<header>', '\\t<div class=\"row hide-phone\">', '\\t\\t<div class=\"grid_12\" id=\"label_top\"><ul class=\"nomargin nobullet\"> | <li class=\"nobullet inline noindent\"><a href=\"/news/label/%CF%EE%E3%EE%E4%E0+%E2+%C5%EA%E0%F2%E5%F0%E8%ED%E1%F3%F0%E3%E5+%E8+%D1%E2%E5%F0%E4%EB%EE%E2%F1%EA%EE%E9+%EE%E1%EB%E0%F1%F2%E8\">������ � ������������� � ������������ �������</a> | </li><li class=\"nobullet inline noindent\"><a href=\"/news/label/%D7%F2%EE+%EF%F0%E8%E3%EE%F2%EE%E2%E8%F2%FC+%ED%E0+%F3%E6%E8%ED+%F0%E5%F6%E5%EF%F2+%F1+%F4%EE%F2%EE\">��� ����������� �� ���� ������ � ����</a> | </li><li class=\"nobullet inline noindent\"><a href=\"/news/label/%CD%EE%E2%EE%F1%F2%E8+%C5%EA%E0%F2%E5%F0%E8%ED%E1%F3%F0%E3%E0\">������� �������������</a> | </li><li class=\"nobullet inline noindent\"><a href=\"/news/label/96women.ru+-+%C6%E8%E2%EE%E9+%C6%E5%ED%F1%EA%E8%E9+%C6%F3%F0%ED%E0%EB\">96women.ru - ����� ������� ������</a> | </li></ul></div>', '\\t</div>', '\\t<div class=\"row hide-phone\">', '\\t\\t<nav class=\"grid_12\" id=\"link\" >', '\\t\\t\\t<ul class=\"float-right\">', '\\t\\t\\t\\t<li><a href=\"/\"><span>�������</span></a></li>', '\\t\\t\\t\\t<li><a href=\"/editorial.html\"><span>��������</span></a></li><li><a href=\"/advertising.html\"><span>�������</span></a></li><li><a href=\"/aboutus.html\"><span>� �������</span></a></li>', '\\t\\t\\t\\t<li><a href=\"/rss/\"><span>RSS</span></a></li>', '                <li><a href=\"/sendmail/\"><span>�������� �����</span></a></li>', '\\t\\t\\t\\t<li><a href=\"/news/\"><span>��� �������</span></a></li>', '\\t\\t\\t</ul>', '\\t\\t</nav>', '\\t</div>', '\\t<div class=\"row\">', '\\t\\t<div class=\"grid_2\" id=\"logo\"><a href=\"http://0-50.ru/\"><img src=\"/images/logo.png\" alt=\"0-50.RU\" title=\"0-50.RU\" width=\"140\" height=\"88\" /></a></div>', '\\t\\t<div class=\"grid_10 hide-phone row\" id=\"top_banner\">', '\\t\\t\\t<div class=\"grid_6\"></div>', '\\t\\t\\t<div class=\"grid_2\"></div>', '\\t\\t\\t<div class=\"grid_2\"><div class=\"banner\" id=\"banner_26\"><a href=\"/banners/26/\" title=\"\" target=\"_blank\" ><img src=\"/images/banners/73049_original.jpg\" /></a></div></div>', '\\t\\t</div>', '\\t</div>', '\\t<div class=\"row hide-phone\">', '\\t<nav class=\"grid_12\" id=\"news_menu\">', '\\t\\t\\t<ul class=\"nomargin nobullet\">', '\\t\\t\\t\\t<li class=\"nobullet inline\"><a href=\"/news/eburg/\">������������</a></li>', '\\t\\t\\t\\t<li class=\"nobullet inline\"><a href=\"/news/russia/\">������ � ���</a></li>', '\\t\\t\\t\\t<li class=\"nobullet inline\"><a href=\"/news/education/\">�����������</a></li>', '\\t\\t\\t\\t<li class=\"nobullet inline\"><a href=\"/news/polit/\">������������</a></li>', '\\t\\t\\t\\t<li class=\"nobullet inline\"><a href=\"/news/health/\">��������</a></li>', '\\t\\t\\t\\t<li class=\"nobullet inline\"><a href=\"/news/sport/\">�����</a></li>', '\\t\\t\\t\\t<li class=\"nobullet inline\"><a href=\"/news/incident/\">������������</a></li>', '\\t\\t\\t\\t<li class=\"nobullet inline\"><a href=\"/news/auto/\">���������</a></li>', '\\t\\t\\t\\t<li class=\"nobullet inline\"><a href=\"/news/company/\">������� ��������</a></li>', '\\t\\t\\t\\t<li class=\"nobullet inline\"><a href=\"/news/socium/\">������ �����</a></li>', '\\t\\t\\t\\t<li class=\"nobullet inline\"><a href=\"/news/article/\">������</a></li>', '\\t\\t\\t</ul>', '\\t</nav>', '\\t</div>', '</header>', '', '<div class=\"row\" id=\"wrapper\">', '\\t', '\\t<div class=\"grid_8\">', '\\t\\t<div  id=\"search\" class=\"grid_8 row hide-phone\">', '\\t\\t<div id=\"date\" class=\"grid_2\"><!-- �������, 28&nbsp;������&nbsp;2023 --></div>', '\\t\\t<div class=\"grid_6 text-right\">', '\\t\\t\\t<form method=\"get\" class=\"search\" action=\"/search/\">', '\\t\\t\\t\\t<div class=\"wrapper-block\"><input name=\"text\" class=\"textbox\" type=\"text\" value=\"\" />', '  \\t\\t\\t\\t<input class=\"submit btn-form\" value=\"�����\" type=\"submit\" /></div>', '\\t\\t\\t</form>', '\\t\\t</div>', '\\t\\t</div>', '\\t<div class=\"grid_8 row\" id=\"content\">', '\\t\\t<div class=\"grid_8\">', '\\t\\t\\t<header><h1 class=\"grid_6\">��������� ������� �������������� ������ � ������� ������� ������������</h1></header>', '\\t\\t\\t', '<div id=\"label\" class=\"hide-phone\"></div>', '<div class=\"content clear-left\">', '<img src=\"/images/foto/49761_preview.jpg\" alt=\"\" title=\"\" class=\"img-left\" />', '<p>��������� ������� ���� ��������� ������� ���� �������������� ������ � ������� ������� ������������, ������������ ��������.<br />', '<br />', '&quot;��������� ������ � ���� �������, ��� ��� � ������� ��������� ��������� ����� � ������������ ���� � �������� &quot;�� ���� � ���� �������&quot;! ������� ������ � �������� �������������� ������ � ������� ��������, ���� ���, ��� ���� ������� ��������� ���� ������������ � ������� ���������&quot;, &ndash; ��������� � ��������� ��������� � Facebook.<br />', '<br />', '�������������� ������������ ���������� � ������ �� 65-� ���� �����.</p><p class=\"tag\">����: <a href=\"/news/tag/%C2%E0%EB%E5%F0%E8%FF+%CD%EE%E2%EE%E4%E2%EE%F0%F1%EA%E0%FF\">������� ������������</a>, <a href=\"/news/tag/%F3%EC%E5%F0%EB%E0+%C2%E0%EB%E5%F0%E8%FF+%CD%EE%E2%EE%E4%E2%EE%F0%F1%EA%E0%FF\">������ ������� ������������</a>, <a href=\"/news/tag/%C2%E0%EB%E5%F0%E8%FF+%CD%EE%E2%EE%E4%E2%EE%F0%F1%EA%E0%FF+%F1%EA%EE%ED%F7%E0%EB%E0%F1%FC\">������� ������������ ����������</a>, <a href=\"/news/tag/%EE%F2+%F7%E5%E3%EE+%F3%EC%E5%F0%EB%E0+%C2%E0%EB%E5%F0%E8%FF+%CD%EE%E2%EE%E4%E2%EE%F0%F1%EA%E0%FF\">�� ���� ������ ������� ������������</a>, <a href=\"/news/tag/%EF%EE%F5%EE%F0%EE%ED%FB+%C2%E0%EB%E5%F0%E8%E8+%CD%EE%E2%EE%E4%E2%EE%F0%F1%EA%EE%E9\">�������� ������� ������������</a>, <a href=\"/news/tag/%EF%F0%E8%F7%E8%ED%E0+%F1%EC%E5%F0%F2%E8+%C2%E0%EB%E5%F0%E8%E8+%CD%EE%E2%EE%E4%E2%EE%F0%F1%EA%EE%E9\">������� ������ ������� ������������</a>, <a href=\"/news/tag/%EE%F2%F7%E5%E3%EE+%F3%EC%E5%F0%EB%E0+%ED%EE%E2%EE%E4%E2%EE%F0%F1%EA%E0%FF\">������ ������ ������������</a>, <a href=\"/news/tag/%EF%EE%F5%EE%F0%EE%ED%FB+%ED%EE%E2%EE%E4%E2%EE%F0%F1%EA%EE%E9\">�������� ������������</a>, <a href=\"/news/tag/%ED%EE%E2%EE%E4%E2%EE%F0%F1%EA%E0%FF+%F1%EA%EE%ED%F7%E0%EB%E0%F1%FC+%EF%F0%E8%F7%E8%ED%E0+%F1%EC%E5%F0%F2%E8\">������������ ���������� ������� ������</a></p>', '</div>', '            <div class=\"comments float-left\">', '                <b>13.07.2014&nbsp;22:56 <br />', '                </b>', '\\t\\t\\t</div>', '<script type=\"text/javascript\" src=\"//yandex.st/share/share.js\" charset=\"utf-8\"></script>', '<div class=\"yashare-auto-init\" data-yashareL10n=\"ru\" data-yashareType=\"none\" data-yashareQuickServices=\"yaru,vkontakte,facebook,twitter,odnoklassniki,moimir,lj,gplus\"></div> ', '', '            <p class=\"photo clear-left\">', '                ', '            </p>', '', '', '<div class=\"advert\">', '<!--noindex-->', '', '', '<!--', '', '\\t<object classid=\"clsid:d27cdb6e-ae6d-11cf-96b8-444553540000\" codebase=\"http://download.macromedia.com/pub/shockwave/cabs/flash/swflash.cab#version=9,0,0,0\" id=\"UGS\" align=\"middle\">', '\\t<param name=\"allowScriptAccess\" value=\"sameDomain\" />', '\\t<param name=\"allowFullScreen\" value=\"false\" />', '\\t<param name=\"movie\" value=\"/images/banners/faraon.swf\" />', '\\t<param name=\"quality\" value=\"high\" />', '\\t<embed src=\"/images/banners/faraon.swf\" quality=\"high\" name=\"UGS\" align=\"middle\" allowScriptAccess=\"sameDomain\" allowFullScreen=\"false\" type=\"application/x-shockwave-flash\" pluginspage=\"http://www.macromedia.com/go/getflashplayer\" />', '\\t</object>', '', '-->', '', '<!--/noindex-->', '', '', '<div id=\"DIV_DA_9224\"><!--�����������, ���������...--></div>', '<!--�������� ��� ������ ����, ��� �� ���������� ������������� ����������-->', '<div id=\"DIV_DA_9229\"><!--�����������, ���������...--></div>', '', '            <div id=\"comments\"></div>', '', '            <script type=\"text/javascript\">', '            function del_comment() {', \"            $('#comments h3 a').click(function() {\", \"                if (confirm('������� �������?')) {\", '                    link_del_comment = $(this).attr(\"href\");', '                    $.post(link_del_comment,{},function(data){', '                        alert(data.text);', '                        window.location.reload();', '                    });', '                }', '                return false;', '                });', '            }', '', '$(document).ready(del_comment);', '</script>', '            <!--noindex-->', '', '<div id=\"DIV_DA_31080\"></div>', '<!--/noindex-->', '</div>', '', '<aside class=\"grid_8 news_list row\"><h2 class=\"block_title\">�������</h2>', '\\t\\t<aside class=\"grid_2 sidebar label hide-phone\">', '\\t<!--noindex-->\\t', '\\t\\t\\t\\t<div class=\"text-center\">', '', '<!--LiveInternet counter--><script type=\"text/javascript\"><!--', 'document.write(\"<a href=\\'//www.liveinternet.ru/click\\' \"+', '\"target=_blank><img src=\\'//counter.yadro.ru/hit?t44.1;r\"+', 'escape(document.referrer)+((typeof(screen)==\"undefined\")?\"\":', '\";s\"+screen.width+\"*\"+screen.height+\"*\"+(screen.colorDepth?', 'screen.colorDepth:screen.pixelDepth))+\";u\"+escape(document.URL)+', '\";\"+Math.random()+', '\"\\' alt=\\'\\' title=\\'LiveInternet\\' \"+', '\"border=\\'0\\' width=\\'31\\' height=\\'31\\'><\\\\/a>\")', '//--></script><!--/LiveInternet-->', '\\t\\t</div>', '\\t\\t', '', '', '', '<!--/noindex-->', '', '</aside>', '<aside class=\"grid_6\" id=\"news_list\">', '<article class=\"theme_day clear-left\">', '\\t<a href=\"/news/line/2019-12-30/id_64954.html\"><figure><img src=\"/images/foto/73031_square.jpg\" class=\"img-left\" alt=\"\" title=\"\" /></figure></a>', '\\t<header><h3><a href=\"/news/line/2019-12-30/id_64954.html\">��������� ������� ������ ����� ��������ɻ ����������� ������� � ����������� 2020 �����!</a></h3></header>', '            <div><a href=\"/news/line/2019-12-30/id_64954.html\">������� ����� ������������ ����� 15 ��� �������� ����� ������� ��� �� ���� ��� ������������</a></div>', '</article>', '            ', '', '<article class=\"theme_day clear-left\">', '\\t<a href=\"/news/line/2019-11-07/id_64947.html\"><figure><img src=\"/images/foto/73017_square.jpg\" class=\"img-left\" alt=\"\" title=\"\" /></figure></a>', '\\t<header><h3><a href=\"/news/line/2019-11-07/id_64947.html\">��������������� ������������ ����������� ��������� �������� ����������������� ����� ������ �����</a></h3></header>', '            <div><a href=\"/news/line/2019-11-07/id_64947.html\">9 � 10 ������ � �������������</a></div>', '</article>', '            ', '', '<article class=\"theme_day clear-left\">', '\\t<a href=\"/news/line/2019-10-02/id_64944.html\"><figure><img src=\"/images/foto/73002_square.jpg\" class=\"img-left\" alt=\"\" title=\"\" /></figure></a>', '\\t<header><h3><a href=\"/news/line/2019-10-02/id_64944.html\">���������������� ����� ��������� ���������� ������� ��������������� � ����������� �������� �� ������� ��������</a></h3></header>', '            <div><a href=\"/news/line/2019-10-02/id_64944.html\">3 ������� 2019 ���� � 12:00 �� 14:00 ����� � ����������� ������ �1 (�. ������������, ��. ���������, 22)</a></div>', '</article>', '            ', '', '<article class=\"theme_day clear-left\">', '\\t<a href=\"/news/line/2019-09-09/id_64943.html\"><figure><img src=\"/images/foto/72999_square.jpg\" class=\"img-left\" alt=\"\" title=\"\" /></figure></a>', '\\t<header><h3><a href=\"/news/line/2019-09-09/id_64943.html\">����������������� ���� ������ �������� ���������� ��������� ����������� ��������� ���� ���� � �������� ���������� ���������</a></h3></header>', '            <div><a href=\"/news/line/2019-09-09/id_64943.html\">19-20 �������� � ��������-������ Marins Park Hotel</a></div>', '</article>', '            ', '', '<article class=\"theme_day clear-left\">', '\\t<a href=\"/news/line/2019-07-10/id_64933.html\"><figure><img src=\"/images/foto/72975_square.jpg\" class=\"img-left\" alt=\"\" title=\"\" /></figure></a>', '\\t<header><h3><a href=\"/news/line/2019-07-10/id_64933.html\">� ������������� ������������ ���� ������� ��������� ���������� �� ����, ������� �� �������������� ���������� � ������</a></h3></header>', '            <div><a href=\"/news/line/2019-07-10/id_64933.html\">��������� �� ���� � ��� ���� ����������</a></div>', '</article>', '            ', '', '<article class=\"theme_day clear-left\">', '\\t<a href=\"/news/line/2019-06-18/id_64926.html\"><figure><img src=\"/images/foto/72965_square.jpg\" class=\"img-left\" alt=\"\" title=\"\" /></figure></a>', '\\t<header><h3><a href=\"/news/line/2019-06-18/id_64926.html\">���������������� ����� ��������� ���������� ������� � ������������� ������������� �������� �� ������� ��������</a></h3></header>', '            <div><a href=\"/news/line/2019-06-18/id_64926.html\">20 ���� 2019 ���� � 12:00 �� 13:00 ����� � ����������� ������ �1 (�. ������������, ��. ���������, 22)</a></div>', '</article>', '            ', '', '<article class=\"theme_day clear-left\">', '\\t<a href=\"/news/line/2019-06-11/id_64920.html\"><figure><img src=\"/images/foto/72957_square.jpg\" class=\"img-left\" alt=\"\" title=\"\" /></figure></a>', '\\t<header><h3><a href=\"/news/line/2019-06-11/id_64920.html\">���������������� ����� ��������� ���������� ������� �� ������� ��������</a></h3></header>', '            <div><a href=\"/news/line/2019-06-11/id_64920.html\">������� ������������� ������� ������ ����������� ����� ������, � ������������� � ���������� ��������� ��������� �����</a></div>', '</article>', '            ', '', '<article class=\"theme_day clear-left\">', '\\t<a href=\"/news/line/2019-06-11/id_64919.html\"><figure><img src=\"/images/foto/72956_square.jpg\" class=\"img-left\" alt=\"\" title=\"\" /></figure></a>', '\\t<header><h3><a href=\"/news/line/2019-06-11/id_64919.html\">������ ������������� ������� ������� ��������� ������, ����������� ��������� �� �������� iPhone</a></h3></header>', '            <div><a href=\"/news/line/2019-06-11/id_64919.html\">�� ��������� �������������� ������ � 250 ����� ������</a></div>', '</article>', '            ', '', '<article class=\"theme_day clear-left\">', '\\t<a href=\"/news/line/2019-05-08/id_64906.html\"><figure><img src=\"/images/foto/72935_square.jpg\" class=\"img-left\" alt=\"\" title=\"\" /></figure></a>', '\\t<header><h3><a href=\"/news/line/2019-05-08/id_64906.html\">���������� ��������� ����������� � ���� ������ � ����� ������ 50% �� ������ � ������</a></h3></header>', '            <div><a href=\"/news/line/2019-05-08/id_64906.html\">������ �������� ��������� � 8 �� 15 ��� 2019 ���� �� ������ � 8 ��� �� 30 ���� 2019 ����</a></div>', '</article>', '            ', '', '<article class=\"theme_day clear-left\">', '\\t<a href=\"/news/line/2019-05-07/id_64905.html\"><figure><img src=\"/images/foto/72934_square.jpg\" class=\"img-left\" alt=\"\" title=\"\" /></figure></a>', '\\t<header><h3><a href=\"/news/line/2019-05-07/id_64905.html\">������������ � 9 ��� �� ������������ ������������ ������������ ����������� ���������</a></h3></header>', '            <div><a href=\"/news/line/2019-05-07/id_64905.html\">����� �� ���� ������� �� ������ � �� ������, ��� ����� �����</a></div>', '</article>', '            ', '', '<article class=\"theme_day clear-left\">', '\\t<a href=\"/news/line/2019-05-07/id_64904.html\"><figure><img src=\"/images/foto/72933_square.jpg\" class=\"img-left\" alt=\"\" title=\"\" /></figure></a>', '\\t<header><h3><a href=\"/news/line/2019-05-07/id_64904.html\">������������ � 9 ��� �� ���� ������� ������ ����� ���������</a></h3></header>', '            <div><a href=\"/news/line/2019-05-07/id_64904.html\">��������� ��� ����������, ������� � ������������!</a></div>', '</article>', '            ', '', '<article class=\"theme_day clear-left\">', '\\t<a href=\"/news/line/2019-04-30/id_64900.html\"><figure><img src=\"/images/foto/72928_square.jpg\" class=\"img-left\" alt=\"\" title=\"\" /></figure></a>', '\\t<header><h3><a href=\"/news/line/2019-04-30/id_64900.html\">1 ��� ����� �������, ������, ������� � 8 ����� ��������� � 06:00 �� 15:30</a></h3></header>', '            <div><a href=\"/news/line/2019-04-30/id_64900.html\">��� ���� ����� ����������, ������� �������� � �������</a></div>', '</article>', '            ', '', '<article class=\"theme_day clear-left\">', '\\t<a href=\"/news/line/2019-04-02/id_64885.html\"><figure><img src=\"/images/foto/72894_square.jpg\" class=\"img-left\" alt=\"\" title=\"\" /></figure></a>', '\\t<header><h3><a href=\"/news/line/2019-04-02/id_64885.html\">������ � ������������� �� ������ �������� ���������� ������ ���� � ������� �����</a></h3></header>', '            <div><a href=\"/news/line/2019-04-02/id_64885.html\">��� ��� ����� �����������</a></div>', '</article>', '            ', '', '<article class=\"theme_day clear-left\">', '\\t<a href=\"/news/line/2019-04-02/id_64884.html\"><figure><img src=\"/images/foto/72893_square.jpg\" class=\"img-left\" alt=\"\" title=\"\" /></figure></a>', '\\t<header><h3><a href=\"/news/line/2019-04-02/id_64884.html\">� ������������� �� �������� ��������� �������� ���� � ������ ����������� ����������</a></h3></header>', '            <div><a href=\"/news/line/2019-04-02/id_64884.html\">�������� ���� ���������</a></div>', '</article>', '            ', '', '<article class=\"theme_day clear-left\">', '\\t<a href=\"/news/line/2019-03-28/id_64882.html\"><figure><img src=\"/images/foto/72888_square.jpg\" class=\"img-left\" alt=\"\" title=\"\" /></figure></a>', '\\t<header><h3><a href=\"/news/line/2019-03-28/id_64882.html\">������ � ������������� � �������� �������� ������ � ����������� �������</a></h3></header>', '            <div><a href=\"/news/line/2019-03-28/id_64882.html\">� ���� ���� � ����� ����������� ������� ���� �� ��������� �������� ���� �����</a></div>', '</article>', '            ', '', '<article class=\"theme_day clear-left\">', '\\t<a href=\"/news/line/2019-03-20/id_64879.html\"><figure><img src=\"/images/foto/72885_square.jpg\" class=\"img-left\" alt=\"\" title=\"\" /></figure></a>', '\\t<header><h3><a href=\"/news/line/2019-03-20/id_64879.html\">����� ������������ 2018� ����� ������ ������ ������� �� ������� ������� ����� ������ 2019�</a></h3></header>', '            <div><a href=\"/news/line/2019-03-20/id_64879.html\">13 ����� 2019 ���� � ������ ������� ����� ��������</a></div>', '</article>', '            ', '', '<article class=\"theme_day clear-left\">', '\\t<a href=\"/news/line/2019-03-20/id_64878.html\"><figure><img src=\"/images/foto/72879_square.jpg\" class=\"img-left\" alt=\"\" title=\"\" /></figure></a>', '\\t<header><h3><a href=\"/news/line/2019-03-20/id_64878.html\">� ������ � ��������� ������ ���������� ���� �������������� �������� �������� � ���������� ���������� ������ ��������</a></h3></header>', '            <div><a href=\"/news/line/2019-03-20/id_64878.html\">� �������� ����� ������� ������� ���� � ��������� ��������� ���������� ���������: � 7 �� 10 ���, � 11 �� 14, � 15 �� 17 (������������)</a></div>', '</article>', '            ', '', '<article class=\"theme_day clear-left\">', '\\t<a href=\"/news/line/2019-03-10/id_64876.html\"><figure><img src=\"/images/foto/72875_square.jpg\" class=\"img-left\" alt=\"\" title=\"\" /></figure></a>', '\\t<header><h3><a href=\"/news/line/2019-03-10/id_64876.html\">������� ��: ������������ � 8 �����</a></h3></header>', '            <div><a href=\"/news/line/2019-03-10/id_64876.html\">����� ���� �������, ���������� ��� � ��������� ������� ���!</a></div>', '</article>', '            ', '', '<article class=\"theme_day clear-left\">', '\\t<a href=\"/news/line/2019-03-07/id_64875.html\"><figure><img src=\"/images/foto/72873_square.jpg\" class=\"img-left\" alt=\"\" title=\"\" /></figure></a>', '\\t<header><h3><a href=\"/news/line/2019-03-07/id_64875.html\">����������������� ���������� ����������� ������������ ���������� ��� �������� ����������� ���� ������ ������ � ����������� ���������� 8 �����!</a></h3></header>', '            <div><a href=\"/news/line/2019-03-07/id_64875.html\">������, ����� ��� ������ ��� ���� � ���������</a></div>', '</article>', '            ', '', '<article class=\"theme_day clear-left\">', '\\t<a href=\"/news/line/2019-03-07/id_64872.html\"><figure><img src=\"/images/foto/72870_square.jpg\" class=\"img-left\" alt=\"���� �.�. ������� �����\" title=\"���� �.�. ������� �����\" /></figure></a>', '\\t<header><h3><a href=\"/news/line/2019-03-07/id_64872.html\">������������ ����������� ��������� ������� ��������, ��� ������� �������</a></h3></header>', '            <div><a href=\"/news/line/2019-03-07/id_64872.html\">�� ���������� ������������ ������� � ��������� ��� �������� ���������������� ���������������� ����� �������, ��� ������� ��������</a></div>', '</article>', '            ', '', '', '<div class=\"paginator\" id=\"news_paginator\">', '', '    <b>1613</b> &nbsp;&nbsp;&nbsp;<a href =\"/ajax/news/80/1612\" title=\"�������� 1612\" rel=\"nofollow\">1612</a> &nbsp;&nbsp;&nbsp;<a href =\"/ajax/news/80/1611\" title=\"�������� 1611\" rel=\"nofollow\">1611</a> &nbsp;&nbsp;&nbsp;<a href =\"/ajax/news/80/1610\" title=\"�������� 1610\" rel=\"nofollow\">1610</a> &nbsp;&nbsp;&nbsp;<a href =\"/ajax/news/80/1609\" title=\"�������� 1609\" rel=\"nofollow\">1609</a> &nbsp;&nbsp;&nbsp;<a href =\"/ajax/news/80/1608\" title=\"�������� 1608\" rel=\"nofollow\">1608</a> &nbsp;&nbsp;&nbsp;...&nbsp;&nbsp;&nbsp; <a href =\"/ajax/news/80/1\" title=\"�� ��������� ��������\" rel=\"nofollow\">1</a>&nbsp;&nbsp;&nbsp;<a href =\"/ajax/news/80/1612\" title=\"��������� ��������\" rel=\"nofollow\">&gt;</a> &nbsp;&nbsp;&nbsp;', '</div>', '', '', '</aside>', '</aside>', '\\t\\t', '\\t\\t', '', '\\t\\t</div><!-- end .grid_8 -->', '', '\\t<aside id=\"tags\" class=\"grid_8\">', '\\t\\t<h2 class=\"block_title\"><a href=\"/news/tag/\">������ �����</a></h2>', '\\t\\t<p class=\"tags\"><a href=\"/news/tag/%ED%EE%E2%EE%F1%F2%E8+%E4%EE%EC+2+2013\" class=\"weight1\">�������&nbsp;���&nbsp;2&nbsp;2013</a> <a href=\"/news/tag/%ED%EE%E2%EE%F1%F2%E8+%E4%EE%EC+2+2012\" class=\"weight1\">�������&nbsp;���&nbsp;2&nbsp;2012</a> <a href=\"/news/tag/%CF%EE%E6%E0%F0\" class=\"weight1\">�����</a> <a href=\"/news/tag/%ED%EE%E2%EE%F1%F2%E8+%C4%E0%E3%E5%F1%F2%E0%ED%E0\" class=\"weight1\">�������&nbsp;���������</a> <a href=\"/news/tag/%EF%EE%E3%EE%E4%E0+%E2+%CC%EE%F1%EA%E2%E5\" class=\"weight1\">������&nbsp;�&nbsp;������</a> <a href=\"/news/tag/%E1%E5%F1%EF%EE%F0%FF%E4%EA%E8+%E2+%C4%EE%ED%E5%F6%EA%E5\" class=\"weight1\">����������&nbsp;�&nbsp;�������</a> <a href=\"/news/tag/%ED%EE%E2%EE%F1%F2%E8+%D3%EA%F0%E0%E8%ED%FB\" class=\"weight5\">�������&nbsp;�������</a> <a href=\"/news/tag/%ED%EE%E2%EE%F1%F2%E8+%E1%E8%E0%F2%EB%EE%ED%E0\" class=\"weight1\">�������&nbsp;��������</a> <a href=\"/news/tag/%F4%F3%F2%E1%EE%EB+%D0%EE%F1%F1%E8%E8\" class=\"weight2\">������&nbsp;������</a> <a href=\"/news/tag/%ED\" class=\"weight1\">�</a> <a href=\"/news/tag/%C1%E8%E0%F2%EB%EE%ED\" class=\"weight1\">�������</a> <a href=\"/news/tag/%EF%F0%EE%E8%F1%F8%E5%F1%F2%E2%E8%FF+%E2+%CC%EE%F1%EA%E2%E5\" class=\"weight1\">������������&nbsp;�&nbsp;������</a> <a href=\"/news/tag/%ED%EE%E2%EE%F1%F2%E8+%E4%EE%EC+2+%F1%E5%E3%EE%E4%ED%FF\" class=\"weight1\">�������&nbsp;���&nbsp;2&nbsp;�������</a> <a href=\"/news/tag/%ED%EE%E2%EE%F1%F2%E8+%CA%F0%FB%EC%E0+%F1%E5%E3%EE%E4%ED%FF\" class=\"weight1\">�������&nbsp;�����&nbsp;�������</a> <a href=\"/news/tag/%ED%EE%E2%EE%F1%F2%E8+%CB%F3%E3%E0%ED%F1%EA%E0+%F1%E5%E3%EE%E4%ED%FF\" class=\"weight2\">�������&nbsp;��������&nbsp;�������</a> <a href=\"/news/tag/%F3%E1%E8%E9%F1%F2%E2%EE\" class=\"weight1\">��������</a> <a href=\"/news/tag/%F3%EA%F0%E0%E8%ED%E0+%ED%EE%E2%EE%F1%F2%E8+%F1%E5%E3%EE%E4%ED%FF\" class=\"weight4\">�������&nbsp;�������&nbsp;�������</a> <a href=\"/news/tag/%F4%F3%F2%E1%EE%EB+%F1%E5%E3%EE%E4%ED%FF\" class=\"weight2\">������&nbsp;�������</a> <a href=\"/news/tag/%F1%E0%ED%EA%F6%E8%E8\" class=\"weight1\">�������</a> <a href=\"/news/tag/%ED%EE%E2%EE%F1%F2%E8+%D1%EB%E0%E2%FF%ED%F1%EA%E0\" class=\"weight1\">�������&nbsp;���������</a> <a href=\"/news/tag/%C4%D2%CF+%E2+%C5%EA%E0%F2%E5%F0%E8%ED%E1%F3%F0%E3%E5\" class=\"weight1\">���&nbsp;�&nbsp;�������������</a> <a href=\"/news/tag/%C0%EB%E5%EA%F1%E0%ED%E4%F0+%CC%E8%F8%E0%F0%E8%ED\" class=\"weight1\">���������&nbsp;�������</a> <a href=\"/news/tag/%F1%EF%EB%E5%F2%ED%E8+%E4%EE%EC+2\" class=\"weight2\">�������&nbsp;���&nbsp;2</a> <a href=\"/news/tag/%F1%EE%F1%F2%E0%E2+%F1%E1%EE%F0%ED%EE%E9+%D0%EE%F1%F1%E8%E8\" class=\"weight1\">������&nbsp;�������&nbsp;������</a> <a href=\"/news/tag/%E0%E2%E0%F0%E8%FF\" class=\"weight3\">������</a> <a href=\"/news/tag/%ED%EE%E2%EE%F1%F2%E8+%F3%EA%F0%E0%E8%ED%FB+%F1%E5%E3%EE%E4%ED%FF\" class=\"weight4\">�������&nbsp;�������&nbsp;�������</a> <a href=\"/news/tag/%ED%EE%E2%EE%F1%F2%E8+%EC%EE%F1%EA%E2%FB\" class=\"weight2\">�������&nbsp;������</a> <a href=\"/news/tag/%ED%EE%E2%EE%F1%F2%E8+%CA%E8%E5%E2%E0+%F1%E5%E3%EE%E4%ED%FF\" class=\"weight1\">�������&nbsp;�����&nbsp;�������</a> <a href=\"/news/tag/%EF%F0%EE%E8%F8%E5%F1%F2%E2%E8%FF+%E2+%EC%EE%F1%EA%E2%E5\" class=\"weight1\">�����������&nbsp;�&nbsp;������</a> <a href=\"/news/tag/%ED%EE%E2%EE%F1%F2%E8+%EA%E8%E5%E2%E0\" class=\"weight4\">�������&nbsp;�����</a> <a href=\"/news/tag/%D1%D8%C0\" class=\"weight1\">���</a> <a href=\"/news/tag/%F1%EB%F3%F5%E8+%ED%E0+%E4%EE%EC+2\" class=\"weight2\">�����&nbsp;��&nbsp;���&nbsp;2</a> <a href=\"/news/tag/%ED%EE%E2%EE%F1%F2%E8+%E4%EE%EC+2+%F1%E2%E5%E6%E8%E5\" class=\"weight2\">�������&nbsp;���&nbsp;2&nbsp;������</a> <a href=\"/news/tag/%ED%EE%E2%EE%F1%F2%E8+%E4%EE%EC+2+%ED%E0+%F1%E5%E3%EE%E4%ED%FF\" class=\"weight2\">�������&nbsp;���&nbsp;2&nbsp;��&nbsp;�������</a> <a href=\"/news/tag/%D4%F3%F2%E1%EE%EB\" class=\"weight3\">������</a> <a href=\"/news/tag/%F4%F3%F2%E1%EE%EB+%F7%E5%EC%EF%E8%EE%ED%E0%F2+%D0%EE%F1%F1%E8%E8\" class=\"weight1\">������&nbsp;���������&nbsp;������</a> <a href=\"/news/tag/%ED%EE%E2%EE%F1%F2%E8+%F4%F3%F2%E1%EE%EB%E0\" class=\"weight3\">�������&nbsp;�������</a> <a href=\"/news/tag/%ED%EE%E2%EE%F1%F2%E8+%CE%E4%E5%F1%F1%FB\" class=\"weight1\">�������&nbsp;������</a> <a href=\"/news/tag/%E0%E2%E0%F0%E8%FF+%E2+%C5%EA%E0%F2%E5%F0%E8%ED%E1%F3%F0%E3%E5\" class=\"weight1\">������&nbsp;�&nbsp;�������������</a> <a href=\"/news/tag/%F7%F2%EE+%EF%F0%EE%E8%F1%F5%EE%E4%E8%F2+%E2+%D1%EB%E0%E2%FF%ED%F1%EA%E5\" class=\"weight1\">���&nbsp;����������&nbsp;�&nbsp;���������</a> <a href=\"/news/tag/%ED%EE%E2%EE%F1%F2%E8+%CF%E5%F2%E5%F0%E1%F3%F0%E3%E0\" class=\"weight1\">�������&nbsp;����������</a> <a href=\"/news/tag/%C4%D2%CF\" class=\"weight4\">���</a> <a href=\"/news/tag/%ED%EE%E2%EE%F1%F2%E8+%E4%EE%EC+2\" class=\"weight2\">�������&nbsp;���&nbsp;2</a> <a href=\"/news/tag/%ED%EE%E2%EE%F1%F2%E8+%E5%EA%E0%F2%E5%F0%E8%ED%E1%F3%F0%E3%E0\" class=\"weight7\">�������&nbsp;�������������</a> <a href=\"/news/tag/%ED%EE%E2%EE%F1%F2%E8+%CB%F3%E3%E0%ED%F1%EA%E0\" class=\"weight1\">�������&nbsp;��������</a> <a href=\"/news/tag/%C2%EB%E0%E4%E8%EC%E8%F0+%CF%F3%F2%E8%ED\" class=\"weight1\">��������&nbsp;�����</a> <a href=\"/news/tag/%EE%EF%E5%F0%E0%F6%E8%FF+%E2+%D1%EB%E0%E2%FF%ED%F1%EA%E5\" class=\"weight1\">��������&nbsp;�&nbsp;���������</a> <a href=\"/news/tag/%E4%EE%EC+2+%F1%E2%E5%E6%E8%E5+%ED%EE%E2%EE%F1%F2%E8\" class=\"weight2\">���&nbsp;2&nbsp;������&nbsp;�������</a> <a href=\"/news/tag/%ED%EE%E2%EE%F1%F2%E8+%D1%E5%E2%E0%F1%F2%EE%EF%EE%EB%FF\" class=\"weight1\">�������&nbsp;�����������</a> <a href=\"/news/tag/%ED%EE%E2%EE%F1%F2%E8+%C4%EE%ED%E5%F6%EA%E0\" class=\"weight2\">�������&nbsp;�������</a> <a href=\"/news/tag/%D1%E2%E5%F0%E4%EB%EE%E2%F1%EA%E0%FF+%EE%E1%EB%E0%F1%F2%FC\" class=\"weight2\">������������&nbsp;�������</a> <a href=\"/news/tag/%E4%EE%EC+2+%ED%EE%E2%EE%F1%F2%E8\" class=\"weight1\">���&nbsp;2&nbsp;�������</a> <a href=\"/news/tag/%ED%EE%E2%EE%F1%F2%E8+%CA%F0%FB%EC%E0\" class=\"weight1\">�������&nbsp;�����</a> <a href=\"/news/tag/%EA%E8%E5%E2+%ED%EE%E2%EE%F1%F2%E8\" class=\"weight1\">����&nbsp;�������</a> <a href=\"/news/tag/%E4%EE%ED%E5%F6%EA+%ED%EE%E2%EE%F1%F2%E8+%F1%E5%E3%EE%E4%ED%FF\" class=\"weight2\">������&nbsp;�������&nbsp;�������</a> <a href=\"/news/tag/%C5%E2%E3%E5%ED%E8%E9+%CA%F3%E9%E2%E0%F8%E5%E2\" class=\"weight1\">�������&nbsp;��������</a> <a href=\"/news/tag/%ED%EE%E2%EE%F1%F2%E8+%D5%E0%F0%FC%EA%EE%E2%E0\" class=\"weight1\">�������&nbsp;��������</a> <a href=\"/news/tag/%F1%E0%ED%EA%F6%E8%E8+%EF%F0%EE%F2%E8%E2+%D0%EE%F1%F1%E8%E8\" class=\"weight1\">�������&nbsp;������&nbsp;������</a> <a href=\"/news/tag/%E1%E5%F1%EF%EE%F0%FF%E4%EA%E8+%E2+%CA%E8%E5%E2%E5\" class=\"weight1\">����������&nbsp;�&nbsp;�����</a> <a href=\"/news/tag/%ED%EE%E2%EE%F1%F2%E8+%CA%F0%E0%EC%E0%F2%EE%F0%F1%EA%E0\" class=\"weight1\">�������&nbsp;�����������</a> </p>', '\\t\\t<p align=\"center\"><a href=\"/\">�������</a> | <a href=\"http://0-50.ru/news/stock\">����� �����</a> | <a href=\"/rss/\">RSS Feed</a></p>', '\\t</aside>', '\\t</div><!-- end #content -->', '', '\\t\\t', '\\t\\t', '\\t</div><!-- end .grid_8 -->', '\\t<aside class=\"grid_4\">', '\\t\\t', '\\t</aside>', '\\t<aside class=\"grid_2 news_list sidebar\">', '\\t', '\\t<h2 class=\"block_title text-center\">�������</h2>', '\\t', '<h3><a href=\"/news/health/2022-07-21/id_64980.html\">����������� ��������� , ����� � ������ �� �������</a>&nbsp;<sub><a href=\"/news/health/2022-07-21/id_64980.html#comments\" title=\"����������� ()\"></a></sub></h3>', '', '', '<h3><a href=\"/news/beauty/2022-07-04/id_64979.html\">����� �������� ������� ��������, ��������? ��� ��������� �������� ���� �� ������� � �������� � ���� �� �������� ��������?</a>&nbsp;<sub><a href=\"/news/beauty/2022-07-04/id_64979.html#comments\" title=\"����������� ()\"></a></sub></h3>', '', '', '<h3><a href=\"/news/beauty/2022-01-10/id_64978.html\">����������� ���������: ��� ���� ��� � ������ �� �������?</a>&nbsp;<sub><a href=\"/news/beauty/2022-01-10/id_64978.html#comments\" title=\"����������� ()\"></a></sub></h3>', '', '', '<h3><a href=\"/news/auto/2022-01-09/id_62914.html\">����� � ������� ���������� ��� �������� � ������������� ����������� ����� � � ������� � �������������</a>&nbsp;<sub><a href=\"/news/auto/2022-01-09/id_62914.html#comments\" title=\"����������� ()\"></a></sub></h3>', '', '', '<h3><a href=\"/news/home_family/2021-11-26/id_64977.html\">����������� ��������� ����� Whirlpool Corporation ������ ���� ����� ������� �������������</a>&nbsp;<sub><a href=\"/news/home_family/2021-11-26/id_64977.html#comments\" title=\"����������� ()\"></a></sub></h3>']\n"
     ]
    }
   ],
   "source": [
    "# display the first 500 elements in this RDD\n",
    "print(warc_rdd.take(500))\n"
   ]
  },
  {
   "cell_type": "markdown",
   "metadata": {
    "application/vnd.databricks.v1+cell": {
     "cellMetadata": {
      "byteLimit": 2048000,
      "rowLimit": 10000
     },
     "inputWidgets": {},
     "nuid": "1b70f20d-ca49-412e-a437-6d39e25ce044",
     "showTitle": false,
     "title": ""
    }
   },
   "source": [
    "✍️  What does each \"element\" of the RDD here represent?\n",
    "\n",
    "Each element in the RDD represents extracted content from web crawl. The snippets are text and HTML tags like heading and links. These elements are pieces of data from websites, structured for further processing within Spark. "
   ]
  },
  {
   "cell_type": "code",
   "execution_count": 0,
   "metadata": {
    "application/vnd.databricks.v1+cell": {
     "cellMetadata": {
      "byteLimit": 2048000,
      "rowLimit": 10000
     },
     "inputWidgets": {},
     "nuid": "208fe43f-1ab5-4c3d-93a2-8109bdcc9bf7",
     "showTitle": false,
     "title": ""
    }
   },
   "outputs": [
    {
     "output_type": "stream",
     "name": "stdout",
     "output_type": "stream",
     "text": [
      "The final count: 91982\n"
     ]
    }
   ],
   "source": [
    "# you are given the function below:\n",
    "\n",
    "def count_script_tags(line):\n",
    "    return line.lower().count('<script type=\"text/javascript\">')\n",
    "\n",
    "# use this function, and lambda functions, to count the number of times that Javascript tag\n",
    "# appears in this segment of the dataset\n",
    "# hint: you will want to use a mapping function, and `.reduce()` \n",
    "\n",
    "# print the resulting value, the final count\n",
    "\n",
    "Javsscript_tag_rdd = warc_rdd.map(lambda line: count_script_tags(line))\n",
    "total_js_tags = Javsscript_tag_rdd.reduce(lambda a, b: a + b)\n",
    "print(\"The final count: \", total_js_tags)\n",
    "\n"
   ]
  },
  {
   "cell_type": "code",
   "execution_count": 0,
   "metadata": {
    "application/vnd.databricks.v1+cell": {
     "cellMetadata": {
      "byteLimit": 2048000,
      "rowLimit": 10000
     },
     "inputWidgets": {},
     "nuid": "e39d2602-6920-4f6e-9e6f-fea11fcc2647",
     "showTitle": false,
     "title": ""
    }
   },
   "outputs": [
    {
     "output_type": "stream",
     "name": "stdout",
     "output_type": "stream",
     "text": [
      "Final value of accumulator variable:  91982\n"
     ]
    }
   ],
   "source": [
    "# there are usually multiple ways of accomplishing the same task ...\n",
    "# use an accumulator variable to count the number of Javascript tags \n",
    "# instead of the mapping + reducing that you did previously\n",
    "\n",
    "# print the resulting value of the accumulator variable\n",
    "\n",
    "js_tags_count_accumulator = spark.sparkContext.accumulator(0)\n",
    "\n",
    "def count_accumulates(line):\n",
    "  count = line.lower().count('<script type=\"text/javascript\">')\n",
    "  js_tags_count_accumulator.add(count)\n",
    "\n",
    "warc_rdd.foreach(count_accumulates)\n",
    "\n",
    "print(\"Final value of accumulator variable: \", js_tags_count_accumulator.value)\n"
   ]
  },
  {
   "cell_type": "markdown",
   "metadata": {
    "application/vnd.databricks.v1+cell": {
     "cellMetadata": {
      "byteLimit": 2048000,
      "rowLimit": 10000
     },
     "inputWidgets": {},
     "nuid": "ab75a142-d448-44e9-afc0-bcf1ed0125c7",
     "showTitle": false,
     "title": ""
    }
   },
   "source": [
    "✍️  Check out the Spark UI (under View menu) to investigate whether there was any performance difference between \\\n",
    "your 2 approaches for counting the Javascript tags.\n",
    "\n",
    "I think the second approach performed better as it took a little bit (a few seconds) less time as compared to Map and Reduce. \n"
   ]
  },
  {
   "cell_type": "code",
   "execution_count": 0,
   "metadata": {
    "application/vnd.databricks.v1+cell": {
     "cellMetadata": {
      "byteLimit": 2048000,
      "rowLimit": 10000
     },
     "inputWidgets": {},
     "nuid": "4bff507d-0020-4c53-8f57-91710bace9c6",
     "showTitle": false,
     "title": ""
    }
   },
   "outputs": [
    {
     "output_type": "execute_result",
     "data": {
      "text/plain": [
       "['Content-Length: 499',\n",
       " 'Content-Length: 277',\n",
       " 'Content-Length: 42587',\n",
       " 'Content-Length: 42070',\n",
       " 'Content-Length: 208',\n",
       " 'Content-Length: 327',\n",
       " 'Content-Length: 39949',\n",
       " 'Content-Length: 39528',\n",
       " 'Content-Length: 202',\n",
       " 'Content-Length: 295']"
      ]
     },
     "execution_count": 48,
     "metadata": {},
     "output_type": "execute_result"
    }
   ],
   "source": [
    "# let's try and figure out the average content length of these pages from the common crawl\n",
    "# each page gives that information in a header in the data\n",
    "# first: create a new RDD that filters warc_rdd\n",
    "# using a lambda function that runs on each line: \n",
    "# if the string 'Content-Length' from the header is in the line, then that row should be in the new RDD\n",
    "\n",
    "# display the first 10 rows of this RDD\n",
    "\n",
    "warc_rdd_filtered = warc_rdd.filter(lambda line: 'Content-Length' in line)\n",
    "\n",
    "warc_rdd_filtered.take(10)\n"
   ]
  },
  {
   "cell_type": "code",
   "execution_count": 0,
   "metadata": {
    "application/vnd.databricks.v1+cell": {
     "cellMetadata": {
      "byteLimit": 2048000,
      "rowLimit": 10000
     },
     "inputWidgets": {},
     "nuid": "4b2acd57-7b54-4878-953a-297c9d926da6",
     "showTitle": false,
     "title": ""
    }
   },
   "outputs": [],
   "source": [
    "# the goal now = to get a DataFrame with only the content length, as a number, on each line\n",
    "\n",
    "# you are given the following function, which parses the text on each line and returns tuples:\n",
    "# (the function uses regular expressions, or RegEx, to search through strings for numbers)\n",
    "# (more on RegEx: https://en.wikipedia.org/wiki/Regular_expression)\n",
    "\n",
    "import re\n",
    "# import the re (or RegEx) library\n",
    "\n",
    "def parse_length_line(line):\n",
    "    # regular expression to find 'Content-Length:' followed by any number of digits\n",
    "    match = re.search(r'Content-Length:\\s*(\\d+)', line)\n",
    "    if match:\n",
    "        # if a match is found, convert the matching group (the digits) to an integer\n",
    "        return (int(match.group(1)),)\n",
    "    else:\n",
    "        # if no match, return None\n",
    "        return (None,)\n",
    "    \n",
    "# using RDD methods, run this function on every line in the RDD you just created in the previous cell\n",
    "# and then convert the result to a new DataFrame called length_df\n",
    "# it should have only 1 column: \"Length\"\n",
    "\n",
    "warc_rdd_parsed = warc_rdd_filtered.map(parse_length_line)\n",
    "\n",
    "New_length_rdd = warc_rdd_parsed.filter(lambda x: x[0] is not None)\n",
    "\n",
    "length_df = New_length_rdd.map(lambda x: (x[0],)).toDF([\"Length\"])\n",
    "\n",
    "\n"
   ]
  },
  {
   "cell_type": "code",
   "execution_count": 0,
   "metadata": {
    "application/vnd.databricks.v1+cell": {
     "cellMetadata": {
      "byteLimit": 2048000,
      "rowLimit": 10000
     },
     "inputWidgets": {},
     "nuid": "abd3bedb-358b-481a-bee2-6ec6edcc2e55",
     "showTitle": false,
     "title": ""
    }
   },
   "outputs": [
    {
     "output_type": "stream",
     "name": "stdout",
     "output_type": "stream",
     "text": [
      "+------+\n|Length|\n+------+\n|   499|\n|   277|\n| 42587|\n| 42070|\n|   208|\n|   327|\n| 39949|\n| 39528|\n|   202|\n|   295|\n+------+\nonly showing top 10 rows\n\nroot\n |-- Length: long (nullable = true)\n\n"
     ]
    }
   ],
   "source": [
    "# show the first 10 rows of length_df\n",
    "# and print the schema of this DataFrame\n",
    "\n",
    "length_df.show(10)\n",
    "length_df.printSchema()"
   ]
  },
  {
   "cell_type": "code",
   "execution_count": 0,
   "metadata": {
    "application/vnd.databricks.v1+cell": {
     "cellMetadata": {
      "byteLimit": 2048000,
      "rowLimit": 10000
     },
     "inputWidgets": {},
     "nuid": "d220d5dd-819a-48b7-9c7b-8e3f2d93de4d",
     "showTitle": false,
     "title": ""
    }
   },
   "outputs": [],
   "source": [
    "# now for some SQL!\n",
    "# use createOrReplaceTempView to create a view based on length_df\n",
    "# called \"content_length\"\n",
    "\n",
    "length_df.createOrReplaceTempView(\"content_length\")\n"
   ]
  },
  {
   "cell_type": "code",
   "execution_count": 0,
   "metadata": {
    "application/vnd.databricks.v1+cell": {
     "cellMetadata": {
      "byteLimit": 2048000,
      "rowLimit": 10000
     },
     "inputWidgets": {},
     "nuid": "92722ca9-79c6-456c-889d-cb1df5cabf02",
     "showTitle": false,
     "title": ""
    }
   },
   "outputs": [
    {
     "output_type": "stream",
     "name": "stdout",
     "output_type": "stream",
     "text": [
      "+----------------------+\n|average_content_length|\n+----------------------+\n|93421.36533395662     |\n+----------------------+\n\n"
     ]
    }
   ],
   "source": [
    "# use SQL to print out the average content length for pages in this segment of the dataset\n",
    "\n",
    "avg_content_length_query = \"\"\"\n",
    "SELECT AVG(Length) AS average_content_length\n",
    "FROM content_length\n",
    "\"\"\"\n",
    "\n",
    "spark.sql(avg_content_length_query).show(truncate= False)\n"
   ]
  },
  {
   "cell_type": "code",
   "execution_count": 0,
   "metadata": {
    "application/vnd.databricks.v1+cell": {
     "cellMetadata": {
      "byteLimit": 2048000,
      "rowLimit": 10000
     },
     "inputWidgets": {},
     "nuid": "1a72dd35-f052-4589-b9b9-14f404629827",
     "showTitle": false,
     "title": ""
    }
   },
   "outputs": [
    {
     "output_type": "stream",
     "name": "stdout",
     "output_type": "stream",
     "text": [
      "+---------------+---------------+\n|count_above_avg|count_below_avg|\n+---------------+---------------+\n|33732          |124567         |\n+---------------+---------------+\n\n"
     ]
    }
   ],
   "source": [
    "# invent your own question to query from this dataset, or previous DataFrames in this notebook\n",
    "# you may use any methods that you choose to answer the question\n",
    "\n",
    "#Q: How many pages have a content length above and below the average?\n",
    "#Using SQL to calculate content length above and below average.\n",
    "query = \"\"\"\n",
    "WITH AvgLength AS (\n",
    "  SELECT AVG(Length) AS avg_content_length \n",
    "  FROM content_length\n",
    ")\n",
    "SELECT \n",
    "  (SELECT COUNT(*) FROM content_length WHERE Length > (SELECT avg_content_length FROM AvgLength)) AS count_above_avg,\n",
    "  (SELECT COUNT(*) FROM content_length WHERE Length < (SELECT avg_content_length FROM AvgLength)) AS count_below_avg\n",
    "\"\"\"\n",
    "\n",
    "result = spark.sql(query)\n",
    "result.show(truncate=False)\n",
    "\n"
   ]
  },
  {
   "cell_type": "markdown",
   "metadata": {
    "application/vnd.databricks.v1+cell": {
     "cellMetadata": {
      "byteLimit": 2048000,
      "rowLimit": 10000
     },
     "inputWidgets": {},
     "nuid": "29ef4417-6c50-45cc-a665-1322e85990ba",
     "showTitle": false,
     "title": ""
    }
   },
   "source": [
    "✍️  Please **cite any sources** that you used, other than class notes and the Codecademy course, \\\n",
    "to help with or complete this notebook. You should list any websites, tools, videos, etc.!\n",
    "\n",
    "- https://medium.com/@charchitpatidar/how-cache-works-in-apache-spark-aea6eeb3fd03#:~:text=Since%20cache()%20is%20a,RDD%20in%20a%20single%20action.\n",
    "- https://www.freshers.in/article/aws-glue/pyspark-data-processing-in-aws-glue-dataframe-cache/\n",
    "- https://w3schoolls.com/\n"
   ]
  },
  {
   "cell_type": "markdown",
   "metadata": {
    "application/vnd.databricks.v1+cell": {
     "cellMetadata": {
      "byteLimit": 2048000,
      "rowLimit": 10000
     },
     "inputWidgets": {},
     "nuid": "25a12643-dca5-45e6-9257-4a8fd04ba53f",
     "showTitle": false,
     "title": ""
    }
   },
   "source": [
    "🚀 **To submit this assignment,** go to **File -> Export -> HTML.**  \\\n",
    "Upload this file and your Codecademy screenshot using [this form](https://airtable.com/appgQV4bSPRVdHEWt/shrOahNbuss9wxvyN)"
   ]
  }
 ],
 "metadata": {
  "application/vnd.databricks.v1+notebook": {
   "dashboards": [],
   "language": "python",
   "notebookMetadata": {
    "pythonIndentUnit": 4
   },
   "notebookName": "Spark, SQL Programming Assignment by Sajida Malik",
   "widgets": {}
  }
 },
 "nbformat": 4,
 "nbformat_minor": 0
}
